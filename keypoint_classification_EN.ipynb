{
  "cells": [
    {
      "cell_type": "code",
      "execution_count": 1,
      "metadata": {
        "id": "igMyGnjE9hEp"
      },
      "outputs": [
        {
          "name": "stdout",
          "output_type": "stream",
          "text": [
            "WARNING:tensorflow:From C:\\Users\\Abhishek Gupta\\AppData\\Roaming\\Python\\Python311\\site-packages\\keras\\src\\losses.py:2976: The name tf.losses.sparse_softmax_cross_entropy is deprecated. Please use tf.compat.v1.losses.sparse_softmax_cross_entropy instead.\n",
            "\n"
          ]
        }
      ],
      "source": [
        "import csv\n",
        "\n",
        "import numpy as np\n",
        "import tensorflow as tf\n",
        "from sklearn.model_selection import train_test_split\n",
        "\n",
        "RANDOM_SEED = 42"
      ]
    },
    {
      "cell_type": "markdown",
      "metadata": {
        "id": "t2HDvhIu9hEr"
      },
      "source": [
        "# Specify each path"
      ]
    },
    {
      "cell_type": "code",
      "execution_count": 2,
      "metadata": {
        "id": "9NvZP2Zn9hEy"
      },
      "outputs": [],
      "source": [
        "dataset = 'model/keypoint_classifier/keypoint.csv'\n",
        "model_save_path = 'model/keypoint_classifier/keypoint_classifier.hdf5'\n",
        "tflite_save_path = 'model/keypoint_classifier/keypoint_classifier.tflite'"
      ]
    },
    {
      "cell_type": "markdown",
      "metadata": {
        "id": "s5oMH7x19hEz"
      },
      "source": [
        "# Set number of classes"
      ]
    },
    {
      "cell_type": "code",
      "execution_count": 3,
      "metadata": {
        "id": "du4kodXL9hEz"
      },
      "outputs": [],
      "source": [
        "NUM_CLASSES = 6"
      ]
    },
    {
      "cell_type": "markdown",
      "metadata": {
        "id": "XjnL0uso9hEz"
      },
      "source": [
        "# Dataset reading"
      ]
    },
    {
      "cell_type": "code",
      "execution_count": 4,
      "metadata": {
        "id": "QT5ZqtEz9hE0"
      },
      "outputs": [],
      "source": [
        "X_dataset = np.loadtxt(dataset, delimiter=',', dtype='float32', usecols=list(range(1, (21 * 2) + 1)))"
      ]
    },
    {
      "cell_type": "code",
      "execution_count": 5,
      "metadata": {
        "id": "QmoKFsp49hE0"
      },
      "outputs": [],
      "source": [
        "y_dataset = np.loadtxt(dataset, delimiter=',', dtype='int32', usecols=(0))"
      ]
    },
    {
      "cell_type": "code",
      "execution_count": 6,
      "metadata": {
        "id": "xQU7JTZ_9hE0"
      },
      "outputs": [],
      "source": [
        "X_train, X_test, y_train, y_test = train_test_split(X_dataset, y_dataset, train_size=0.75, random_state=RANDOM_SEED)"
      ]
    },
    {
      "cell_type": "markdown",
      "metadata": {
        "id": "mxK_lETT9hE0"
      },
      "source": [
        "# Model building"
      ]
    },
    {
      "cell_type": "code",
      "execution_count": 7,
      "metadata": {
        "id": "vHBmUf1t9hE1"
      },
      "outputs": [
        {
          "name": "stdout",
          "output_type": "stream",
          "text": [
            "WARNING:tensorflow:From C:\\Users\\Abhishek Gupta\\AppData\\Roaming\\Python\\Python311\\site-packages\\keras\\src\\backend.py:1398: The name tf.executing_eagerly_outside_functions is deprecated. Please use tf.compat.v1.executing_eagerly_outside_functions instead.\n",
            "\n"
          ]
        }
      ],
      "source": [
        "model = tf.keras.models.Sequential([\n",
        "    tf.keras.layers.Input((21 * 2, )),\n",
        "    tf.keras.layers.Dropout(0.2),\n",
        "    tf.keras.layers.Dense(20, activation='relu'),\n",
        "    tf.keras.layers.Dropout(0.4),\n",
        "    tf.keras.layers.Dense(10, activation='relu'),\n",
        "    tf.keras.layers.Dense(NUM_CLASSES, activation='softmax')\n",
        "])"
      ]
    },
    {
      "cell_type": "code",
      "execution_count": 8,
      "metadata": {
        "colab": {
          "base_uri": "https://localhost:8080/"
        },
        "id": "ypqky9tc9hE1",
        "outputId": "5db082bb-30e3-4110-bf63-a1ee777ecd46"
      },
      "outputs": [
        {
          "name": "stdout",
          "output_type": "stream",
          "text": [
            "Model: \"sequential\"\n",
            "_________________________________________________________________\n",
            " Layer (type)                Output Shape              Param #   \n",
            "=================================================================\n",
            " dropout (Dropout)           (None, 42)                0         \n",
            "                                                                 \n",
            " dense (Dense)               (None, 20)                860       \n",
            "                                                                 \n",
            " dropout_1 (Dropout)         (None, 20)                0         \n",
            "                                                                 \n",
            " dense_1 (Dense)             (None, 10)                210       \n",
            "                                                                 \n",
            " dense_2 (Dense)             (None, 6)                 66        \n",
            "                                                                 \n",
            "=================================================================\n",
            "Total params: 1136 (4.44 KB)\n",
            "Trainable params: 1136 (4.44 KB)\n",
            "Non-trainable params: 0 (0.00 Byte)\n",
            "_________________________________________________________________\n"
          ]
        }
      ],
      "source": [
        "model.summary()  # tf.keras.utils.plot_model(model, show_shapes=True)"
      ]
    },
    {
      "cell_type": "code",
      "execution_count": 9,
      "metadata": {
        "id": "MbMjOflQ9hE1"
      },
      "outputs": [],
      "source": [
        "# Model checkpoint callback\n",
        "cp_callback = tf.keras.callbacks.ModelCheckpoint(\n",
        "    model_save_path, verbose=1, save_weights_only=False)\n",
        "# Callback for early stopping\n",
        "es_callback = tf.keras.callbacks.EarlyStopping(patience=20, verbose=1)"
      ]
    },
    {
      "cell_type": "code",
      "execution_count": 10,
      "metadata": {
        "id": "c3Dac0M_9hE2"
      },
      "outputs": [
        {
          "name": "stdout",
          "output_type": "stream",
          "text": [
            "WARNING:tensorflow:From C:\\Users\\Abhishek Gupta\\AppData\\Roaming\\Python\\Python311\\site-packages\\keras\\src\\optimizers\\__init__.py:309: The name tf.train.Optimizer is deprecated. Please use tf.compat.v1.train.Optimizer instead.\n",
            "\n"
          ]
        }
      ],
      "source": [
        "# Model compilation\n",
        "model.compile(\n",
        "    optimizer='adam',\n",
        "    loss='sparse_categorical_crossentropy',\n",
        "    metrics=['accuracy']\n",
        ")"
      ]
    },
    {
      "cell_type": "markdown",
      "metadata": {
        "id": "7XI0j1Iu9hE2"
      },
      "source": [
        "# Model training"
      ]
    },
    {
      "cell_type": "code",
      "execution_count": 11,
      "metadata": {
        "colab": {
          "base_uri": "https://localhost:8080/"
        },
        "id": "WirBl-JE9hE3",
        "outputId": "71b30ca2-8294-4d9d-8aa2-800d90d399de",
        "scrolled": true
      },
      "outputs": [
        {
          "name": "stdout",
          "output_type": "stream",
          "text": [
            "Epoch 1/1000\n",
            "WARNING:tensorflow:From C:\\Users\\Abhishek Gupta\\AppData\\Roaming\\Python\\Python311\\site-packages\\keras\\src\\utils\\tf_utils.py:492: The name tf.ragged.RaggedTensorValue is deprecated. Please use tf.compat.v1.ragged.RaggedTensorValue instead.\n",
            "\n",
            "WARNING:tensorflow:From C:\\Users\\Abhishek Gupta\\AppData\\Roaming\\Python\\Python311\\site-packages\\keras\\src\\engine\\base_layer_utils.py:384: The name tf.executing_eagerly_outside_functions is deprecated. Please use tf.compat.v1.executing_eagerly_outside_functions instead.\n",
            "\n",
            "31/31 [==============================] - ETA: 0s - loss: 1.7695 - accuracy: 0.2007\n",
            "Epoch 1: saving model to model/keypoint_classifier\\keypoint_classifier.hdf5\n",
            "31/31 [==============================] - 2s 21ms/step - loss: 1.7695 - accuracy: 0.2007 - val_loss: 1.6823 - val_accuracy: 0.2835\n",
            "Epoch 2/1000\n",
            "20/31 [==================>...........] - ETA: 0s - loss: 1.6758 - accuracy: 0.2785\n",
            "Epoch 2: saving model to model/keypoint_classifier\\keypoint_classifier.hdf5\n"
          ]
        },
        {
          "name": "stderr",
          "output_type": "stream",
          "text": [
            "C:\\Users\\Abhishek Gupta\\AppData\\Roaming\\Python\\Python311\\site-packages\\keras\\src\\engine\\training.py:3103: UserWarning: You are saving your model as an HDF5 file via `model.save()`. This file format is considered legacy. We recommend using instead the native Keras format, e.g. `model.save('my_model.keras')`.\n",
            "  saving_api.save_model(\n"
          ]
        },
        {
          "name": "stdout",
          "output_type": "stream",
          "text": [
            "31/31 [==============================] - 0s 6ms/step - loss: 1.6604 - accuracy: 0.2829 - val_loss: 1.5788 - val_accuracy: 0.3237\n",
            "Epoch 3/1000\n",
            "19/31 [=================>............] - ETA: 0s - loss: 1.5851 - accuracy: 0.3051\n",
            "Epoch 3: saving model to model/keypoint_classifier\\keypoint_classifier.hdf5\n",
            "31/31 [==============================] - 0s 6ms/step - loss: 1.5687 - accuracy: 0.3145 - val_loss: 1.4707 - val_accuracy: 0.3624\n",
            "Epoch 4/1000\n",
            "22/31 [====================>.........] - ETA: 0s - loss: 1.4934 - accuracy: 0.3583\n",
            "Epoch 4: saving model to model/keypoint_classifier\\keypoint_classifier.hdf5\n",
            "31/31 [==============================] - 0s 6ms/step - loss: 1.4884 - accuracy: 0.3589 - val_loss: 1.3997 - val_accuracy: 0.3988\n",
            "Epoch 5/1000\n",
            "22/31 [====================>.........] - ETA: 0s - loss: 1.4486 - accuracy: 0.3782\n",
            "Epoch 5: saving model to model/keypoint_classifier\\keypoint_classifier.hdf5\n",
            "31/31 [==============================] - 0s 6ms/step - loss: 1.4355 - accuracy: 0.3855 - val_loss: 1.3467 - val_accuracy: 0.4223\n",
            "Epoch 6/1000\n",
            "23/31 [=====================>........] - ETA: 0s - loss: 1.3943 - accuracy: 0.4059\n",
            "Epoch 6: saving model to model/keypoint_classifier\\keypoint_classifier.hdf5\n",
            "31/31 [==============================] - 0s 5ms/step - loss: 1.3979 - accuracy: 0.4042 - val_loss: 1.2897 - val_accuracy: 0.4989\n",
            "Epoch 7/1000\n",
            "20/31 [==================>...........] - ETA: 0s - loss: 1.3638 - accuracy: 0.4430\n",
            "Epoch 7: saving model to model/keypoint_classifier\\keypoint_classifier.hdf5\n",
            "31/31 [==============================] - 0s 8ms/step - loss: 1.3589 - accuracy: 0.4454 - val_loss: 1.2387 - val_accuracy: 0.5284\n",
            "Epoch 8/1000\n",
            "18/31 [================>.............] - ETA: 0s - loss: 1.3255 - accuracy: 0.4457\n",
            "Epoch 8: saving model to model/keypoint_classifier\\keypoint_classifier.hdf5\n",
            "31/31 [==============================] - 0s 7ms/step - loss: 1.3098 - accuracy: 0.4603 - val_loss: 1.1899 - val_accuracy: 0.5739\n",
            "Epoch 9/1000\n",
            "19/31 [=================>............] - ETA: 0s - loss: 1.2954 - accuracy: 0.4799\n",
            "Epoch 9: saving model to model/keypoint_classifier\\keypoint_classifier.hdf5\n",
            "31/31 [==============================] - 0s 6ms/step - loss: 1.2700 - accuracy: 0.4909 - val_loss: 1.1329 - val_accuracy: 0.6543\n",
            "Epoch 10/1000\n",
            "16/31 [==============>...............] - ETA: 0s - loss: 1.2536 - accuracy: 0.4858\n",
            "Epoch 10: saving model to model/keypoint_classifier\\keypoint_classifier.hdf5\n",
            "31/31 [==============================] - 0s 6ms/step - loss: 1.2498 - accuracy: 0.4874 - val_loss: 1.0881 - val_accuracy: 0.6732\n",
            "Epoch 11/1000\n",
            "19/31 [=================>............] - ETA: 0s - loss: 1.2258 - accuracy: 0.5070\n",
            "Epoch 11: saving model to model/keypoint_classifier\\keypoint_classifier.hdf5\n",
            "31/31 [==============================] - 0s 6ms/step - loss: 1.2165 - accuracy: 0.5109 - val_loss: 1.0351 - val_accuracy: 0.7127\n",
            "Epoch 12/1000\n",
            "16/31 [==============>...............] - ETA: 0s - loss: 1.1864 - accuracy: 0.5273\n",
            "Epoch 12: saving model to model/keypoint_classifier\\keypoint_classifier.hdf5\n",
            "31/31 [==============================] - 0s 6ms/step - loss: 1.1809 - accuracy: 0.5253 - val_loss: 0.9851 - val_accuracy: 0.7165\n",
            "Epoch 13/1000\n",
            "18/31 [================>.............] - ETA: 0s - loss: 1.1600 - accuracy: 0.5208\n",
            "Epoch 13: saving model to model/keypoint_classifier\\keypoint_classifier.hdf5\n",
            "31/31 [==============================] - 0s 7ms/step - loss: 1.1470 - accuracy: 0.5359 - val_loss: 0.9290 - val_accuracy: 0.7202\n",
            "Epoch 14/1000\n",
            "15/31 [=============>................] - ETA: 0s - loss: 1.1398 - accuracy: 0.5271\n",
            "Epoch 14: saving model to model/keypoint_classifier\\keypoint_classifier.hdf5\n",
            "31/31 [==============================] - 0s 7ms/step - loss: 1.1343 - accuracy: 0.5334 - val_loss: 0.8957 - val_accuracy: 0.7233\n",
            "Epoch 15/1000\n",
            "19/31 [=================>............] - ETA: 0s - loss: 1.1087 - accuracy: 0.5407\n",
            "Epoch 15: saving model to model/keypoint_classifier\\keypoint_classifier.hdf5\n",
            "31/31 [==============================] - 0s 6ms/step - loss: 1.1138 - accuracy: 0.5450 - val_loss: 0.8568 - val_accuracy: 0.7710\n",
            "Epoch 16/1000\n",
            "23/31 [=====================>........] - ETA: 0s - loss: 1.0773 - accuracy: 0.5564\n",
            "Epoch 16: saving model to model/keypoint_classifier\\keypoint_classifier.hdf5\n",
            "31/31 [==============================] - 0s 5ms/step - loss: 1.0718 - accuracy: 0.5602 - val_loss: 0.8138 - val_accuracy: 0.7718\n",
            "Epoch 17/1000\n",
            "17/31 [===============>..............] - ETA: 0s - loss: 1.0796 - accuracy: 0.5685\n",
            "Epoch 17: saving model to model/keypoint_classifier\\keypoint_classifier.hdf5\n",
            "31/31 [==============================] - 0s 6ms/step - loss: 1.0623 - accuracy: 0.5667 - val_loss: 0.7824 - val_accuracy: 0.7809\n",
            "Epoch 18/1000\n",
            "24/31 [======================>.......] - ETA: 0s - loss: 1.0341 - accuracy: 0.5918\n",
            "Epoch 18: saving model to model/keypoint_classifier\\keypoint_classifier.hdf5\n",
            "31/31 [==============================] - 0s 6ms/step - loss: 1.0265 - accuracy: 0.5943 - val_loss: 0.7474 - val_accuracy: 0.7908\n",
            "Epoch 19/1000\n",
            "16/31 [==============>...............] - ETA: 0s - loss: 1.0262 - accuracy: 0.5771\n",
            "Epoch 19: saving model to model/keypoint_classifier\\keypoint_classifier.hdf5\n",
            "31/31 [==============================] - 0s 8ms/step - loss: 1.0052 - accuracy: 0.5940 - val_loss: 0.7179 - val_accuracy: 0.8036\n",
            "Epoch 20/1000\n",
            "17/31 [===============>..............] - ETA: 0s - loss: 0.9856 - accuracy: 0.6131\n",
            "Epoch 20: saving model to model/keypoint_classifier\\keypoint_classifier.hdf5\n",
            "31/31 [==============================] - 0s 8ms/step - loss: 0.9927 - accuracy: 0.5961 - val_loss: 0.6887 - val_accuracy: 0.8112\n",
            "Epoch 21/1000\n",
            "17/31 [===============>..............] - ETA: 0s - loss: 0.9771 - accuracy: 0.6094\n",
            "Epoch 21: saving model to model/keypoint_classifier\\keypoint_classifier.hdf5\n",
            "31/31 [==============================] - 0s 8ms/step - loss: 0.9724 - accuracy: 0.6143 - val_loss: 0.6719 - val_accuracy: 0.8105\n",
            "Epoch 22/1000\n",
            "31/31 [==============================] - ETA: 0s - loss: 0.9661 - accuracy: 0.6122\n",
            "Epoch 22: saving model to model/keypoint_classifier\\keypoint_classifier.hdf5\n",
            "31/31 [==============================] - 0s 8ms/step - loss: 0.9661 - accuracy: 0.6122 - val_loss: 0.6474 - val_accuracy: 0.8332\n",
            "Epoch 23/1000\n",
            "31/31 [==============================] - ETA: 0s - loss: 0.9447 - accuracy: 0.6229\n",
            "Epoch 23: saving model to model/keypoint_classifier\\keypoint_classifier.hdf5\n",
            "31/31 [==============================] - 0s 8ms/step - loss: 0.9447 - accuracy: 0.6229 - val_loss: 0.6321 - val_accuracy: 0.8355\n",
            "Epoch 24/1000\n",
            "17/31 [===============>..............] - ETA: 0s - loss: 0.9477 - accuracy: 0.6213\n",
            "Epoch 24: saving model to model/keypoint_classifier\\keypoint_classifier.hdf5\n",
            "31/31 [==============================] - 0s 9ms/step - loss: 0.9510 - accuracy: 0.6160 - val_loss: 0.6140 - val_accuracy: 0.8469\n",
            "Epoch 25/1000\n",
            "17/31 [===============>..............] - ETA: 0s - loss: 0.9181 - accuracy: 0.6319\n",
            "Epoch 25: saving model to model/keypoint_classifier\\keypoint_classifier.hdf5\n",
            "31/31 [==============================] - 0s 8ms/step - loss: 0.9275 - accuracy: 0.6251 - val_loss: 0.5982 - val_accuracy: 0.8408\n",
            "Epoch 26/1000\n",
            "16/31 [==============>...............] - ETA: 0s - loss: 0.9272 - accuracy: 0.6294\n",
            "Epoch 26: saving model to model/keypoint_classifier\\keypoint_classifier.hdf5\n",
            "31/31 [==============================] - 0s 6ms/step - loss: 0.9130 - accuracy: 0.6340 - val_loss: 0.5738 - val_accuracy: 0.8673\n",
            "Epoch 27/1000\n",
            "21/31 [===================>..........] - ETA: 0s - loss: 0.9170 - accuracy: 0.6324\n",
            "Epoch 27: saving model to model/keypoint_classifier\\keypoint_classifier.hdf5\n",
            "31/31 [==============================] - 0s 6ms/step - loss: 0.9173 - accuracy: 0.6327 - val_loss: 0.5649 - val_accuracy: 0.8650\n",
            "Epoch 28/1000\n",
            "23/31 [=====================>........] - ETA: 0s - loss: 0.9170 - accuracy: 0.6386\n",
            "Epoch 28: saving model to model/keypoint_classifier\\keypoint_classifier.hdf5\n",
            "31/31 [==============================] - 0s 6ms/step - loss: 0.9007 - accuracy: 0.6441 - val_loss: 0.5510 - val_accuracy: 0.8696\n",
            "Epoch 29/1000\n",
            "16/31 [==============>...............] - ETA: 0s - loss: 0.8814 - accuracy: 0.6509\n",
            "Epoch 29: saving model to model/keypoint_classifier\\keypoint_classifier.hdf5\n",
            "31/31 [==============================] - 0s 6ms/step - loss: 0.8648 - accuracy: 0.6587 - val_loss: 0.5320 - val_accuracy: 0.8787\n",
            "Epoch 30/1000\n",
            "19/31 [=================>............] - ETA: 0s - loss: 0.8505 - accuracy: 0.6657\n",
            "Epoch 30: saving model to model/keypoint_classifier\\keypoint_classifier.hdf5\n",
            "31/31 [==============================] - 0s 6ms/step - loss: 0.8708 - accuracy: 0.6562 - val_loss: 0.5198 - val_accuracy: 0.8893\n",
            "Epoch 31/1000\n",
            "22/31 [====================>.........] - ETA: 0s - loss: 0.8485 - accuracy: 0.6729\n",
            "Epoch 31: saving model to model/keypoint_classifier\\keypoint_classifier.hdf5\n",
            "31/31 [==============================] - 0s 7ms/step - loss: 0.8486 - accuracy: 0.6747 - val_loss: 0.5098 - val_accuracy: 0.8840\n",
            "Epoch 32/1000\n",
            "17/31 [===============>..............] - ETA: 0s - loss: 0.8741 - accuracy: 0.6590\n",
            "Epoch 32: saving model to model/keypoint_classifier\\keypoint_classifier.hdf5\n",
            "31/31 [==============================] - 0s 7ms/step - loss: 0.8661 - accuracy: 0.6643 - val_loss: 0.4991 - val_accuracy: 0.8931\n",
            "Epoch 33/1000\n",
            "17/31 [===============>..............] - ETA: 0s - loss: 0.8608 - accuracy: 0.6820\n",
            "Epoch 33: saving model to model/keypoint_classifier\\keypoint_classifier.hdf5\n",
            "31/31 [==============================] - 0s 6ms/step - loss: 0.8556 - accuracy: 0.6805 - val_loss: 0.4962 - val_accuracy: 0.8886\n",
            "Epoch 34/1000\n",
            "14/31 [============>.................] - ETA: 0s - loss: 0.8367 - accuracy: 0.6752\n",
            "Epoch 34: saving model to model/keypoint_classifier\\keypoint_classifier.hdf5\n",
            "31/31 [==============================] - 0s 7ms/step - loss: 0.8478 - accuracy: 0.6684 - val_loss: 0.4890 - val_accuracy: 0.8863\n",
            "Epoch 35/1000\n",
            "21/31 [===================>..........] - ETA: 0s - loss: 0.8237 - accuracy: 0.6793\n",
            "Epoch 35: saving model to model/keypoint_classifier\\keypoint_classifier.hdf5\n",
            "31/31 [==============================] - 0s 6ms/step - loss: 0.8232 - accuracy: 0.6810 - val_loss: 0.4731 - val_accuracy: 0.8923\n",
            "Epoch 36/1000\n",
            "18/31 [================>.............] - ETA: 0s - loss: 0.8389 - accuracy: 0.6858\n",
            "Epoch 36: saving model to model/keypoint_classifier\\keypoint_classifier.hdf5\n",
            "31/31 [==============================] - 0s 6ms/step - loss: 0.8520 - accuracy: 0.6777 - val_loss: 0.4718 - val_accuracy: 0.8916\n",
            "Epoch 37/1000\n",
            "23/31 [=====================>........] - ETA: 0s - loss: 0.8191 - accuracy: 0.6855\n",
            "Epoch 37: saving model to model/keypoint_classifier\\keypoint_classifier.hdf5\n",
            "31/31 [==============================] - 0s 7ms/step - loss: 0.8283 - accuracy: 0.6795 - val_loss: 0.4707 - val_accuracy: 0.8976\n",
            "Epoch 38/1000\n",
            "19/31 [=================>............] - ETA: 0s - loss: 0.8348 - accuracy: 0.6846\n",
            "Epoch 38: saving model to model/keypoint_classifier\\keypoint_classifier.hdf5\n",
            "31/31 [==============================] - 0s 6ms/step - loss: 0.8221 - accuracy: 0.6911 - val_loss: 0.4569 - val_accuracy: 0.8992\n",
            "Epoch 39/1000\n",
            "19/31 [=================>............] - ETA: 0s - loss: 0.8223 - accuracy: 0.6797\n",
            "Epoch 39: saving model to model/keypoint_classifier\\keypoint_classifier.hdf5\n",
            "31/31 [==============================] - 0s 7ms/step - loss: 0.8172 - accuracy: 0.6845 - val_loss: 0.4449 - val_accuracy: 0.9113\n",
            "Epoch 40/1000\n",
            "16/31 [==============>...............] - ETA: 0s - loss: 0.7970 - accuracy: 0.6997\n",
            "Epoch 40: saving model to model/keypoint_classifier\\keypoint_classifier.hdf5\n",
            "31/31 [==============================] - 0s 7ms/step - loss: 0.7869 - accuracy: 0.7037 - val_loss: 0.4427 - val_accuracy: 0.9014\n",
            "Epoch 41/1000\n",
            "31/31 [==============================] - ETA: 0s - loss: 0.7945 - accuracy: 0.6914\n",
            "Epoch 41: saving model to model/keypoint_classifier\\keypoint_classifier.hdf5\n",
            "31/31 [==============================] - 0s 7ms/step - loss: 0.7945 - accuracy: 0.6914 - val_loss: 0.4371 - val_accuracy: 0.9014\n",
            "Epoch 42/1000\n",
            "21/31 [===================>..........] - ETA: 0s - loss: 0.7847 - accuracy: 0.6935\n",
            "Epoch 42: saving model to model/keypoint_classifier\\keypoint_classifier.hdf5\n",
            "31/31 [==============================] - 0s 6ms/step - loss: 0.8017 - accuracy: 0.6911 - val_loss: 0.4308 - val_accuracy: 0.9075\n",
            "Epoch 43/1000\n",
            "16/31 [==============>...............] - ETA: 0s - loss: 0.7931 - accuracy: 0.6963\n",
            "Epoch 43: saving model to model/keypoint_classifier\\keypoint_classifier.hdf5\n",
            "31/31 [==============================] - 0s 7ms/step - loss: 0.7788 - accuracy: 0.7005 - val_loss: 0.4136 - val_accuracy: 0.9166\n",
            "Epoch 44/1000\n",
            "17/31 [===============>..............] - ETA: 0s - loss: 0.7804 - accuracy: 0.6981\n",
            "Epoch 44: saving model to model/keypoint_classifier\\keypoint_classifier.hdf5\n",
            "31/31 [==============================] - 0s 8ms/step - loss: 0.7847 - accuracy: 0.6992 - val_loss: 0.4154 - val_accuracy: 0.9083\n",
            "Epoch 45/1000\n",
            "30/31 [============================>.] - ETA: 0s - loss: 0.7766 - accuracy: 0.7049\n",
            "Epoch 45: saving model to model/keypoint_classifier\\keypoint_classifier.hdf5\n",
            "31/31 [==============================] - 0s 9ms/step - loss: 0.7760 - accuracy: 0.7055 - val_loss: 0.4054 - val_accuracy: 0.9128\n",
            "Epoch 46/1000\n",
            "31/31 [==============================] - ETA: 0s - loss: 0.7719 - accuracy: 0.7060\n",
            "Epoch 46: saving model to model/keypoint_classifier\\keypoint_classifier.hdf5\n",
            "31/31 [==============================] - 0s 9ms/step - loss: 0.7719 - accuracy: 0.7060 - val_loss: 0.4035 - val_accuracy: 0.9166\n",
            "Epoch 47/1000\n",
            "31/31 [==============================] - ETA: 0s - loss: 0.7858 - accuracy: 0.7017\n",
            "Epoch 47: saving model to model/keypoint_classifier\\keypoint_classifier.hdf5\n",
            "31/31 [==============================] - 0s 8ms/step - loss: 0.7858 - accuracy: 0.7017 - val_loss: 0.3995 - val_accuracy: 0.9158\n",
            "Epoch 48/1000\n",
            "23/31 [=====================>........] - ETA: 0s - loss: 0.7648 - accuracy: 0.7120\n",
            "Epoch 48: saving model to model/keypoint_classifier\\keypoint_classifier.hdf5\n",
            "31/31 [==============================] - 0s 6ms/step - loss: 0.7690 - accuracy: 0.7103 - val_loss: 0.3989 - val_accuracy: 0.9121\n",
            "Epoch 49/1000\n",
            "20/31 [==================>...........] - ETA: 0s - loss: 0.7683 - accuracy: 0.7012\n",
            "Epoch 49: saving model to model/keypoint_classifier\\keypoint_classifier.hdf5\n",
            "31/31 [==============================] - 0s 6ms/step - loss: 0.7752 - accuracy: 0.6967 - val_loss: 0.4050 - val_accuracy: 0.9052\n",
            "Epoch 50/1000\n",
            "23/31 [=====================>........] - ETA: 0s - loss: 0.7652 - accuracy: 0.7113\n",
            "Epoch 50: saving model to model/keypoint_classifier\\keypoint_classifier.hdf5\n",
            "31/31 [==============================] - 0s 6ms/step - loss: 0.7649 - accuracy: 0.7126 - val_loss: 0.3946 - val_accuracy: 0.9196\n",
            "Epoch 51/1000\n",
            "23/31 [=====================>........] - ETA: 0s - loss: 0.7619 - accuracy: 0.7137\n",
            "Epoch 51: saving model to model/keypoint_classifier\\keypoint_classifier.hdf5\n",
            "31/31 [==============================] - 0s 6ms/step - loss: 0.7633 - accuracy: 0.7116 - val_loss: 0.3902 - val_accuracy: 0.9136\n",
            "Epoch 52/1000\n",
            "22/31 [====================>.........] - ETA: 0s - loss: 0.7450 - accuracy: 0.7241\n",
            "Epoch 52: saving model to model/keypoint_classifier\\keypoint_classifier.hdf5\n",
            "31/31 [==============================] - 0s 6ms/step - loss: 0.7415 - accuracy: 0.7267 - val_loss: 0.3797 - val_accuracy: 0.9196\n",
            "Epoch 53/1000\n",
            "22/31 [====================>.........] - ETA: 0s - loss: 0.7275 - accuracy: 0.7273\n",
            "Epoch 53: saving model to model/keypoint_classifier\\keypoint_classifier.hdf5\n",
            "31/31 [==============================] - 0s 7ms/step - loss: 0.7261 - accuracy: 0.7257 - val_loss: 0.3659 - val_accuracy: 0.9265\n",
            "Epoch 54/1000\n",
            "17/31 [===============>..............] - ETA: 0s - loss: 0.7314 - accuracy: 0.7394\n",
            "Epoch 54: saving model to model/keypoint_classifier\\keypoint_classifier.hdf5\n",
            "31/31 [==============================] - 0s 7ms/step - loss: 0.7375 - accuracy: 0.7356 - val_loss: 0.3677 - val_accuracy: 0.9212\n",
            "Epoch 55/1000\n",
            "15/31 [=============>................] - ETA: 0s - loss: 0.7368 - accuracy: 0.7224\n",
            "Epoch 55: saving model to model/keypoint_classifier\\keypoint_classifier.hdf5\n",
            "31/31 [==============================] - 0s 8ms/step - loss: 0.7576 - accuracy: 0.7133 - val_loss: 0.3722 - val_accuracy: 0.9257\n",
            "Epoch 56/1000\n",
            "19/31 [=================>............] - ETA: 0s - loss: 0.7512 - accuracy: 0.7155\n",
            "Epoch 56: saving model to model/keypoint_classifier\\keypoint_classifier.hdf5\n",
            "31/31 [==============================] - 0s 7ms/step - loss: 0.7469 - accuracy: 0.7171 - val_loss: 0.3643 - val_accuracy: 0.9348\n",
            "Epoch 57/1000\n",
            "17/31 [===============>..............] - ETA: 0s - loss: 0.7245 - accuracy: 0.7279\n",
            "Epoch 57: saving model to model/keypoint_classifier\\keypoint_classifier.hdf5\n",
            "31/31 [==============================] - 0s 7ms/step - loss: 0.7350 - accuracy: 0.7265 - val_loss: 0.3656 - val_accuracy: 0.9318\n",
            "Epoch 58/1000\n",
            "18/31 [================>.............] - ETA: 0s - loss: 0.7313 - accuracy: 0.7396\n",
            "Epoch 58: saving model to model/keypoint_classifier\\keypoint_classifier.hdf5\n",
            "31/31 [==============================] - 0s 8ms/step - loss: 0.7226 - accuracy: 0.7394 - val_loss: 0.3540 - val_accuracy: 0.9280\n",
            "Epoch 59/1000\n",
            "27/31 [=========================>....] - ETA: 0s - loss: 0.7358 - accuracy: 0.7234\n",
            "Epoch 59: saving model to model/keypoint_classifier\\keypoint_classifier.hdf5\n",
            "31/31 [==============================] - 0s 9ms/step - loss: 0.7302 - accuracy: 0.7267 - val_loss: 0.3570 - val_accuracy: 0.9280\n",
            "Epoch 60/1000\n",
            "21/31 [===================>..........] - ETA: 0s - loss: 0.7240 - accuracy: 0.7381\n",
            "Epoch 60: saving model to model/keypoint_classifier\\keypoint_classifier.hdf5\n",
            "31/31 [==============================] - 0s 6ms/step - loss: 0.7212 - accuracy: 0.7351 - val_loss: 0.3570 - val_accuracy: 0.9287\n",
            "Epoch 61/1000\n",
            "23/31 [=====================>........] - ETA: 0s - loss: 0.7167 - accuracy: 0.7412\n",
            "Epoch 61: saving model to model/keypoint_classifier\\keypoint_classifier.hdf5\n",
            "31/31 [==============================] - 0s 6ms/step - loss: 0.7199 - accuracy: 0.7336 - val_loss: 0.3517 - val_accuracy: 0.9333\n",
            "Epoch 62/1000\n",
            "21/31 [===================>..........] - ETA: 0s - loss: 0.7150 - accuracy: 0.7385\n",
            "Epoch 62: saving model to model/keypoint_classifier\\keypoint_classifier.hdf5\n",
            "31/31 [==============================] - 0s 6ms/step - loss: 0.7234 - accuracy: 0.7300 - val_loss: 0.3485 - val_accuracy: 0.9386\n",
            "Epoch 63/1000\n",
            "22/31 [====================>.........] - ETA: 0s - loss: 0.7339 - accuracy: 0.7312\n",
            "Epoch 63: saving model to model/keypoint_classifier\\keypoint_classifier.hdf5\n",
            "31/31 [==============================] - 0s 6ms/step - loss: 0.7228 - accuracy: 0.7326 - val_loss: 0.3477 - val_accuracy: 0.9386\n",
            "Epoch 64/1000\n",
            "23/31 [=====================>........] - ETA: 0s - loss: 0.7291 - accuracy: 0.7283\n",
            "Epoch 64: saving model to model/keypoint_classifier\\keypoint_classifier.hdf5\n",
            "31/31 [==============================] - 0s 6ms/step - loss: 0.7214 - accuracy: 0.7318 - val_loss: 0.3427 - val_accuracy: 0.9371\n",
            "Epoch 65/1000\n",
            "22/31 [====================>.........] - ETA: 0s - loss: 0.7229 - accuracy: 0.7319\n",
            "Epoch 65: saving model to model/keypoint_classifier\\keypoint_classifier.hdf5\n",
            "31/31 [==============================] - 0s 6ms/step - loss: 0.7197 - accuracy: 0.7346 - val_loss: 0.3465 - val_accuracy: 0.9371\n",
            "Epoch 66/1000\n",
            "22/31 [====================>.........] - ETA: 0s - loss: 0.7170 - accuracy: 0.7365\n",
            "Epoch 66: saving model to model/keypoint_classifier\\keypoint_classifier.hdf5\n",
            "31/31 [==============================] - 0s 6ms/step - loss: 0.7263 - accuracy: 0.7363 - val_loss: 0.3412 - val_accuracy: 0.9424\n",
            "Epoch 67/1000\n",
            "26/31 [========================>.....] - ETA: 0s - loss: 0.6941 - accuracy: 0.7431\n",
            "Epoch 67: saving model to model/keypoint_classifier\\keypoint_classifier.hdf5\n",
            "31/31 [==============================] - 0s 6ms/step - loss: 0.6854 - accuracy: 0.7444 - val_loss: 0.3365 - val_accuracy: 0.9447\n",
            "Epoch 68/1000\n",
            "18/31 [================>.............] - ETA: 0s - loss: 0.6965 - accuracy: 0.7387\n",
            "Epoch 68: saving model to model/keypoint_classifier\\keypoint_classifier.hdf5\n",
            "31/31 [==============================] - 0s 6ms/step - loss: 0.6868 - accuracy: 0.7472 - val_loss: 0.3316 - val_accuracy: 0.9401\n",
            "Epoch 69/1000\n",
            "22/31 [====================>.........] - ETA: 0s - loss: 0.7195 - accuracy: 0.7340\n",
            "Epoch 69: saving model to model/keypoint_classifier\\keypoint_classifier.hdf5\n",
            "31/31 [==============================] - 0s 6ms/step - loss: 0.7233 - accuracy: 0.7336 - val_loss: 0.3340 - val_accuracy: 0.9401\n",
            "Epoch 70/1000\n",
            "21/31 [===================>..........] - ETA: 0s - loss: 0.7130 - accuracy: 0.7310\n",
            "Epoch 70: saving model to model/keypoint_classifier\\keypoint_classifier.hdf5\n",
            "31/31 [==============================] - 0s 6ms/step - loss: 0.7103 - accuracy: 0.7293 - val_loss: 0.3270 - val_accuracy: 0.9401\n",
            "Epoch 71/1000\n",
            "19/31 [=================>............] - ETA: 0s - loss: 0.6971 - accuracy: 0.7311\n",
            "Epoch 71: saving model to model/keypoint_classifier\\keypoint_classifier.hdf5\n",
            "31/31 [==============================] - 0s 7ms/step - loss: 0.7034 - accuracy: 0.7288 - val_loss: 0.3322 - val_accuracy: 0.9424\n",
            "Epoch 72/1000\n",
            "19/31 [=================>............] - ETA: 0s - loss: 0.6924 - accuracy: 0.7430\n",
            "Epoch 72: saving model to model/keypoint_classifier\\keypoint_classifier.hdf5\n",
            "31/31 [==============================] - 0s 7ms/step - loss: 0.7084 - accuracy: 0.7336 - val_loss: 0.3310 - val_accuracy: 0.9393\n",
            "Epoch 73/1000\n",
            "21/31 [===================>..........] - ETA: 0s - loss: 0.7127 - accuracy: 0.7403\n",
            "Epoch 73: saving model to model/keypoint_classifier\\keypoint_classifier.hdf5\n",
            "31/31 [==============================] - 0s 6ms/step - loss: 0.7134 - accuracy: 0.7376 - val_loss: 0.3327 - val_accuracy: 0.9356\n",
            "Epoch 74/1000\n",
            "16/31 [==============>...............] - ETA: 0s - loss: 0.6804 - accuracy: 0.7524\n",
            "Epoch 74: saving model to model/keypoint_classifier\\keypoint_classifier.hdf5\n",
            "31/31 [==============================] - 0s 7ms/step - loss: 0.6832 - accuracy: 0.7556 - val_loss: 0.3338 - val_accuracy: 0.9409\n",
            "Epoch 75/1000\n",
            "17/31 [===============>..............] - ETA: 0s - loss: 0.7063 - accuracy: 0.7417\n",
            "Epoch 75: saving model to model/keypoint_classifier\\keypoint_classifier.hdf5\n",
            "31/31 [==============================] - 0s 6ms/step - loss: 0.6909 - accuracy: 0.7482 - val_loss: 0.3241 - val_accuracy: 0.9378\n",
            "Epoch 76/1000\n",
            "20/31 [==================>...........] - ETA: 0s - loss: 0.6710 - accuracy: 0.7437\n",
            "Epoch 76: saving model to model/keypoint_classifier\\keypoint_classifier.hdf5\n",
            "31/31 [==============================] - 0s 6ms/step - loss: 0.6818 - accuracy: 0.7419 - val_loss: 0.3214 - val_accuracy: 0.9454\n",
            "Epoch 77/1000\n",
            "19/31 [=================>............] - ETA: 0s - loss: 0.7181 - accuracy: 0.7311\n",
            "Epoch 77: saving model to model/keypoint_classifier\\keypoint_classifier.hdf5\n",
            "31/31 [==============================] - 0s 6ms/step - loss: 0.7054 - accuracy: 0.7366 - val_loss: 0.3240 - val_accuracy: 0.9424\n",
            "Epoch 78/1000\n",
            "21/31 [===================>..........] - ETA: 0s - loss: 0.7132 - accuracy: 0.7340\n",
            "Epoch 78: saving model to model/keypoint_classifier\\keypoint_classifier.hdf5\n",
            "31/31 [==============================] - 0s 6ms/step - loss: 0.7108 - accuracy: 0.7300 - val_loss: 0.3291 - val_accuracy: 0.9386\n",
            "Epoch 79/1000\n",
            "17/31 [===============>..............] - ETA: 0s - loss: 0.6778 - accuracy: 0.7486\n",
            "Epoch 79: saving model to model/keypoint_classifier\\keypoint_classifier.hdf5\n",
            "31/31 [==============================] - 0s 8ms/step - loss: 0.6665 - accuracy: 0.7563 - val_loss: 0.3194 - val_accuracy: 0.9447\n",
            "Epoch 80/1000\n",
            "18/31 [================>.............] - ETA: 0s - loss: 0.6820 - accuracy: 0.7530\n",
            "Epoch 80: saving model to model/keypoint_classifier\\keypoint_classifier.hdf5\n",
            "31/31 [==============================] - 0s 6ms/step - loss: 0.6893 - accuracy: 0.7475 - val_loss: 0.3194 - val_accuracy: 0.9454\n",
            "Epoch 81/1000\n",
            "24/31 [======================>.......] - ETA: 0s - loss: 0.6721 - accuracy: 0.7526\n",
            "Epoch 81: saving model to model/keypoint_classifier\\keypoint_classifier.hdf5\n",
            "31/31 [==============================] - 0s 6ms/step - loss: 0.6749 - accuracy: 0.7530 - val_loss: 0.3172 - val_accuracy: 0.9431\n",
            "Epoch 82/1000\n",
            "21/31 [===================>..........] - ETA: 0s - loss: 0.6874 - accuracy: 0.7485\n",
            "Epoch 82: saving model to model/keypoint_classifier\\keypoint_classifier.hdf5\n",
            "31/31 [==============================] - 0s 6ms/step - loss: 0.6914 - accuracy: 0.7472 - val_loss: 0.3188 - val_accuracy: 0.9424\n",
            "Epoch 83/1000\n",
            "20/31 [==================>...........] - ETA: 0s - loss: 0.6907 - accuracy: 0.7453\n",
            "Epoch 83: saving model to model/keypoint_classifier\\keypoint_classifier.hdf5\n",
            "31/31 [==============================] - 0s 7ms/step - loss: 0.6864 - accuracy: 0.7465 - val_loss: 0.3231 - val_accuracy: 0.9409\n",
            "Epoch 84/1000\n",
            "18/31 [================>.............] - ETA: 0s - loss: 0.6822 - accuracy: 0.7413\n",
            "Epoch 84: saving model to model/keypoint_classifier\\keypoint_classifier.hdf5\n",
            "31/31 [==============================] - 0s 7ms/step - loss: 0.6729 - accuracy: 0.7465 - val_loss: 0.3162 - val_accuracy: 0.9424\n",
            "Epoch 85/1000\n",
            "16/31 [==============>...............] - ETA: 0s - loss: 0.6640 - accuracy: 0.7549\n",
            "Epoch 85: saving model to model/keypoint_classifier\\keypoint_classifier.hdf5\n",
            "31/31 [==============================] - 0s 7ms/step - loss: 0.6660 - accuracy: 0.7505 - val_loss: 0.3227 - val_accuracy: 0.9363\n",
            "Epoch 86/1000\n",
            "21/31 [===================>..........] - ETA: 0s - loss: 0.7072 - accuracy: 0.7333\n",
            "Epoch 86: saving model to model/keypoint_classifier\\keypoint_classifier.hdf5\n",
            "31/31 [==============================] - 0s 7ms/step - loss: 0.6905 - accuracy: 0.7442 - val_loss: 0.3139 - val_accuracy: 0.9454\n",
            "Epoch 87/1000\n",
            "18/31 [================>.............] - ETA: 0s - loss: 0.6511 - accuracy: 0.7674\n",
            "Epoch 87: saving model to model/keypoint_classifier\\keypoint_classifier.hdf5\n",
            "31/31 [==============================] - 0s 6ms/step - loss: 0.6603 - accuracy: 0.7652 - val_loss: 0.3104 - val_accuracy: 0.9416\n",
            "Epoch 88/1000\n",
            "14/31 [============>.................] - ETA: 0s - loss: 0.6903 - accuracy: 0.7506\n",
            "Epoch 88: saving model to model/keypoint_classifier\\keypoint_classifier.hdf5\n",
            "31/31 [==============================] - 0s 7ms/step - loss: 0.6680 - accuracy: 0.7571 - val_loss: 0.3098 - val_accuracy: 0.9393\n",
            "Epoch 89/1000\n",
            "20/31 [==================>...........] - ETA: 0s - loss: 0.6619 - accuracy: 0.7531\n",
            "Epoch 89: saving model to model/keypoint_classifier\\keypoint_classifier.hdf5\n",
            "31/31 [==============================] - 0s 7ms/step - loss: 0.6676 - accuracy: 0.7429 - val_loss: 0.3122 - val_accuracy: 0.9469\n",
            "Epoch 90/1000\n",
            "16/31 [==============>...............] - ETA: 0s - loss: 0.6833 - accuracy: 0.7456\n",
            "Epoch 90: saving model to model/keypoint_classifier\\keypoint_classifier.hdf5\n",
            "31/31 [==============================] - 0s 8ms/step - loss: 0.6761 - accuracy: 0.7475 - val_loss: 0.3067 - val_accuracy: 0.9409\n",
            "Epoch 91/1000\n",
            "31/31 [==============================] - ETA: 0s - loss: 0.6559 - accuracy: 0.7583\n",
            "Epoch 91: saving model to model/keypoint_classifier\\keypoint_classifier.hdf5\n",
            "31/31 [==============================] - 0s 10ms/step - loss: 0.6559 - accuracy: 0.7583 - val_loss: 0.3045 - val_accuracy: 0.9454\n",
            "Epoch 92/1000\n",
            "26/31 [========================>.....] - ETA: 0s - loss: 0.6867 - accuracy: 0.7455\n",
            "Epoch 92: saving model to model/keypoint_classifier\\keypoint_classifier.hdf5\n",
            "31/31 [==============================] - 0s 10ms/step - loss: 0.6782 - accuracy: 0.7480 - val_loss: 0.3019 - val_accuracy: 0.9515\n",
            "Epoch 93/1000\n",
            "27/31 [=========================>....] - ETA: 0s - loss: 0.6569 - accuracy: 0.7622\n",
            "Epoch 93: saving model to model/keypoint_classifier\\keypoint_classifier.hdf5\n",
            "31/31 [==============================] - 0s 9ms/step - loss: 0.6634 - accuracy: 0.7601 - val_loss: 0.2999 - val_accuracy: 0.9500\n",
            "Epoch 94/1000\n",
            "18/31 [================>.............] - ETA: 0s - loss: 0.6481 - accuracy: 0.7617\n",
            "Epoch 94: saving model to model/keypoint_classifier\\keypoint_classifier.hdf5\n",
            "31/31 [==============================] - 0s 7ms/step - loss: 0.6671 - accuracy: 0.7578 - val_loss: 0.2988 - val_accuracy: 0.9507\n",
            "Epoch 95/1000\n",
            "16/31 [==============>...............] - ETA: 0s - loss: 0.6564 - accuracy: 0.7554\n",
            "Epoch 95: saving model to model/keypoint_classifier\\keypoint_classifier.hdf5\n",
            "31/31 [==============================] - 0s 8ms/step - loss: 0.6584 - accuracy: 0.7573 - val_loss: 0.3025 - val_accuracy: 0.9477\n",
            "Epoch 96/1000\n",
            "30/31 [============================>.] - ETA: 0s - loss: 0.6617 - accuracy: 0.7536\n",
            "Epoch 96: saving model to model/keypoint_classifier\\keypoint_classifier.hdf5\n",
            "31/31 [==============================] - 0s 9ms/step - loss: 0.6627 - accuracy: 0.7556 - val_loss: 0.2997 - val_accuracy: 0.9484\n",
            "Epoch 97/1000\n",
            "23/31 [=====================>........] - ETA: 0s - loss: 0.6603 - accuracy: 0.7649\n",
            "Epoch 97: saving model to model/keypoint_classifier\\keypoint_classifier.hdf5\n",
            "31/31 [==============================] - 0s 6ms/step - loss: 0.6520 - accuracy: 0.7687 - val_loss: 0.3003 - val_accuracy: 0.9507\n",
            "Epoch 98/1000\n",
            "20/31 [==================>...........] - ETA: 0s - loss: 0.6628 - accuracy: 0.7523\n",
            "Epoch 98: saving model to model/keypoint_classifier\\keypoint_classifier.hdf5\n",
            "31/31 [==============================] - 0s 6ms/step - loss: 0.6647 - accuracy: 0.7568 - val_loss: 0.3134 - val_accuracy: 0.9462\n",
            "Epoch 99/1000\n",
            "20/31 [==================>...........] - ETA: 0s - loss: 0.6708 - accuracy: 0.7602\n",
            "Epoch 99: saving model to model/keypoint_classifier\\keypoint_classifier.hdf5\n",
            "31/31 [==============================] - 0s 7ms/step - loss: 0.6672 - accuracy: 0.7566 - val_loss: 0.3007 - val_accuracy: 0.9431\n",
            "Epoch 100/1000\n",
            "20/31 [==================>...........] - ETA: 0s - loss: 0.6380 - accuracy: 0.7613\n",
            "Epoch 100: saving model to model/keypoint_classifier\\keypoint_classifier.hdf5\n",
            "31/31 [==============================] - 0s 7ms/step - loss: 0.6535 - accuracy: 0.7573 - val_loss: 0.2954 - val_accuracy: 0.9507\n",
            "Epoch 101/1000\n",
            "18/31 [================>.............] - ETA: 0s - loss: 0.6345 - accuracy: 0.7652\n",
            "Epoch 101: saving model to model/keypoint_classifier\\keypoint_classifier.hdf5\n",
            "31/31 [==============================] - 0s 6ms/step - loss: 0.6343 - accuracy: 0.7644 - val_loss: 0.2986 - val_accuracy: 0.9500\n",
            "Epoch 102/1000\n",
            "22/31 [====================>.........] - ETA: 0s - loss: 0.6772 - accuracy: 0.7592\n",
            "Epoch 102: saving model to model/keypoint_classifier\\keypoint_classifier.hdf5\n",
            "31/31 [==============================] - 0s 6ms/step - loss: 0.6668 - accuracy: 0.7624 - val_loss: 0.3000 - val_accuracy: 0.9477\n",
            "Epoch 103/1000\n",
            "22/31 [====================>.........] - ETA: 0s - loss: 0.6636 - accuracy: 0.7674\n",
            "Epoch 103: saving model to model/keypoint_classifier\\keypoint_classifier.hdf5\n",
            "31/31 [==============================] - 0s 6ms/step - loss: 0.6608 - accuracy: 0.7637 - val_loss: 0.2946 - val_accuracy: 0.9522\n",
            "Epoch 104/1000\n",
            "22/31 [====================>.........] - ETA: 0s - loss: 0.6477 - accuracy: 0.7695\n",
            "Epoch 104: saving model to model/keypoint_classifier\\keypoint_classifier.hdf5\n",
            "31/31 [==============================] - 0s 6ms/step - loss: 0.6465 - accuracy: 0.7695 - val_loss: 0.2910 - val_accuracy: 0.9507\n",
            "Epoch 105/1000\n",
            "18/31 [================>.............] - ETA: 0s - loss: 0.6537 - accuracy: 0.7556\n",
            "Epoch 105: saving model to model/keypoint_classifier\\keypoint_classifier.hdf5\n",
            "31/31 [==============================] - 0s 6ms/step - loss: 0.6456 - accuracy: 0.7591 - val_loss: 0.2939 - val_accuracy: 0.9500\n",
            "Epoch 106/1000\n",
            "21/31 [===================>..........] - ETA: 0s - loss: 0.6580 - accuracy: 0.7608\n",
            "Epoch 106: saving model to model/keypoint_classifier\\keypoint_classifier.hdf5\n",
            "31/31 [==============================] - 0s 6ms/step - loss: 0.6598 - accuracy: 0.7637 - val_loss: 0.2909 - val_accuracy: 0.9515\n",
            "Epoch 107/1000\n",
            "17/31 [===============>..............] - ETA: 0s - loss: 0.6422 - accuracy: 0.7716\n",
            "Epoch 107: saving model to model/keypoint_classifier\\keypoint_classifier.hdf5\n",
            "31/31 [==============================] - 0s 7ms/step - loss: 0.6409 - accuracy: 0.7786 - val_loss: 0.2881 - val_accuracy: 0.9507\n",
            "Epoch 108/1000\n",
            "21/31 [===================>..........] - ETA: 0s - loss: 0.6223 - accuracy: 0.7712\n",
            "Epoch 108: saving model to model/keypoint_classifier\\keypoint_classifier.hdf5\n",
            "31/31 [==============================] - 0s 6ms/step - loss: 0.6343 - accuracy: 0.7659 - val_loss: 0.2912 - val_accuracy: 0.9462\n",
            "Epoch 109/1000\n",
            "20/31 [==================>...........] - ETA: 0s - loss: 0.6682 - accuracy: 0.7652\n",
            "Epoch 109: saving model to model/keypoint_classifier\\keypoint_classifier.hdf5\n",
            "31/31 [==============================] - 0s 6ms/step - loss: 0.6643 - accuracy: 0.7644 - val_loss: 0.2923 - val_accuracy: 0.9477\n",
            "Epoch 110/1000\n",
            "18/31 [================>.............] - ETA: 0s - loss: 0.6530 - accuracy: 0.7591\n",
            "Epoch 110: saving model to model/keypoint_classifier\\keypoint_classifier.hdf5\n",
            "31/31 [==============================] - 0s 6ms/step - loss: 0.6506 - accuracy: 0.7604 - val_loss: 0.2930 - val_accuracy: 0.9530\n",
            "Epoch 111/1000\n",
            "20/31 [==================>...........] - ETA: 0s - loss: 0.6355 - accuracy: 0.7703\n",
            "Epoch 111: saving model to model/keypoint_classifier\\keypoint_classifier.hdf5\n",
            "31/31 [==============================] - 0s 6ms/step - loss: 0.6310 - accuracy: 0.7717 - val_loss: 0.2856 - val_accuracy: 0.9507\n",
            "Epoch 112/1000\n",
            "19/31 [=================>............] - ETA: 0s - loss: 0.6530 - accuracy: 0.7677\n",
            "Epoch 112: saving model to model/keypoint_classifier\\keypoint_classifier.hdf5\n",
            "31/31 [==============================] - 0s 7ms/step - loss: 0.6499 - accuracy: 0.7695 - val_loss: 0.2945 - val_accuracy: 0.9484\n",
            "Epoch 113/1000\n",
            "18/31 [================>.............] - ETA: 0s - loss: 0.6340 - accuracy: 0.7713\n",
            "Epoch 113: saving model to model/keypoint_classifier\\keypoint_classifier.hdf5\n",
            "31/31 [==============================] - 0s 7ms/step - loss: 0.6413 - accuracy: 0.7664 - val_loss: 0.2877 - val_accuracy: 0.9507\n",
            "Epoch 114/1000\n",
            "22/31 [====================>.........] - ETA: 0s - loss: 0.6301 - accuracy: 0.7685\n",
            "Epoch 114: saving model to model/keypoint_classifier\\keypoint_classifier.hdf5\n",
            "31/31 [==============================] - 0s 6ms/step - loss: 0.6407 - accuracy: 0.7624 - val_loss: 0.2849 - val_accuracy: 0.9530\n",
            "Epoch 115/1000\n",
            "18/31 [================>.............] - ETA: 0s - loss: 0.6373 - accuracy: 0.7643\n",
            "Epoch 115: saving model to model/keypoint_classifier\\keypoint_classifier.hdf5\n",
            "31/31 [==============================] - 0s 6ms/step - loss: 0.6287 - accuracy: 0.7679 - val_loss: 0.2835 - val_accuracy: 0.9522\n",
            "Epoch 116/1000\n",
            "31/31 [==============================] - ETA: 0s - loss: 0.6434 - accuracy: 0.7682\n",
            "Epoch 116: saving model to model/keypoint_classifier\\keypoint_classifier.hdf5\n",
            "31/31 [==============================] - 0s 7ms/step - loss: 0.6434 - accuracy: 0.7682 - val_loss: 0.2863 - val_accuracy: 0.9553\n",
            "Epoch 117/1000\n",
            "21/31 [===================>..........] - ETA: 0s - loss: 0.6165 - accuracy: 0.7746\n",
            "Epoch 117: saving model to model/keypoint_classifier\\keypoint_classifier.hdf5\n",
            "31/31 [==============================] - 0s 6ms/step - loss: 0.6505 - accuracy: 0.7621 - val_loss: 0.2860 - val_accuracy: 0.9522\n",
            "Epoch 118/1000\n",
            "23/31 [=====================>........] - ETA: 0s - loss: 0.6308 - accuracy: 0.7666\n",
            "Epoch 118: saving model to model/keypoint_classifier\\keypoint_classifier.hdf5\n",
            "31/31 [==============================] - 0s 6ms/step - loss: 0.6265 - accuracy: 0.7687 - val_loss: 0.2919 - val_accuracy: 0.9507\n",
            "Epoch 119/1000\n",
            "21/31 [===================>..........] - ETA: 0s - loss: 0.6542 - accuracy: 0.7660\n",
            "Epoch 119: saving model to model/keypoint_classifier\\keypoint_classifier.hdf5\n",
            "31/31 [==============================] - 0s 6ms/step - loss: 0.6559 - accuracy: 0.7639 - val_loss: 0.2815 - val_accuracy: 0.9522\n",
            "Epoch 120/1000\n",
            "18/31 [================>.............] - ETA: 0s - loss: 0.6491 - accuracy: 0.7561\n",
            "Epoch 120: saving model to model/keypoint_classifier\\keypoint_classifier.hdf5\n",
            "31/31 [==============================] - 0s 7ms/step - loss: 0.6319 - accuracy: 0.7652 - val_loss: 0.2921 - val_accuracy: 0.9522\n",
            "Epoch 121/1000\n",
            "20/31 [==================>...........] - ETA: 0s - loss: 0.6215 - accuracy: 0.7789\n",
            "Epoch 121: saving model to model/keypoint_classifier\\keypoint_classifier.hdf5\n",
            "31/31 [==============================] - 0s 7ms/step - loss: 0.6284 - accuracy: 0.7773 - val_loss: 0.2787 - val_accuracy: 0.9545\n",
            "Epoch 122/1000\n",
            "22/31 [====================>.........] - ETA: 0s - loss: 0.6472 - accuracy: 0.7706\n",
            "Epoch 122: saving model to model/keypoint_classifier\\keypoint_classifier.hdf5\n",
            "31/31 [==============================] - 0s 6ms/step - loss: 0.6408 - accuracy: 0.7697 - val_loss: 0.2852 - val_accuracy: 0.9538\n",
            "Epoch 123/1000\n",
            "21/31 [===================>..........] - ETA: 0s - loss: 0.5994 - accuracy: 0.7846\n",
            "Epoch 123: saving model to model/keypoint_classifier\\keypoint_classifier.hdf5\n",
            "31/31 [==============================] - 0s 6ms/step - loss: 0.6185 - accuracy: 0.7720 - val_loss: 0.2790 - val_accuracy: 0.9553\n",
            "Epoch 124/1000\n",
            "18/31 [================>.............] - ETA: 0s - loss: 0.6323 - accuracy: 0.7721\n",
            "Epoch 124: saving model to model/keypoint_classifier\\keypoint_classifier.hdf5\n",
            "31/31 [==============================] - 0s 6ms/step - loss: 0.6333 - accuracy: 0.7728 - val_loss: 0.2832 - val_accuracy: 0.9545\n",
            "Epoch 125/1000\n",
            "28/31 [==========================>...] - ETA: 0s - loss: 0.6256 - accuracy: 0.7631\n",
            "Epoch 125: saving model to model/keypoint_classifier\\keypoint_classifier.hdf5\n",
            "31/31 [==============================] - 0s 7ms/step - loss: 0.6226 - accuracy: 0.7634 - val_loss: 0.2809 - val_accuracy: 0.9560\n",
            "Epoch 126/1000\n",
            "20/31 [==================>...........] - ETA: 0s - loss: 0.5993 - accuracy: 0.7871\n",
            "Epoch 126: saving model to model/keypoint_classifier\\keypoint_classifier.hdf5\n",
            "31/31 [==============================] - 0s 6ms/step - loss: 0.5975 - accuracy: 0.7877 - val_loss: 0.2790 - val_accuracy: 0.9538\n",
            "Epoch 127/1000\n",
            "19/31 [=================>............] - ETA: 0s - loss: 0.6083 - accuracy: 0.7788\n",
            "Epoch 127: saving model to model/keypoint_classifier\\keypoint_classifier.hdf5\n",
            "31/31 [==============================] - 0s 6ms/step - loss: 0.6124 - accuracy: 0.7781 - val_loss: 0.2767 - val_accuracy: 0.9545\n",
            "Epoch 128/1000\n",
            "20/31 [==================>...........] - ETA: 0s - loss: 0.6096 - accuracy: 0.7844\n",
            "Epoch 128: saving model to model/keypoint_classifier\\keypoint_classifier.hdf5\n",
            "31/31 [==============================] - 0s 6ms/step - loss: 0.6296 - accuracy: 0.7717 - val_loss: 0.2854 - val_accuracy: 0.9545\n",
            "Epoch 129/1000\n",
            "24/31 [======================>.......] - ETA: 0s - loss: 0.6360 - accuracy: 0.7695\n",
            "Epoch 129: saving model to model/keypoint_classifier\\keypoint_classifier.hdf5\n",
            "31/31 [==============================] - 0s 6ms/step - loss: 0.6326 - accuracy: 0.7717 - val_loss: 0.2871 - val_accuracy: 0.9477\n",
            "Epoch 130/1000\n",
            "19/31 [=================>............] - ETA: 0s - loss: 0.6124 - accuracy: 0.7837\n",
            "Epoch 130: saving model to model/keypoint_classifier\\keypoint_classifier.hdf5\n",
            "31/31 [==============================] - 0s 6ms/step - loss: 0.6085 - accuracy: 0.7851 - val_loss: 0.2725 - val_accuracy: 0.9553\n",
            "Epoch 131/1000\n",
            "20/31 [==================>...........] - ETA: 0s - loss: 0.5910 - accuracy: 0.7840\n",
            "Epoch 131: saving model to model/keypoint_classifier\\keypoint_classifier.hdf5\n",
            "31/31 [==============================] - 0s 7ms/step - loss: 0.5934 - accuracy: 0.7826 - val_loss: 0.2733 - val_accuracy: 0.9553\n",
            "Epoch 132/1000\n",
            "17/31 [===============>..............] - ETA: 0s - loss: 0.6360 - accuracy: 0.7776\n",
            "Epoch 132: saving model to model/keypoint_classifier\\keypoint_classifier.hdf5\n",
            "31/31 [==============================] - 0s 8ms/step - loss: 0.6194 - accuracy: 0.7834 - val_loss: 0.2808 - val_accuracy: 0.9530\n",
            "Epoch 133/1000\n",
            "27/31 [=========================>....] - ETA: 0s - loss: 0.6173 - accuracy: 0.7792\n",
            "Epoch 133: saving model to model/keypoint_classifier\\keypoint_classifier.hdf5\n",
            "31/31 [==============================] - 0s 7ms/step - loss: 0.6186 - accuracy: 0.7801 - val_loss: 0.2800 - val_accuracy: 0.9545\n",
            "Epoch 134/1000\n",
            "20/31 [==================>...........] - ETA: 0s - loss: 0.6189 - accuracy: 0.7738\n",
            "Epoch 134: saving model to model/keypoint_classifier\\keypoint_classifier.hdf5\n",
            "31/31 [==============================] - 0s 6ms/step - loss: 0.6169 - accuracy: 0.7697 - val_loss: 0.2710 - val_accuracy: 0.9568\n",
            "Epoch 135/1000\n",
            "21/31 [===================>..........] - ETA: 0s - loss: 0.6089 - accuracy: 0.7842\n",
            "Epoch 135: saving model to model/keypoint_classifier\\keypoint_classifier.hdf5\n",
            "31/31 [==============================] - 0s 6ms/step - loss: 0.6220 - accuracy: 0.7781 - val_loss: 0.2757 - val_accuracy: 0.9560\n",
            "Epoch 136/1000\n",
            "21/31 [===================>..........] - ETA: 0s - loss: 0.6358 - accuracy: 0.7578\n",
            "Epoch 136: saving model to model/keypoint_classifier\\keypoint_classifier.hdf5\n",
            "31/31 [==============================] - 0s 6ms/step - loss: 0.6190 - accuracy: 0.7667 - val_loss: 0.2874 - val_accuracy: 0.9492\n",
            "Epoch 137/1000\n",
            "21/31 [===================>..........] - ETA: 0s - loss: 0.6262 - accuracy: 0.7734\n",
            "Epoch 137: saving model to model/keypoint_classifier\\keypoint_classifier.hdf5\n",
            "31/31 [==============================] - 0s 6ms/step - loss: 0.6229 - accuracy: 0.7770 - val_loss: 0.2767 - val_accuracy: 0.9575\n",
            "Epoch 138/1000\n",
            "20/31 [==================>...........] - ETA: 0s - loss: 0.6018 - accuracy: 0.7824\n",
            "Epoch 138: saving model to model/keypoint_classifier\\keypoint_classifier.hdf5\n",
            "31/31 [==============================] - 0s 6ms/step - loss: 0.6064 - accuracy: 0.7813 - val_loss: 0.2781 - val_accuracy: 0.9515\n",
            "Epoch 139/1000\n",
            "17/31 [===============>..............] - ETA: 0s - loss: 0.5857 - accuracy: 0.7845\n",
            "Epoch 139: saving model to model/keypoint_classifier\\keypoint_classifier.hdf5\n",
            "31/31 [==============================] - 0s 7ms/step - loss: 0.6053 - accuracy: 0.7712 - val_loss: 0.2747 - val_accuracy: 0.9507\n",
            "Epoch 140/1000\n",
            "21/31 [===================>..........] - ETA: 0s - loss: 0.5751 - accuracy: 0.7999\n",
            "Epoch 140: saving model to model/keypoint_classifier\\keypoint_classifier.hdf5\n",
            "31/31 [==============================] - 0s 7ms/step - loss: 0.5971 - accuracy: 0.7887 - val_loss: 0.2806 - val_accuracy: 0.9530\n",
            "Epoch 141/1000\n",
            "31/31 [==============================] - ETA: 0s - loss: 0.6376 - accuracy: 0.7738\n",
            "Epoch 141: saving model to model/keypoint_classifier\\keypoint_classifier.hdf5\n",
            "31/31 [==============================] - 0s 8ms/step - loss: 0.6376 - accuracy: 0.7738 - val_loss: 0.2781 - val_accuracy: 0.9538\n",
            "Epoch 142/1000\n",
            "25/31 [=======================>......] - ETA: 0s - loss: 0.6158 - accuracy: 0.7775\n",
            "Epoch 142: saving model to model/keypoint_classifier\\keypoint_classifier.hdf5\n",
            "31/31 [==============================] - 0s 6ms/step - loss: 0.6148 - accuracy: 0.7770 - val_loss: 0.2828 - val_accuracy: 0.9522\n",
            "Epoch 143/1000\n",
            "25/31 [=======================>......] - ETA: 0s - loss: 0.6235 - accuracy: 0.7766\n",
            "Epoch 143: saving model to model/keypoint_classifier\\keypoint_classifier.hdf5\n",
            "31/31 [==============================] - 0s 6ms/step - loss: 0.6133 - accuracy: 0.7803 - val_loss: 0.2768 - val_accuracy: 0.9515\n",
            "Epoch 144/1000\n",
            "18/31 [================>.............] - ETA: 0s - loss: 0.5913 - accuracy: 0.7830\n",
            "Epoch 144: saving model to model/keypoint_classifier\\keypoint_classifier.hdf5\n",
            "31/31 [==============================] - 0s 7ms/step - loss: 0.6003 - accuracy: 0.7750 - val_loss: 0.2755 - val_accuracy: 0.9545\n",
            "Epoch 145/1000\n",
            "30/31 [============================>.] - ETA: 0s - loss: 0.6046 - accuracy: 0.7799\n",
            "Epoch 145: saving model to model/keypoint_classifier\\keypoint_classifier.hdf5\n",
            "31/31 [==============================] - 0s 8ms/step - loss: 0.5999 - accuracy: 0.7819 - val_loss: 0.2768 - val_accuracy: 0.9492\n",
            "Epoch 146/1000\n",
            "31/31 [==============================] - ETA: 0s - loss: 0.5925 - accuracy: 0.7841\n",
            "Epoch 146: saving model to model/keypoint_classifier\\keypoint_classifier.hdf5\n",
            "31/31 [==============================] - 0s 8ms/step - loss: 0.5925 - accuracy: 0.7841 - val_loss: 0.2677 - val_accuracy: 0.9545\n",
            "Epoch 147/1000\n",
            "25/31 [=======================>......] - ETA: 0s - loss: 0.6026 - accuracy: 0.7825\n",
            "Epoch 147: saving model to model/keypoint_classifier\\keypoint_classifier.hdf5\n",
            "31/31 [==============================] - 0s 9ms/step - loss: 0.6070 - accuracy: 0.7781 - val_loss: 0.2728 - val_accuracy: 0.9492\n",
            "Epoch 148/1000\n",
            "26/31 [========================>.....] - ETA: 0s - loss: 0.6183 - accuracy: 0.7816\n",
            "Epoch 148: saving model to model/keypoint_classifier\\keypoint_classifier.hdf5\n",
            "31/31 [==============================] - 0s 9ms/step - loss: 0.6085 - accuracy: 0.7869 - val_loss: 0.2716 - val_accuracy: 0.9553\n",
            "Epoch 149/1000\n",
            "19/31 [=================>............] - ETA: 0s - loss: 0.5894 - accuracy: 0.7887\n",
            "Epoch 149: saving model to model/keypoint_classifier\\keypoint_classifier.hdf5\n",
            "31/31 [==============================] - 0s 7ms/step - loss: 0.5803 - accuracy: 0.7920 - val_loss: 0.2701 - val_accuracy: 0.9530\n",
            "Epoch 150/1000\n",
            "22/31 [====================>.........] - ETA: 0s - loss: 0.6094 - accuracy: 0.7795\n",
            "Epoch 150: saving model to model/keypoint_classifier\\keypoint_classifier.hdf5\n",
            "31/31 [==============================] - 0s 6ms/step - loss: 0.6084 - accuracy: 0.7793 - val_loss: 0.2719 - val_accuracy: 0.9538\n",
            "Epoch 151/1000\n",
            "21/31 [===================>..........] - ETA: 0s - loss: 0.6282 - accuracy: 0.7731\n",
            "Epoch 151: saving model to model/keypoint_classifier\\keypoint_classifier.hdf5\n",
            "31/31 [==============================] - 0s 6ms/step - loss: 0.6132 - accuracy: 0.7791 - val_loss: 0.2764 - val_accuracy: 0.9507\n",
            "Epoch 152/1000\n",
            "20/31 [==================>...........] - ETA: 0s - loss: 0.6324 - accuracy: 0.7793\n",
            "Epoch 152: saving model to model/keypoint_classifier\\keypoint_classifier.hdf5\n",
            "31/31 [==============================] - 0s 6ms/step - loss: 0.6263 - accuracy: 0.7760 - val_loss: 0.2773 - val_accuracy: 0.9522\n",
            "Epoch 153/1000\n",
            "21/31 [===================>..........] - ETA: 0s - loss: 0.6033 - accuracy: 0.7958\n",
            "Epoch 153: saving model to model/keypoint_classifier\\keypoint_classifier.hdf5\n",
            "31/31 [==============================] - 0s 6ms/step - loss: 0.6050 - accuracy: 0.7910 - val_loss: 0.2771 - val_accuracy: 0.9492\n",
            "Epoch 154/1000\n",
            "25/31 [=======================>......] - ETA: 0s - loss: 0.6334 - accuracy: 0.7759\n",
            "Epoch 154: saving model to model/keypoint_classifier\\keypoint_classifier.hdf5\n",
            "31/31 [==============================] - 0s 6ms/step - loss: 0.6273 - accuracy: 0.7770 - val_loss: 0.2810 - val_accuracy: 0.9522\n",
            "Epoch 155/1000\n",
            "23/31 [=====================>........] - ETA: 0s - loss: 0.6168 - accuracy: 0.7731\n",
            "Epoch 155: saving model to model/keypoint_classifier\\keypoint_classifier.hdf5\n",
            "31/31 [==============================] - 0s 6ms/step - loss: 0.6197 - accuracy: 0.7720 - val_loss: 0.2820 - val_accuracy: 0.9477\n",
            "Epoch 156/1000\n",
            "25/31 [=======================>......] - ETA: 0s - loss: 0.5989 - accuracy: 0.7878\n",
            "Epoch 156: saving model to model/keypoint_classifier\\keypoint_classifier.hdf5\n",
            "31/31 [==============================] - 0s 6ms/step - loss: 0.6070 - accuracy: 0.7829 - val_loss: 0.2762 - val_accuracy: 0.9568\n",
            "Epoch 157/1000\n",
            "18/31 [================>.............] - ETA: 0s - loss: 0.6077 - accuracy: 0.7852\n",
            "Epoch 157: saving model to model/keypoint_classifier\\keypoint_classifier.hdf5\n",
            "31/31 [==============================] - 0s 6ms/step - loss: 0.6078 - accuracy: 0.7851 - val_loss: 0.2745 - val_accuracy: 0.9530\n",
            "Epoch 158/1000\n",
            "21/31 [===================>..........] - ETA: 0s - loss: 0.6037 - accuracy: 0.7879\n",
            "Epoch 158: saving model to model/keypoint_classifier\\keypoint_classifier.hdf5\n",
            "31/31 [==============================] - 0s 7ms/step - loss: 0.6034 - accuracy: 0.7836 - val_loss: 0.2782 - val_accuracy: 0.9553\n",
            "Epoch 159/1000\n",
            "20/31 [==================>...........] - ETA: 0s - loss: 0.5965 - accuracy: 0.7910\n",
            "Epoch 159: saving model to model/keypoint_classifier\\keypoint_classifier.hdf5\n",
            "31/31 [==============================] - 0s 6ms/step - loss: 0.6015 - accuracy: 0.7877 - val_loss: 0.2718 - val_accuracy: 0.9606\n",
            "Epoch 160/1000\n",
            "21/31 [===================>..........] - ETA: 0s - loss: 0.5826 - accuracy: 0.7920\n",
            "Epoch 160: saving model to model/keypoint_classifier\\keypoint_classifier.hdf5\n",
            "31/31 [==============================] - 0s 8ms/step - loss: 0.5641 - accuracy: 0.7978 - val_loss: 0.2710 - val_accuracy: 0.9553\n",
            "Epoch 161/1000\n",
            "30/31 [============================>.] - ETA: 0s - loss: 0.6089 - accuracy: 0.7828\n",
            "Epoch 161: saving model to model/keypoint_classifier\\keypoint_classifier.hdf5\n",
            "31/31 [==============================] - 0s 9ms/step - loss: 0.6078 - accuracy: 0.7841 - val_loss: 0.2624 - val_accuracy: 0.9575\n",
            "Epoch 162/1000\n",
            "31/31 [==============================] - ETA: 0s - loss: 0.5854 - accuracy: 0.7877\n",
            "Epoch 162: saving model to model/keypoint_classifier\\keypoint_classifier.hdf5\n",
            "31/31 [==============================] - 0s 8ms/step - loss: 0.5854 - accuracy: 0.7877 - val_loss: 0.2761 - val_accuracy: 0.9522\n",
            "Epoch 163/1000\n",
            "31/31 [==============================] - ETA: 0s - loss: 0.5611 - accuracy: 0.8054\n",
            "Epoch 163: saving model to model/keypoint_classifier\\keypoint_classifier.hdf5\n",
            "31/31 [==============================] - 0s 9ms/step - loss: 0.5611 - accuracy: 0.8054 - val_loss: 0.2757 - val_accuracy: 0.9522\n",
            "Epoch 164/1000\n",
            "25/31 [=======================>......] - ETA: 0s - loss: 0.6025 - accuracy: 0.7763\n",
            "Epoch 164: saving model to model/keypoint_classifier\\keypoint_classifier.hdf5\n",
            "31/31 [==============================] - 0s 9ms/step - loss: 0.6004 - accuracy: 0.7801 - val_loss: 0.2710 - val_accuracy: 0.9545\n",
            "Epoch 165/1000\n",
            "17/31 [===============>..............] - ETA: 0s - loss: 0.6186 - accuracy: 0.7757\n",
            "Epoch 165: saving model to model/keypoint_classifier\\keypoint_classifier.hdf5\n",
            "31/31 [==============================] - 0s 9ms/step - loss: 0.6085 - accuracy: 0.7816 - val_loss: 0.2744 - val_accuracy: 0.9538\n",
            "Epoch 166/1000\n",
            "14/31 [============>.................] - ETA: 0s - loss: 0.5894 - accuracy: 0.7896\n",
            "Epoch 166: saving model to model/keypoint_classifier\\keypoint_classifier.hdf5\n",
            "31/31 [==============================] - 0s 7ms/step - loss: 0.5866 - accuracy: 0.7920 - val_loss: 0.2754 - val_accuracy: 0.9538\n",
            "Epoch 167/1000\n",
            "25/31 [=======================>......] - ETA: 0s - loss: 0.5862 - accuracy: 0.7781\n",
            "Epoch 167: saving model to model/keypoint_classifier\\keypoint_classifier.hdf5\n",
            "31/31 [==============================] - 0s 6ms/step - loss: 0.5905 - accuracy: 0.7808 - val_loss: 0.2716 - val_accuracy: 0.9500\n",
            "Epoch 168/1000\n",
            "23/31 [=====================>........] - ETA: 0s - loss: 0.5962 - accuracy: 0.7863\n",
            "Epoch 168: saving model to model/keypoint_classifier\\keypoint_classifier.hdf5\n",
            "31/31 [==============================] - 0s 6ms/step - loss: 0.5834 - accuracy: 0.7922 - val_loss: 0.2616 - val_accuracy: 0.9591\n",
            "Epoch 169/1000\n",
            "23/31 [=====================>........] - ETA: 0s - loss: 0.5853 - accuracy: 0.7836\n",
            "Epoch 169: saving model to model/keypoint_classifier\\keypoint_classifier.hdf5\n",
            "31/31 [==============================] - 0s 6ms/step - loss: 0.5800 - accuracy: 0.7841 - val_loss: 0.2725 - val_accuracy: 0.9507\n",
            "Epoch 170/1000\n",
            "20/31 [==================>...........] - ETA: 0s - loss: 0.5832 - accuracy: 0.7840\n",
            "Epoch 170: saving model to model/keypoint_classifier\\keypoint_classifier.hdf5\n",
            "31/31 [==============================] - 0s 6ms/step - loss: 0.5756 - accuracy: 0.7910 - val_loss: 0.2716 - val_accuracy: 0.9522\n",
            "Epoch 171/1000\n",
            "20/31 [==================>...........] - ETA: 0s - loss: 0.6071 - accuracy: 0.7773\n",
            "Epoch 171: saving model to model/keypoint_classifier\\keypoint_classifier.hdf5\n",
            "31/31 [==============================] - 0s 6ms/step - loss: 0.6025 - accuracy: 0.7811 - val_loss: 0.2747 - val_accuracy: 0.9545\n",
            "Epoch 172/1000\n",
            "24/31 [======================>.......] - ETA: 0s - loss: 0.5766 - accuracy: 0.7972\n",
            "Epoch 172: saving model to model/keypoint_classifier\\keypoint_classifier.hdf5\n",
            "31/31 [==============================] - 0s 6ms/step - loss: 0.5717 - accuracy: 0.8003 - val_loss: 0.2678 - val_accuracy: 0.9553\n",
            "Epoch 173/1000\n",
            "20/31 [==================>...........] - ETA: 0s - loss: 0.5856 - accuracy: 0.7883\n",
            "Epoch 173: saving model to model/keypoint_classifier\\keypoint_classifier.hdf5\n",
            "31/31 [==============================] - 0s 6ms/step - loss: 0.6011 - accuracy: 0.7816 - val_loss: 0.2653 - val_accuracy: 0.9575\n",
            "Epoch 174/1000\n",
            "18/31 [================>.............] - ETA: 0s - loss: 0.5967 - accuracy: 0.7839\n",
            "Epoch 174: saving model to model/keypoint_classifier\\keypoint_classifier.hdf5\n",
            "31/31 [==============================] - 0s 6ms/step - loss: 0.5917 - accuracy: 0.7874 - val_loss: 0.2679 - val_accuracy: 0.9560\n",
            "Epoch 175/1000\n",
            "18/31 [================>.............] - ETA: 0s - loss: 0.5939 - accuracy: 0.7826\n",
            "Epoch 175: saving model to model/keypoint_classifier\\keypoint_classifier.hdf5\n",
            "31/31 [==============================] - 0s 7ms/step - loss: 0.5922 - accuracy: 0.7776 - val_loss: 0.2666 - val_accuracy: 0.9530\n",
            "Epoch 176/1000\n",
            "21/31 [===================>..........] - ETA: 0s - loss: 0.5958 - accuracy: 0.7839\n",
            "Epoch 176: saving model to model/keypoint_classifier\\keypoint_classifier.hdf5\n",
            "31/31 [==============================] - 0s 6ms/step - loss: 0.5844 - accuracy: 0.7907 - val_loss: 0.2695 - val_accuracy: 0.9545\n",
            "Epoch 177/1000\n",
            "17/31 [===============>..............] - ETA: 0s - loss: 0.5918 - accuracy: 0.7904\n",
            "Epoch 177: saving model to model/keypoint_classifier\\keypoint_classifier.hdf5\n",
            "31/31 [==============================] - 0s 7ms/step - loss: 0.5916 - accuracy: 0.7904 - val_loss: 0.2704 - val_accuracy: 0.9515\n",
            "Epoch 178/1000\n",
            "21/31 [===================>..........] - ETA: 0s - loss: 0.5812 - accuracy: 0.7846\n",
            "Epoch 178: saving model to model/keypoint_classifier\\keypoint_classifier.hdf5\n",
            "31/31 [==============================] - 0s 7ms/step - loss: 0.5828 - accuracy: 0.7851 - val_loss: 0.2681 - val_accuracy: 0.9545\n",
            "Epoch 179/1000\n",
            "18/31 [================>.............] - ETA: 0s - loss: 0.5951 - accuracy: 0.7808\n",
            "Epoch 179: saving model to model/keypoint_classifier\\keypoint_classifier.hdf5\n",
            "31/31 [==============================] - 0s 8ms/step - loss: 0.5932 - accuracy: 0.7781 - val_loss: 0.2651 - val_accuracy: 0.9568\n",
            "Epoch 180/1000\n",
            "17/31 [===============>..............] - ETA: 0s - loss: 0.5602 - accuracy: 0.7891\n",
            "Epoch 180: saving model to model/keypoint_classifier\\keypoint_classifier.hdf5\n",
            "31/31 [==============================] - 0s 7ms/step - loss: 0.5822 - accuracy: 0.7879 - val_loss: 0.2696 - val_accuracy: 0.9515\n",
            "Epoch 181/1000\n",
            "18/31 [================>.............] - ETA: 0s - loss: 0.6037 - accuracy: 0.7869\n",
            "Epoch 181: saving model to model/keypoint_classifier\\keypoint_classifier.hdf5\n",
            "31/31 [==============================] - 0s 9ms/step - loss: 0.6083 - accuracy: 0.7776 - val_loss: 0.2696 - val_accuracy: 0.9575\n",
            "Epoch 182/1000\n",
            "22/31 [====================>.........] - ETA: 0s - loss: 0.5900 - accuracy: 0.7983\n",
            "Epoch 182: saving model to model/keypoint_classifier\\keypoint_classifier.hdf5\n",
            "31/31 [==============================] - 0s 8ms/step - loss: 0.5821 - accuracy: 0.7970 - val_loss: 0.2713 - val_accuracy: 0.9477\n",
            "Epoch 183/1000\n",
            "13/31 [===========>..................] - ETA: 0s - loss: 0.5927 - accuracy: 0.7861\n",
            "Epoch 183: saving model to model/keypoint_classifier\\keypoint_classifier.hdf5\n",
            "31/31 [==============================] - 0s 8ms/step - loss: 0.5797 - accuracy: 0.7925 - val_loss: 0.2644 - val_accuracy: 0.9553\n",
            "Epoch 184/1000\n",
            "27/31 [=========================>....] - ETA: 0s - loss: 0.6062 - accuracy: 0.7700\n",
            "Epoch 184: saving model to model/keypoint_classifier\\keypoint_classifier.hdf5\n",
            "31/31 [==============================] - 0s 8ms/step - loss: 0.6078 - accuracy: 0.7712 - val_loss: 0.2626 - val_accuracy: 0.9583\n",
            "Epoch 185/1000\n",
            "26/31 [========================>.....] - ETA: 0s - loss: 0.5906 - accuracy: 0.7882\n",
            "Epoch 185: saving model to model/keypoint_classifier\\keypoint_classifier.hdf5\n",
            "31/31 [==============================] - 0s 9ms/step - loss: 0.5980 - accuracy: 0.7867 - val_loss: 0.2795 - val_accuracy: 0.9538\n",
            "Epoch 186/1000\n",
            "28/31 [==========================>...] - ETA: 0s - loss: 0.5852 - accuracy: 0.7927\n",
            "Epoch 186: saving model to model/keypoint_classifier\\keypoint_classifier.hdf5\n",
            "31/31 [==============================] - 0s 9ms/step - loss: 0.5739 - accuracy: 0.7958 - val_loss: 0.2811 - val_accuracy: 0.9477\n",
            "Epoch 187/1000\n",
            "30/31 [============================>.] - ETA: 0s - loss: 0.5812 - accuracy: 0.7961\n",
            "Epoch 187: saving model to model/keypoint_classifier\\keypoint_classifier.hdf5\n",
            "31/31 [==============================] - 0s 7ms/step - loss: 0.5851 - accuracy: 0.7950 - val_loss: 0.2645 - val_accuracy: 0.9538\n",
            "Epoch 188/1000\n",
            "20/31 [==================>...........] - ETA: 0s - loss: 0.5772 - accuracy: 0.7918\n",
            "Epoch 188: saving model to model/keypoint_classifier\\keypoint_classifier.hdf5\n",
            "31/31 [==============================] - 0s 7ms/step - loss: 0.5684 - accuracy: 0.7965 - val_loss: 0.2659 - val_accuracy: 0.9553\n",
            "Epoch 188: early stopping\n"
          ]
        },
        {
          "data": {
            "text/plain": [
              "<keras.src.callbacks.History at 0x1d905c4edd0>"
            ]
          },
          "execution_count": 11,
          "metadata": {},
          "output_type": "execute_result"
        }
      ],
      "source": [
        "model.fit(\n",
        "    X_train,\n",
        "    y_train,\n",
        "    epochs=1000,\n",
        "    batch_size=128,\n",
        "    validation_data=(X_test, y_test),\n",
        "    callbacks=[cp_callback, es_callback]\n",
        ")"
      ]
    },
    {
      "cell_type": "code",
      "execution_count": 12,
      "metadata": {
        "colab": {
          "base_uri": "https://localhost:8080/"
        },
        "id": "pxvb2Y299hE3",
        "outputId": "59eb3185-2e37-4b9e-bc9d-ab1b8ac29b7f"
      },
      "outputs": [
        {
          "name": "stdout",
          "output_type": "stream",
          "text": [
            "11/11 [==============================] - 0s 3ms/step - loss: 0.2659 - accuracy: 0.9553\n"
          ]
        }
      ],
      "source": [
        "# Model evaluation\n",
        "val_loss, val_acc = model.evaluate(X_test, y_test, batch_size=128)"
      ]
    },
    {
      "cell_type": "code",
      "execution_count": 13,
      "metadata": {
        "id": "RBkmDeUW9hE4"
      },
      "outputs": [],
      "source": [
        "# Loading the saved model\n",
        "model = tf.keras.models.load_model(model_save_path)"
      ]
    },
    {
      "cell_type": "code",
      "execution_count": 14,
      "metadata": {
        "colab": {
          "base_uri": "https://localhost:8080/"
        },
        "id": "tFz9Tb0I9hE4",
        "outputId": "1c3b3528-54ae-4ee2-ab04-77429211cbef"
      },
      "outputs": [
        {
          "name": "stdout",
          "output_type": "stream",
          "text": [
            "1/1 [==============================] - 0s 190ms/step\n",
            "[9.7122759e-01 2.8306933e-02 6.4796121e-05 3.1778947e-04 8.1611972e-05\n",
            " 1.2383640e-06]\n",
            "0\n"
          ]
        }
      ],
      "source": [
        "# Inference test\n",
        "predict_result = model.predict(np.array([X_test[0]]))\n",
        "print(np.squeeze(predict_result))\n",
        "print(np.argmax(np.squeeze(predict_result)))"
      ]
    },
    {
      "cell_type": "markdown",
      "metadata": {
        "id": "S3U4yNWx9hE4"
      },
      "source": [
        "# Confusion matrix"
      ]
    },
    {
      "cell_type": "code",
      "execution_count": 15,
      "metadata": {
        "colab": {
          "base_uri": "https://localhost:8080/",
          "height": 582
        },
        "id": "AP1V6SCk9hE5",
        "outputId": "08e41a80-7a4a-4619-8125-ecc371368d19"
      },
      "outputs": [
        {
          "name": "stdout",
          "output_type": "stream",
          "text": [
            "42/42 [==============================] - 0s 2ms/step\n"
          ]
        },
        {
          "data": {
            "image/png": "[encoded data removed]",
            "text/plain": [
              "<Figure size 700x600 with 2 Axes>"
            ]
          },
          "metadata": {},
          "output_type": "display_data"
        },
        {
          "name": "stdout",
          "output_type": "stream",
          "text": [
            "Classification Report\n",
            "              precision    recall  f1-score   support\n",
            "\n",
            "           0       0.98      0.98      0.98       406\n",
            "           1       0.91      0.98      0.94       365\n",
            "           2       0.97      0.98      0.98       344\n",
            "           3       0.96      0.99      0.97        78\n",
            "           4       1.00      0.87      0.93        62\n",
            "           5       1.00      0.59      0.75        64\n",
            "\n",
            "    accuracy                           0.96      1319\n",
            "   macro avg       0.97      0.90      0.92      1319\n",
            "weighted avg       0.96      0.96      0.95      1319\n",
            "\n"
          ]
        }
      ],
      "source": [
        "import pandas as pd\n",
        "import seaborn as sns\n",
        "import matplotlib.pyplot as plt\n",
        "from sklearn.metrics import confusion_matrix, classification_report\n",
        "\n",
        "def print_confusion_matrix(y_true, y_pred, report=True):\n",
        "    labels = sorted(list(set(y_true)))\n",
        "    cmx_data = confusion_matrix(y_true, y_pred, labels=labels)\n",
        "    \n",
        "    df_cmx = pd.DataFrame(cmx_data, index=labels, columns=labels)\n",
        " \n",
        "    fig, ax = plt.subplots(figsize=(7, 6))\n",
        "    sns.heatmap(df_cmx, annot=True, fmt='g' ,square=False)\n",
        "    ax.set_ylim(len(set(y_true)), 0)\n",
        "    plt.show()\n",
        "    \n",
        "    if report:\n",
        "        print('Classification Report')\n",
        "        print(classification_report(y_test, y_pred))\n",
        "\n",
        "Y_pred = model.predict(X_test)\n",
        "y_pred = np.argmax(Y_pred, axis=1)\n",
        "\n",
        "print_confusion_matrix(y_test, y_pred)"
      ]
    },
    {
      "cell_type": "markdown",
      "metadata": {
        "id": "FNP6aqzc9hE5"
      },
      "source": [
        "# Convert to model for Tensorflow-Lite"
      ]
    },
    {
      "cell_type": "code",
      "execution_count": 16,
      "metadata": {
        "id": "ODjnYyld9hE6"
      },
      "outputs": [
        {
          "name": "stderr",
          "output_type": "stream",
          "text": [
            "C:\\Users\\Abhishek Gupta\\AppData\\Roaming\\Python\\Python311\\site-packages\\keras\\src\\engine\\training.py:3103: UserWarning: You are saving your model as an HDF5 file via `model.save()`. This file format is considered legacy. We recommend using instead the native Keras format, e.g. `model.save('my_model.keras')`.\n",
            "  saving_api.save_model(\n"
          ]
        }
      ],
      "source": [
        "# Save as a model dedicated to inference\n",
        "model.save(model_save_path, include_optimizer=False)"
      ]
    },
    {
      "cell_type": "code",
      "execution_count": 17,
      "metadata": {
        "colab": {
          "base_uri": "https://localhost:8080/"
        },
        "id": "zRfuK8Y59hE6",
        "outputId": "a4ca585c-b5d5-4244-8291-8674063209bb"
      },
      "outputs": [
        {
          "name": "stdout",
          "output_type": "stream",
          "text": [
            "INFO:tensorflow:Assets written to: C:\\Users\\ABHISH~1\\AppData\\Local\\Temp\\tmp8hrs3nbo\\assets\n"
          ]
        },
        {
          "name": "stderr",
          "output_type": "stream",
          "text": [
            "INFO:tensorflow:Assets written to: C:\\Users\\ABHISH~1\\AppData\\Local\\Temp\\tmp8hrs3nbo\\assets\n"
          ]
        },
        {
          "data": {
            "text/plain": [
              "6632"
            ]
          },
          "execution_count": 17,
          "metadata": {},
          "output_type": "execute_result"
        }
      ],
      "source": [
        "# Transform model (quantization)\n",
        "\n",
        "converter = tf.lite.TFLiteConverter.from_keras_model(model)\n",
        "converter.optimizations = [tf.lite.Optimize.DEFAULT]\n",
        "tflite_quantized_model = converter.convert()\n",
        "\n",
        "open(tflite_save_path, 'wb').write(tflite_quantized_model)"
      ]
    },
    {
      "cell_type": "markdown",
      "metadata": {
        "id": "CHBPBXdx9hE6"
      },
      "source": [
        "# Inference test"
      ]
    },
    {
      "cell_type": "code",
      "execution_count": 18,
      "metadata": {
        "id": "mGAzLocO9hE7"
      },
      "outputs": [],
      "source": [
        "interpreter = tf.lite.Interpreter(model_path=tflite_save_path)\n",
        "interpreter.allocate_tensors()"
      ]
    },
    {
      "cell_type": "code",
      "execution_count": 19,
      "metadata": {
        "id": "oQuDK8YS9hE7"
      },
      "outputs": [],
      "source": [
        "# Get I / O tensor\n",
        "input_details = interpreter.get_input_details()\n",
        "output_details = interpreter.get_output_details()"
      ]
    },
    {
      "cell_type": "code",
      "execution_count": 20,
      "metadata": {
        "id": "2_ixAf_l9hE7"
      },
      "outputs": [],
      "source": [
        "interpreter.set_tensor(input_details[0]['index'], np.array([X_test[0]]))"
      ]
    },
    {
      "cell_type": "code",
      "execution_count": 21,
      "metadata": {
        "colab": {
          "base_uri": "https://localhost:8080/"
        },
        "id": "s4FoAnuc9hE7",
        "outputId": "91f18257-8d8b-4ef3-c558-e9b5f94fabbf",
        "scrolled": true
      },
      "outputs": [
        {
          "name": "stdout",
          "output_type": "stream",
          "text": [
            "CPU times: total: 0 ns\n",
            "Wall time: 0 ns\n"
          ]
        }
      ],
      "source": [
        "%%time\n",
        "# Inference implementation\n",
        "interpreter.invoke()\n",
        "tflite_results = interpreter.get_tensor(output_details[0]['index'])"
      ]
    },
    {
      "cell_type": "code",
      "execution_count": 22,
      "metadata": {
        "colab": {
          "base_uri": "https://localhost:8080/"
        },
        "id": "vONjp19J9hE8",
        "outputId": "77205e24-fd00-42c4-f7b6-e06e527c2cba"
      },
      "outputs": [
        {
          "name": "stdout",
          "output_type": "stream",
          "text": [
            "[9.7122759e-01 2.8306901e-02 6.4795997e-05 3.1778915e-04 8.1611885e-05\n",
            " 1.2383617e-06]\n",
            "0\n"
          ]
        }
      ],
      "source": [
        "print(np.squeeze(tflite_results))\n",
        "print(np.argmax(np.squeeze(tflite_results)))"
      ]
    }
  ],
  "metadata": {
    "accelerator": "GPU",
    "colab": {
      "collapsed_sections": [],
      "name": "keypoint_classification_EN.ipynb",
      "provenance": [],
      "toc_visible": true
    },
    "kernelspec": {
      "display_name": "Python 3",
      "language": "python",
      "name": "python3"
    },
    "language_info": {
      "codemirror_mode": {
        "name": "ipython",
        "version": 3
      },
      "file_extension": ".py",
      "mimetype": "text/x-python",
      "name": "python",
      "nbconvert_exporter": "python",
      "pygments_lexer": "ipython3",
      "version": "3.11.1"
    }
  },
  "nbformat": 4,
  "nbformat_minor": 0
}

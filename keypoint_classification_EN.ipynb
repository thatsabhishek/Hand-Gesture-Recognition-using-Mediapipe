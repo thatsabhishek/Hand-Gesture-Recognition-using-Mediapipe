{
  "cells": [
    {
      "cell_type": "code",
      "execution_count": 56,
      "metadata": {
        "id": "igMyGnjE9hEp"
      },
      "outputs": [],
      "source": [
        "import csv\n",
        "\n",
        "import numpy as np\n",
        "import tensorflow as tf\n",
        "from sklearn.model_selection import train_test_split\n",
        "\n",
        "RANDOM_SEED = 42"
      ]
    },
    {
      "cell_type": "markdown",
      "metadata": {
        "id": "t2HDvhIu9hEr"
      },
      "source": [
        "# Specify each path"
      ]
    },
    {
      "cell_type": "code",
      "execution_count": 57,
      "metadata": {
        "id": "9NvZP2Zn9hEy"
      },
      "outputs": [],
      "source": [
        "dataset = 'model/keypoint_classifier/keypoint.csv'\n",
        "model_save_path = 'model/keypoint_classifier/keypoint_classifier.hdf5'\n",
        "tflite_save_path = 'model/keypoint_classifier/keypoint_classifier.tflite'"
      ]
    },
    {
      "cell_type": "markdown",
      "metadata": {
        "id": "s5oMH7x19hEz"
      },
      "source": [
        "# Set number of classes"
      ]
    },
    {
      "cell_type": "code",
      "execution_count": 58,
      "metadata": {
        "id": "du4kodXL9hEz"
      },
      "outputs": [],
      "source": [
        "NUM_CLASSES = 6"
      ]
    },
    {
      "cell_type": "markdown",
      "metadata": {
        "id": "XjnL0uso9hEz"
      },
      "source": [
        "# Dataset reading"
      ]
    },
    {
      "cell_type": "code",
      "execution_count": 59,
      "metadata": {
        "id": "QT5ZqtEz9hE0"
      },
      "outputs": [],
      "source": [
        "X_dataset = np.loadtxt(dataset, delimiter=',', dtype='float32', usecols=list(range(1, (21 * 2) + 1)))"
      ]
    },
    {
      "cell_type": "code",
      "execution_count": 60,
      "metadata": {
        "id": "QmoKFsp49hE0"
      },
      "outputs": [],
      "source": [
        "y_dataset = np.loadtxt(dataset, delimiter=',', dtype='int32', usecols=(0))"
      ]
    },
    {
      "cell_type": "code",
      "execution_count": 61,
      "metadata": {
        "id": "xQU7JTZ_9hE0"
      },
      "outputs": [],
      "source": [
        "X_train, X_test, y_train, y_test = train_test_split(X_dataset, y_dataset, train_size=0.75, random_state=RANDOM_SEED)"
      ]
    },
    {
      "cell_type": "markdown",
      "metadata": {
        "id": "mxK_lETT9hE0"
      },
      "source": [
        "# Model building"
      ]
    },
    {
      "cell_type": "code",
      "execution_count": 62,
      "metadata": {
        "id": "vHBmUf1t9hE1"
      },
      "outputs": [],
      "source": [
        "model = tf.keras.models.Sequential([\n",
        "    tf.keras.layers.Input((21 * 2, )),\n",
        "    tf.keras.layers.Dropout(0.2),\n",
        "    tf.keras.layers.Dense(20, activation='relu'),\n",
        "    tf.keras.layers.Dropout(0.4),\n",
        "    tf.keras.layers.Dense(10, activation='relu'),\n",
        "    tf.keras.layers.Dense(NUM_CLASSES, activation='softmax')\n",
        "])"
      ]
    },
    {
      "cell_type": "code",
      "execution_count": 63,
      "metadata": {
        "colab": {
          "base_uri": "https://localhost:8080/"
        },
        "id": "ypqky9tc9hE1",
        "outputId": "5db082bb-30e3-4110-bf63-a1ee777ecd46"
      },
      "outputs": [
        {
          "name": "stdout",
          "output_type": "stream",
          "text": [
            "Model: \"sequential_3\"\n",
            "_________________________________________________________________\n",
            " Layer (type)                Output Shape              Param #   \n",
            "=================================================================\n",
            " dropout_6 (Dropout)         (None, 42)                0         \n",
            "                                                                 \n",
            " dense_9 (Dense)             (None, 20)                860       \n",
            "                                                                 \n",
            " dropout_7 (Dropout)         (None, 20)                0         \n",
            "                                                                 \n",
            " dense_10 (Dense)            (None, 10)                210       \n",
            "                                                                 \n",
            " dense_11 (Dense)            (None, 6)                 66        \n",
            "                                                                 \n",
            "=================================================================\n",
            "Total params: 1136 (4.44 KB)\n",
            "Trainable params: 1136 (4.44 KB)\n",
            "Non-trainable params: 0 (0.00 Byte)\n",
            "_________________________________________________________________\n"
          ]
        }
      ],
      "source": [
        "model.summary()  # tf.keras.utils.plot_model(model, show_shapes=True)"
      ]
    },
    {
      "cell_type": "code",
      "execution_count": 64,
      "metadata": {
        "id": "MbMjOflQ9hE1"
      },
      "outputs": [],
      "source": [
        "# Model checkpoint callback\n",
        "cp_callback = tf.keras.callbacks.ModelCheckpoint(\n",
        "    model_save_path, verbose=1, save_weights_only=False)\n",
        "# Callback for early stopping\n",
        "es_callback = tf.keras.callbacks.EarlyStopping(patience=20, verbose=1)"
      ]
    },
    {
      "cell_type": "code",
      "execution_count": 65,
      "metadata": {
        "id": "c3Dac0M_9hE2"
      },
      "outputs": [],
      "source": [
        "# Model compilation\n",
        "model.compile(\n",
        "    optimizer='adam',\n",
        "    loss='sparse_categorical_crossentropy',\n",
        "    metrics=['accuracy']\n",
        ")"
      ]
    },
    {
      "cell_type": "markdown",
      "metadata": {
        "id": "7XI0j1Iu9hE2"
      },
      "source": [
        "# Model training"
      ]
    },
    {
      "cell_type": "code",
      "execution_count": 66,
      "metadata": {
        "colab": {
          "base_uri": "https://localhost:8080/"
        },
        "id": "WirBl-JE9hE3",
        "outputId": "71b30ca2-8294-4d9d-8aa2-800d90d399de",
        "scrolled": true
      },
      "outputs": [
        {
          "name": "stdout",
          "output_type": "stream",
          "text": [
            "Epoch 1/1000\n"
          ]
        },
        {
          "name": "stdout",
          "output_type": "stream",
          "text": [
            "29/31 [===========================>..] - ETA: 0s - loss: 1.8901 - accuracy: 0.2470\n",
            "Epoch 1: saving model to model/keypoint_classifier\\keypoint_classifier.hdf5\n",
            "31/31 [==============================] - 2s 17ms/step - loss: 1.8805 - accuracy: 0.2497 - val_loss: 1.6687 - val_accuracy: 0.4162\n",
            "Epoch 2/1000\n",
            "18/31 [================>.............] - ETA: 0s - loss: 1.6923 - accuracy: 0.3281"
          ]
        },
        {
          "name": "stderr",
          "output_type": "stream",
          "text": [
            "C:\\Users\\Abhishek Gupta\\AppData\\Roaming\\Python\\Python311\\site-packages\\keras\\src\\engine\\training.py:3103: UserWarning: You are saving your model as an HDF5 file via `model.save()`. This file format is considered legacy. We recommend using instead the native Keras format, e.g. `model.save('my_model.keras')`.\n",
            "  saving_api.save_model(\n"
          ]
        },
        {
          "name": "stdout",
          "output_type": "stream",
          "text": [
            "\n",
            "Epoch 2: saving model to model/keypoint_classifier\\keypoint_classifier.hdf5\n",
            "31/31 [==============================] - 0s 9ms/step - loss: 1.6589 - accuracy: 0.3435 - val_loss: 1.5089 - val_accuracy: 0.4655\n",
            "Epoch 3/1000\n",
            "29/31 [===========================>..] - ETA: 0s - loss: 1.5199 - accuracy: 0.3971\n",
            "Epoch 3: saving model to model/keypoint_classifier\\keypoint_classifier.hdf5\n",
            "31/31 [==============================] - 0s 8ms/step - loss: 1.5145 - accuracy: 0.4009 - val_loss: 1.3841 - val_accuracy: 0.5436\n",
            "Epoch 4/1000\n",
            "30/31 [============================>.] - ETA: 0s - loss: 1.4354 - accuracy: 0.4237\n",
            "Epoch 4: saving model to model/keypoint_classifier\\keypoint_classifier.hdf5\n",
            "31/31 [==============================] - 0s 8ms/step - loss: 1.4342 - accuracy: 0.4229 - val_loss: 1.3027 - val_accuracy: 0.5459\n",
            "Epoch 5/1000\n",
            "30/31 [============================>.] - ETA: 0s - loss: 1.3888 - accuracy: 0.4430\n",
            "Epoch 5: saving model to model/keypoint_classifier\\keypoint_classifier.hdf5\n",
            "31/31 [==============================] - 0s 8ms/step - loss: 1.3893 - accuracy: 0.4429 - val_loss: 1.2406 - val_accuracy: 0.5694\n",
            "Epoch 6/1000\n",
            "17/31 [===============>..............] - ETA: 0s - loss: 1.3714 - accuracy: 0.4605\n",
            "Epoch 6: saving model to model/keypoint_classifier\\keypoint_classifier.hdf5\n",
            "31/31 [==============================] - 0s 7ms/step - loss: 1.3486 - accuracy: 0.4659 - val_loss: 1.1871 - val_accuracy: 0.5951\n",
            "Epoch 7/1000\n",
            "24/31 [======================>.......] - ETA: 0s - loss: 1.3172 - accuracy: 0.4652\n",
            "Epoch 7: saving model to model/keypoint_classifier\\keypoint_classifier.hdf5\n",
            "31/31 [==============================] - 0s 6ms/step - loss: 1.3171 - accuracy: 0.4671 - val_loss: 1.1420 - val_accuracy: 0.6020\n",
            "Epoch 8/1000\n",
            "21/31 [===================>..........] - ETA: 0s - loss: 1.2792 - accuracy: 0.4900\n",
            "Epoch 8: saving model to model/keypoint_classifier\\keypoint_classifier.hdf5\n",
            "31/31 [==============================] - 0s 6ms/step - loss: 1.2773 - accuracy: 0.4891 - val_loss: 1.0946 - val_accuracy: 0.6452\n",
            "Epoch 9/1000\n",
            "18/31 [================>.............] - ETA: 0s - loss: 1.2564 - accuracy: 0.4983\n",
            "Epoch 9: saving model to model/keypoint_classifier\\keypoint_classifier.hdf5\n",
            "31/31 [==============================] - 0s 6ms/step - loss: 1.2459 - accuracy: 0.5008 - val_loss: 1.0499 - val_accuracy: 0.6672\n",
            "Epoch 10/1000\n",
            "19/31 [=================>............] - ETA: 0s - loss: 1.2240 - accuracy: 0.5173\n",
            "Epoch 10: saving model to model/keypoint_classifier\\keypoint_classifier.hdf5\n",
            "31/31 [==============================] - 0s 7ms/step - loss: 1.2157 - accuracy: 0.5212 - val_loss: 1.0135 - val_accuracy: 0.6839\n",
            "Epoch 11/1000\n",
            "24/31 [======================>.......] - ETA: 0s - loss: 1.1792 - accuracy: 0.5426\n",
            "Epoch 11: saving model to model/keypoint_classifier\\keypoint_classifier.hdf5\n",
            "31/31 [==============================] - 0s 7ms/step - loss: 1.1766 - accuracy: 0.5442 - val_loss: 0.9710 - val_accuracy: 0.6876\n",
            "Epoch 12/1000\n",
            "20/31 [==================>...........] - ETA: 0s - loss: 1.1863 - accuracy: 0.5266\n",
            "Epoch 12: saving model to model/keypoint_classifier\\keypoint_classifier.hdf5\n",
            "31/31 [==============================] - 0s 6ms/step - loss: 1.1652 - accuracy: 0.5420 - val_loss: 0.9382 - val_accuracy: 0.7142\n",
            "Epoch 13/1000\n",
            "17/31 [===============>..............] - ETA: 0s - loss: 1.1429 - accuracy: 0.5414\n",
            "Epoch 13: saving model to model/keypoint_classifier\\keypoint_classifier.hdf5\n",
            "31/31 [==============================] - 0s 8ms/step - loss: 1.1377 - accuracy: 0.5465 - val_loss: 0.9082 - val_accuracy: 0.7157\n",
            "Epoch 14/1000\n",
            "28/31 [==========================>...] - ETA: 0s - loss: 1.1168 - accuracy: 0.5544\n",
            "Epoch 14: saving model to model/keypoint_classifier\\keypoint_classifier.hdf5\n",
            "31/31 [==============================] - 0s 11ms/step - loss: 1.1206 - accuracy: 0.5541 - val_loss: 0.8812 - val_accuracy: 0.7187\n",
            "Epoch 15/1000\n",
            "28/31 [==========================>...] - ETA: 0s - loss: 1.1015 - accuracy: 0.5580\n",
            "Epoch 15: saving model to model/keypoint_classifier\\keypoint_classifier.hdf5\n",
            "31/31 [==============================] - 0s 13ms/step - loss: 1.1020 - accuracy: 0.5566 - val_loss: 0.8554 - val_accuracy: 0.7202\n",
            "Epoch 16/1000\n",
            "23/31 [=====================>........] - ETA: 0s - loss: 1.0838 - accuracy: 0.5628\n",
            "Epoch 16: saving model to model/keypoint_classifier\\keypoint_classifier.hdf5\n",
            "31/31 [==============================] - 0s 11ms/step - loss: 1.0773 - accuracy: 0.5632 - val_loss: 0.8266 - val_accuracy: 0.7210\n",
            "Epoch 17/1000\n",
            "14/31 [============>.................] - ETA: 0s - loss: 1.0669 - accuracy: 0.5742\n",
            "Epoch 17: saving model to model/keypoint_classifier\\keypoint_classifier.hdf5\n",
            "31/31 [==============================] - 0s 8ms/step - loss: 1.0550 - accuracy: 0.5708 - val_loss: 0.8046 - val_accuracy: 0.7346\n",
            "Epoch 18/1000\n",
            "30/31 [============================>.] - ETA: 0s - loss: 1.0544 - accuracy: 0.5643\n",
            "Epoch 18: saving model to model/keypoint_classifier\\keypoint_classifier.hdf5\n",
            "31/31 [==============================] - 0s 11ms/step - loss: 1.0552 - accuracy: 0.5642 - val_loss: 0.7850 - val_accuracy: 0.7316\n",
            "Epoch 19/1000\n",
            "27/31 [=========================>....] - ETA: 0s - loss: 1.0555 - accuracy: 0.5732\n",
            "Epoch 19: saving model to model/keypoint_classifier\\keypoint_classifier.hdf5\n",
            "31/31 [==============================] - 0s 13ms/step - loss: 1.0462 - accuracy: 0.5786 - val_loss: 0.7706 - val_accuracy: 0.7400\n",
            "Epoch 20/1000\n",
            "29/31 [===========================>..] - ETA: 0s - loss: 1.0114 - accuracy: 0.5841\n",
            "Epoch 20: saving model to model/keypoint_classifier\\keypoint_classifier.hdf5\n",
            "31/31 [==============================] - 0s 11ms/step - loss: 1.0120 - accuracy: 0.5819 - val_loss: 0.7422 - val_accuracy: 0.7445\n",
            "Epoch 21/1000\n",
            "27/31 [=========================>....] - ETA: 0s - loss: 0.9955 - accuracy: 0.5903\n",
            "Epoch 21: saving model to model/keypoint_classifier\\keypoint_classifier.hdf5\n",
            "31/31 [==============================] - 0s 10ms/step - loss: 0.9914 - accuracy: 0.5915 - val_loss: 0.7235 - val_accuracy: 0.7574\n",
            "Epoch 22/1000\n",
            "30/31 [============================>.] - ETA: 0s - loss: 0.9814 - accuracy: 0.5990\n",
            "Epoch 22: saving model to model/keypoint_classifier\\keypoint_classifier.hdf5\n",
            "31/31 [==============================] - 0s 8ms/step - loss: 0.9813 - accuracy: 0.5991 - val_loss: 0.7004 - val_accuracy: 0.7642\n",
            "Epoch 23/1000\n",
            "19/31 [=================>............] - ETA: 0s - loss: 0.9447 - accuracy: 0.6209\n",
            "Epoch 23: saving model to model/keypoint_classifier\\keypoint_classifier.hdf5\n",
            "31/31 [==============================] - 0s 8ms/step - loss: 0.9594 - accuracy: 0.6165 - val_loss: 0.6865 - val_accuracy: 0.7604\n",
            "Epoch 24/1000\n",
            "15/31 [=============>................] - ETA: 0s - loss: 0.9558 - accuracy: 0.6042\n",
            "Epoch 24: saving model to model/keypoint_classifier\\keypoint_classifier.hdf5\n",
            "31/31 [==============================] - 0s 7ms/step - loss: 0.9564 - accuracy: 0.6057 - val_loss: 0.6709 - val_accuracy: 0.7718\n",
            "Epoch 25/1000\n",
            "17/31 [===============>..............] - ETA: 0s - loss: 0.9611 - accuracy: 0.5919\n",
            "Epoch 25: saving model to model/keypoint_classifier\\keypoint_classifier.hdf5\n",
            "31/31 [==============================] - 0s 5ms/step - loss: 0.9421 - accuracy: 0.6074 - val_loss: 0.6575 - val_accuracy: 0.7733\n",
            "Epoch 26/1000\n",
            "27/31 [=========================>....] - ETA: 0s - loss: 0.9502 - accuracy: 0.6143\n",
            "Epoch 26: saving model to model/keypoint_classifier\\keypoint_classifier.hdf5\n",
            "31/31 [==============================] - 0s 4ms/step - loss: 0.9488 - accuracy: 0.6130 - val_loss: 0.6417 - val_accuracy: 0.7771\n",
            "Epoch 27/1000\n",
            "27/31 [=========================>....] - ETA: 0s - loss: 0.9267 - accuracy: 0.6354\n",
            "Epoch 27: saving model to model/keypoint_classifier\\keypoint_classifier.hdf5\n",
            "31/31 [==============================] - 0s 7ms/step - loss: 0.9318 - accuracy: 0.6332 - val_loss: 0.6270 - val_accuracy: 0.8370\n",
            "Epoch 28/1000\n",
            "24/31 [======================>.......] - ETA: 0s - loss: 0.9047 - accuracy: 0.6344\n",
            "Epoch 28: saving model to model/keypoint_classifier\\keypoint_classifier.hdf5\n",
            "31/31 [==============================] - 0s 6ms/step - loss: 0.9057 - accuracy: 0.6347 - val_loss: 0.6094 - val_accuracy: 0.8461\n",
            "Epoch 29/1000\n",
            "19/31 [=================>............] - ETA: 0s - loss: 0.8935 - accuracy: 0.6369\n",
            "Epoch 29: saving model to model/keypoint_classifier\\keypoint_classifier.hdf5\n",
            "31/31 [==============================] - 0s 5ms/step - loss: 0.8937 - accuracy: 0.6380 - val_loss: 0.6019 - val_accuracy: 0.8484\n",
            "Epoch 30/1000\n",
            "28/31 [==========================>...] - ETA: 0s - loss: 0.8926 - accuracy: 0.6490\n",
            "Epoch 30: saving model to model/keypoint_classifier\\keypoint_classifier.hdf5\n",
            "31/31 [==============================] - 0s 5ms/step - loss: 0.8863 - accuracy: 0.6517 - val_loss: 0.5769 - val_accuracy: 0.8461\n",
            "Epoch 31/1000\n",
            "18/31 [================>.............] - ETA: 0s - loss: 0.8711 - accuracy: 0.6515\n",
            "Epoch 31: saving model to model/keypoint_classifier\\keypoint_classifier.hdf5\n",
            "31/31 [==============================] - 0s 5ms/step - loss: 0.8757 - accuracy: 0.6504 - val_loss: 0.5708 - val_accuracy: 0.8544\n",
            "Epoch 32/1000\n",
            "29/31 [===========================>..] - ETA: 0s - loss: 0.8702 - accuracy: 0.6611\n",
            "Epoch 32: saving model to model/keypoint_classifier\\keypoint_classifier.hdf5\n",
            "31/31 [==============================] - 0s 5ms/step - loss: 0.8720 - accuracy: 0.6600 - val_loss: 0.5520 - val_accuracy: 0.8666\n",
            "Epoch 33/1000\n",
            "22/31 [====================>.........] - ETA: 0s - loss: 0.8725 - accuracy: 0.6534\n",
            "Epoch 33: saving model to model/keypoint_classifier\\keypoint_classifier.hdf5\n",
            "31/31 [==============================] - 0s 5ms/step - loss: 0.8714 - accuracy: 0.6567 - val_loss: 0.5420 - val_accuracy: 0.8772\n",
            "Epoch 34/1000\n",
            "22/31 [====================>.........] - ETA: 0s - loss: 0.8676 - accuracy: 0.6669\n",
            "Epoch 34: saving model to model/keypoint_classifier\\keypoint_classifier.hdf5\n",
            "31/31 [==============================] - 0s 5ms/step - loss: 0.8603 - accuracy: 0.6694 - val_loss: 0.5322 - val_accuracy: 0.8734\n",
            "Epoch 35/1000\n",
            "20/31 [==================>...........] - ETA: 0s - loss: 0.8527 - accuracy: 0.6672\n",
            "Epoch 35: saving model to model/keypoint_classifier\\keypoint_classifier.hdf5\n",
            "31/31 [==============================] - 0s 5ms/step - loss: 0.8440 - accuracy: 0.6714 - val_loss: 0.5256 - val_accuracy: 0.8696\n",
            "Epoch 36/1000\n",
            "23/31 [=====================>........] - ETA: 0s - loss: 0.8514 - accuracy: 0.6508\n",
            "Epoch 36: saving model to model/keypoint_classifier\\keypoint_classifier.hdf5\n",
            "31/31 [==============================] - 0s 4ms/step - loss: 0.8471 - accuracy: 0.6600 - val_loss: 0.5177 - val_accuracy: 0.8802\n",
            "Epoch 37/1000\n",
            "19/31 [=================>............] - ETA: 0s - loss: 0.8372 - accuracy: 0.6674\n",
            "Epoch 37: saving model to model/keypoint_classifier\\keypoint_classifier.hdf5\n",
            "31/31 [==============================] - 0s 6ms/step - loss: 0.8298 - accuracy: 0.6709 - val_loss: 0.5062 - val_accuracy: 0.8825\n",
            "Epoch 38/1000\n",
            "20/31 [==================>...........] - ETA: 0s - loss: 0.8355 - accuracy: 0.6613\n",
            "Epoch 38: saving model to model/keypoint_classifier\\keypoint_classifier.hdf5\n",
            "31/31 [==============================] - 0s 5ms/step - loss: 0.8268 - accuracy: 0.6742 - val_loss: 0.4947 - val_accuracy: 0.8870\n",
            "Epoch 39/1000\n",
            "28/31 [==========================>...] - ETA: 0s - loss: 0.8087 - accuracy: 0.6886\n",
            "Epoch 39: saving model to model/keypoint_classifier\\keypoint_classifier.hdf5\n",
            "31/31 [==============================] - 0s 5ms/step - loss: 0.8057 - accuracy: 0.6898 - val_loss: 0.4783 - val_accuracy: 0.8984\n",
            "Epoch 40/1000\n",
            "22/31 [====================>.........] - ETA: 0s - loss: 0.7977 - accuracy: 0.6967\n",
            "Epoch 40: saving model to model/keypoint_classifier\\keypoint_classifier.hdf5\n",
            "31/31 [==============================] - 0s 5ms/step - loss: 0.8072 - accuracy: 0.6888 - val_loss: 0.4741 - val_accuracy: 0.8832\n",
            "Epoch 41/1000\n",
            "27/31 [=========================>....] - ETA: 0s - loss: 0.7998 - accuracy: 0.6924\n",
            "Epoch 41: saving model to model/keypoint_classifier\\keypoint_classifier.hdf5\n",
            "31/31 [==============================] - 0s 4ms/step - loss: 0.8038 - accuracy: 0.6903 - val_loss: 0.4675 - val_accuracy: 0.8923\n",
            "Epoch 42/1000\n",
            "22/31 [====================>.........] - ETA: 0s - loss: 0.7952 - accuracy: 0.6900\n",
            "Epoch 42: saving model to model/keypoint_classifier\\keypoint_classifier.hdf5\n",
            "31/31 [==============================] - 0s 6ms/step - loss: 0.8000 - accuracy: 0.6881 - val_loss: 0.4594 - val_accuracy: 0.9045\n",
            "Epoch 43/1000\n",
            "17/31 [===============>..............] - ETA: 0s - loss: 0.8030 - accuracy: 0.6907\n",
            "Epoch 43: saving model to model/keypoint_classifier\\keypoint_classifier.hdf5\n",
            "31/31 [==============================] - 0s 6ms/step - loss: 0.8088 - accuracy: 0.6807 - val_loss: 0.4570 - val_accuracy: 0.9052\n",
            "Epoch 44/1000\n",
            "22/31 [====================>.........] - ETA: 0s - loss: 0.7948 - accuracy: 0.6928\n",
            "Epoch 44: saving model to model/keypoint_classifier\\keypoint_classifier.hdf5\n",
            "31/31 [==============================] - 0s 6ms/step - loss: 0.8002 - accuracy: 0.6957 - val_loss: 0.4551 - val_accuracy: 0.8969\n",
            "Epoch 45/1000\n",
            "19/31 [=================>............] - ETA: 0s - loss: 0.7840 - accuracy: 0.6970\n",
            "Epoch 45: saving model to model/keypoint_classifier\\keypoint_classifier.hdf5\n",
            "31/31 [==============================] - 0s 8ms/step - loss: 0.7679 - accuracy: 0.7015 - val_loss: 0.4438 - val_accuracy: 0.9030\n",
            "Epoch 46/1000\n",
            "16/31 [==============>...............] - ETA: 0s - loss: 0.8087 - accuracy: 0.6841\n",
            "Epoch 46: saving model to model/keypoint_classifier\\keypoint_classifier.hdf5\n",
            "31/31 [==============================] - 0s 7ms/step - loss: 0.7930 - accuracy: 0.6962 - val_loss: 0.4396 - val_accuracy: 0.9030\n",
            "Epoch 47/1000\n",
            "29/31 [===========================>..] - ETA: 0s - loss: 0.7885 - accuracy: 0.6988\n",
            "Epoch 47: saving model to model/keypoint_classifier\\keypoint_classifier.hdf5\n",
            "31/31 [==============================] - 0s 7ms/step - loss: 0.7883 - accuracy: 0.6997 - val_loss: 0.4335 - val_accuracy: 0.8969\n",
            "Epoch 48/1000\n",
            "15/31 [=============>................] - ETA: 0s - loss: 0.7879 - accuracy: 0.7021\n",
            "Epoch 48: saving model to model/keypoint_classifier\\keypoint_classifier.hdf5\n",
            "31/31 [==============================] - 0s 6ms/step - loss: 0.7756 - accuracy: 0.7083 - val_loss: 0.4312 - val_accuracy: 0.9075\n",
            "Epoch 49/1000\n",
            "18/31 [================>.............] - ETA: 0s - loss: 0.7665 - accuracy: 0.6984\n",
            "Epoch 49: saving model to model/keypoint_classifier\\keypoint_classifier.hdf5\n",
            "31/31 [==============================] - 0s 5ms/step - loss: 0.7706 - accuracy: 0.7010 - val_loss: 0.4246 - val_accuracy: 0.9060\n",
            "Epoch 50/1000\n",
            "16/31 [==============>...............] - ETA: 0s - loss: 0.7640 - accuracy: 0.7002\n",
            "Epoch 50: saving model to model/keypoint_classifier\\keypoint_classifier.hdf5\n",
            "31/31 [==============================] - 0s 10ms/step - loss: 0.7502 - accuracy: 0.7080 - val_loss: 0.4105 - val_accuracy: 0.9128\n",
            "Epoch 51/1000\n",
            "15/31 [=============>................] - ETA: 0s - loss: 0.7914 - accuracy: 0.7036\n",
            "Epoch 51: saving model to model/keypoint_classifier\\keypoint_classifier.hdf5\n",
            "31/31 [==============================] - 0s 6ms/step - loss: 0.7716 - accuracy: 0.7108 - val_loss: 0.4039 - val_accuracy: 0.9196\n",
            "Epoch 52/1000\n",
            "20/31 [==================>...........] - ETA: 0s - loss: 0.7763 - accuracy: 0.7133\n",
            "Epoch 52: saving model to model/keypoint_classifier\\keypoint_classifier.hdf5\n",
            "31/31 [==============================] - 0s 5ms/step - loss: 0.7701 - accuracy: 0.7146 - val_loss: 0.4032 - val_accuracy: 0.9181\n",
            "Epoch 53/1000\n",
            "17/31 [===============>..............] - ETA: 0s - loss: 0.7721 - accuracy: 0.6994\n",
            "Epoch 53: saving model to model/keypoint_classifier\\keypoint_classifier.hdf5\n",
            "31/31 [==============================] - 0s 7ms/step - loss: 0.7497 - accuracy: 0.7045 - val_loss: 0.3975 - val_accuracy: 0.9136\n",
            "Epoch 54/1000\n",
            "19/31 [=================>............] - ETA: 0s - loss: 0.7505 - accuracy: 0.7220\n",
            "Epoch 54: saving model to model/keypoint_classifier\\keypoint_classifier.hdf5\n",
            "31/31 [==============================] - 0s 8ms/step - loss: 0.7498 - accuracy: 0.7212 - val_loss: 0.3953 - val_accuracy: 0.9121\n",
            "Epoch 55/1000\n",
            "23/31 [=====================>........] - ETA: 0s - loss: 0.7513 - accuracy: 0.7164\n",
            "Epoch 55: saving model to model/keypoint_classifier\\keypoint_classifier.hdf5\n",
            "31/31 [==============================] - 0s 5ms/step - loss: 0.7586 - accuracy: 0.7118 - val_loss: 0.3958 - val_accuracy: 0.9181\n",
            "Epoch 56/1000\n",
            "27/31 [=========================>....] - ETA: 0s - loss: 0.7540 - accuracy: 0.7092\n",
            "Epoch 56: saving model to model/keypoint_classifier\\keypoint_classifier.hdf5\n",
            "31/31 [==============================] - 0s 6ms/step - loss: 0.7515 - accuracy: 0.7133 - val_loss: 0.3897 - val_accuracy: 0.9174\n",
            "Epoch 57/1000\n",
            " 1/31 [..............................] - ETA: 0s - loss: 0.7223 - accuracy: 0.7344\n",
            "Epoch 57: saving model to model/keypoint_classifier\\keypoint_classifier.hdf5\n",
            "31/31 [==============================] - 0s 4ms/step - loss: 0.7420 - accuracy: 0.7217 - val_loss: 0.3883 - val_accuracy: 0.9158\n",
            "Epoch 58/1000\n",
            " 1/31 [..............................] - ETA: 0s - loss: 0.7156 - accuracy: 0.7422\n",
            "Epoch 58: saving model to model/keypoint_classifier\\keypoint_classifier.hdf5\n",
            "31/31 [==============================] - 0s 4ms/step - loss: 0.7352 - accuracy: 0.7197 - val_loss: 0.3841 - val_accuracy: 0.9189\n",
            "Epoch 59/1000\n",
            "26/31 [========================>.....] - ETA: 0s - loss: 0.7312 - accuracy: 0.7200\n",
            "Epoch 59: saving model to model/keypoint_classifier\\keypoint_classifier.hdf5\n",
            "31/31 [==============================] - 0s 4ms/step - loss: 0.7308 - accuracy: 0.7192 - val_loss: 0.3707 - val_accuracy: 0.9257\n",
            "Epoch 60/1000\n",
            "30/31 [============================>.] - ETA: 0s - loss: 0.7376 - accuracy: 0.7214\n",
            "Epoch 60: saving model to model/keypoint_classifier\\keypoint_classifier.hdf5\n",
            "31/31 [==============================] - 0s 5ms/step - loss: 0.7385 - accuracy: 0.7202 - val_loss: 0.3655 - val_accuracy: 0.9280\n",
            "Epoch 61/1000\n",
            "30/31 [============================>.] - ETA: 0s - loss: 0.7190 - accuracy: 0.7245\n",
            "Epoch 61: saving model to model/keypoint_classifier\\keypoint_classifier.hdf5\n",
            "31/31 [==============================] - 0s 4ms/step - loss: 0.7210 - accuracy: 0.7230 - val_loss: 0.3607 - val_accuracy: 0.9265\n",
            "Epoch 62/1000\n",
            "31/31 [==============================] - ETA: 0s - loss: 0.7141 - accuracy: 0.7310\n",
            "Epoch 62: saving model to model/keypoint_classifier\\keypoint_classifier.hdf5\n",
            "31/31 [==============================] - 0s 4ms/step - loss: 0.7141 - accuracy: 0.7310 - val_loss: 0.3571 - val_accuracy: 0.9295\n",
            "Epoch 63/1000\n",
            "29/31 [===========================>..] - ETA: 0s - loss: 0.7205 - accuracy: 0.7276\n",
            "Epoch 63: saving model to model/keypoint_classifier\\keypoint_classifier.hdf5\n",
            "31/31 [==============================] - 0s 4ms/step - loss: 0.7246 - accuracy: 0.7250 - val_loss: 0.3616 - val_accuracy: 0.9287\n",
            "Epoch 64/1000\n",
            "26/31 [========================>.....] - ETA: 0s - loss: 0.7346 - accuracy: 0.7239\n",
            "Epoch 64: saving model to model/keypoint_classifier\\keypoint_classifier.hdf5\n",
            "31/31 [==============================] - 0s 6ms/step - loss: 0.7340 - accuracy: 0.7235 - val_loss: 0.3619 - val_accuracy: 0.9333\n",
            "Epoch 65/1000\n",
            "30/31 [============================>.] - ETA: 0s - loss: 0.7028 - accuracy: 0.7312\n",
            "Epoch 65: saving model to model/keypoint_classifier\\keypoint_classifier.hdf5\n",
            "31/31 [==============================] - 0s 4ms/step - loss: 0.7073 - accuracy: 0.7290 - val_loss: 0.3517 - val_accuracy: 0.9249\n",
            "Epoch 66/1000\n",
            "27/31 [=========================>....] - ETA: 0s - loss: 0.7102 - accuracy: 0.7286\n",
            "Epoch 66: saving model to model/keypoint_classifier\\keypoint_classifier.hdf5\n",
            "31/31 [==============================] - 0s 5ms/step - loss: 0.7095 - accuracy: 0.7283 - val_loss: 0.3561 - val_accuracy: 0.9310\n",
            "Epoch 67/1000\n",
            "26/31 [========================>.....] - ETA: 0s - loss: 0.6966 - accuracy: 0.7401\n",
            "Epoch 67: saving model to model/keypoint_classifier\\keypoint_classifier.hdf5\n",
            "31/31 [==============================] - 0s 4ms/step - loss: 0.7009 - accuracy: 0.7391 - val_loss: 0.3508 - val_accuracy: 0.9287\n",
            "Epoch 68/1000\n",
            "31/31 [==============================] - ETA: 0s - loss: 0.7123 - accuracy: 0.7331\n",
            "Epoch 68: saving model to model/keypoint_classifier\\keypoint_classifier.hdf5\n",
            "31/31 [==============================] - 0s 4ms/step - loss: 0.7123 - accuracy: 0.7331 - val_loss: 0.3462 - val_accuracy: 0.9325\n",
            "Epoch 69/1000\n",
            "26/31 [========================>.....] - ETA: 0s - loss: 0.7096 - accuracy: 0.7293\n",
            "Epoch 69: saving model to model/keypoint_classifier\\keypoint_classifier.hdf5\n",
            "31/31 [==============================] - 0s 4ms/step - loss: 0.7148 - accuracy: 0.7267 - val_loss: 0.3446 - val_accuracy: 0.9325\n",
            "Epoch 70/1000\n",
            "26/31 [========================>.....] - ETA: 0s - loss: 0.7035 - accuracy: 0.7347\n",
            "Epoch 70: saving model to model/keypoint_classifier\\keypoint_classifier.hdf5\n",
            "31/31 [==============================] - 0s 5ms/step - loss: 0.6963 - accuracy: 0.7391 - val_loss: 0.3371 - val_accuracy: 0.9287\n",
            "Epoch 71/1000\n",
            "30/31 [============================>.] - ETA: 0s - loss: 0.7056 - accuracy: 0.7344\n",
            "Epoch 71: saving model to model/keypoint_classifier\\keypoint_classifier.hdf5\n",
            "31/31 [==============================] - 0s 4ms/step - loss: 0.7022 - accuracy: 0.7356 - val_loss: 0.3379 - val_accuracy: 0.9287\n",
            "Epoch 72/1000\n",
            "31/31 [==============================] - ETA: 0s - loss: 0.7146 - accuracy: 0.7338\n",
            "Epoch 72: saving model to model/keypoint_classifier\\keypoint_classifier.hdf5\n",
            "31/31 [==============================] - 0s 4ms/step - loss: 0.7146 - accuracy: 0.7338 - val_loss: 0.3398 - val_accuracy: 0.9280\n",
            "Epoch 73/1000\n",
            "25/31 [=======================>......] - ETA: 0s - loss: 0.6895 - accuracy: 0.7434\n",
            "Epoch 73: saving model to model/keypoint_classifier\\keypoint_classifier.hdf5\n",
            "31/31 [==============================] - 0s 4ms/step - loss: 0.6952 - accuracy: 0.7439 - val_loss: 0.3305 - val_accuracy: 0.9257\n",
            "Epoch 74/1000\n",
            "20/31 [==================>...........] - ETA: 0s - loss: 0.6918 - accuracy: 0.7461\n",
            "Epoch 74: saving model to model/keypoint_classifier\\keypoint_classifier.hdf5\n",
            "31/31 [==============================] - 0s 4ms/step - loss: 0.6970 - accuracy: 0.7419 - val_loss: 0.3277 - val_accuracy: 0.9265\n",
            "Epoch 75/1000\n",
            "21/31 [===================>..........] - ETA: 0s - loss: 0.6942 - accuracy: 0.7437\n",
            "Epoch 75: saving model to model/keypoint_classifier\\keypoint_classifier.hdf5\n",
            "31/31 [==============================] - 0s 4ms/step - loss: 0.7121 - accuracy: 0.7401 - val_loss: 0.3368 - val_accuracy: 0.9310\n",
            "Epoch 76/1000\n",
            "23/31 [=====================>........] - ETA: 0s - loss: 0.7122 - accuracy: 0.7388\n",
            "Epoch 76: saving model to model/keypoint_classifier\\keypoint_classifier.hdf5\n",
            "31/31 [==============================] - 0s 6ms/step - loss: 0.7101 - accuracy: 0.7379 - val_loss: 0.3343 - val_accuracy: 0.9280\n",
            "Epoch 77/1000\n",
            "16/31 [==============>...............] - ETA: 0s - loss: 0.7180 - accuracy: 0.7402\n",
            "Epoch 77: saving model to model/keypoint_classifier\\keypoint_classifier.hdf5\n",
            "31/31 [==============================] - 0s 8ms/step - loss: 0.7086 - accuracy: 0.7442 - val_loss: 0.3281 - val_accuracy: 0.9272\n",
            "Epoch 78/1000\n",
            "30/31 [============================>.] - ETA: 0s - loss: 0.7133 - accuracy: 0.7357\n",
            "Epoch 78: saving model to model/keypoint_classifier\\keypoint_classifier.hdf5\n",
            "31/31 [==============================] - 0s 8ms/step - loss: 0.7118 - accuracy: 0.7358 - val_loss: 0.3310 - val_accuracy: 0.9363\n",
            "Epoch 79/1000\n",
            "29/31 [===========================>..] - ETA: 0s - loss: 0.6951 - accuracy: 0.7441\n",
            "Epoch 79: saving model to model/keypoint_classifier\\keypoint_classifier.hdf5\n",
            "31/31 [==============================] - 0s 9ms/step - loss: 0.6968 - accuracy: 0.7437 - val_loss: 0.3219 - val_accuracy: 0.9348\n",
            "Epoch 80/1000\n",
            "19/31 [=================>............] - ETA: 0s - loss: 0.6833 - accuracy: 0.7418\n",
            "Epoch 80: saving model to model/keypoint_classifier\\keypoint_classifier.hdf5\n",
            "31/31 [==============================] - 0s 7ms/step - loss: 0.6982 - accuracy: 0.7412 - val_loss: 0.3219 - val_accuracy: 0.9348\n",
            "Epoch 81/1000\n",
            "18/31 [================>.............] - ETA: 0s - loss: 0.6901 - accuracy: 0.7344\n",
            "Epoch 81: saving model to model/keypoint_classifier\\keypoint_classifier.hdf5\n",
            "31/31 [==============================] - 0s 6ms/step - loss: 0.6896 - accuracy: 0.7432 - val_loss: 0.3227 - val_accuracy: 0.9340\n",
            "Epoch 82/1000\n",
            "18/31 [================>.............] - ETA: 0s - loss: 0.7050 - accuracy: 0.7274\n",
            "Epoch 82: saving model to model/keypoint_classifier\\keypoint_classifier.hdf5\n",
            "31/31 [==============================] - 0s 6ms/step - loss: 0.7050 - accuracy: 0.7333 - val_loss: 0.3290 - val_accuracy: 0.9333\n",
            "Epoch 83/1000\n",
            "15/31 [=============>................] - ETA: 0s - loss: 0.6952 - accuracy: 0.7411\n",
            "Epoch 83: saving model to model/keypoint_classifier\\keypoint_classifier.hdf5\n",
            "31/31 [==============================] - 0s 7ms/step - loss: 0.6784 - accuracy: 0.7523 - val_loss: 0.3194 - val_accuracy: 0.9348\n",
            "Epoch 84/1000\n",
            "28/31 [==========================>...] - ETA: 0s - loss: 0.6852 - accuracy: 0.7450\n",
            "Epoch 84: saving model to model/keypoint_classifier\\keypoint_classifier.hdf5\n",
            "31/31 [==============================] - 0s 7ms/step - loss: 0.6845 - accuracy: 0.7452 - val_loss: 0.3135 - val_accuracy: 0.9340\n",
            "Epoch 85/1000\n",
            "24/31 [======================>.......] - ETA: 0s - loss: 0.6805 - accuracy: 0.7565\n",
            "Epoch 85: saving model to model/keypoint_classifier\\keypoint_classifier.hdf5\n",
            "31/31 [==============================] - 0s 5ms/step - loss: 0.6894 - accuracy: 0.7513 - val_loss: 0.3139 - val_accuracy: 0.9303\n",
            "Epoch 86/1000\n",
            "22/31 [====================>.........] - ETA: 0s - loss: 0.7030 - accuracy: 0.7369\n",
            "Epoch 86: saving model to model/keypoint_classifier\\keypoint_classifier.hdf5\n",
            "31/31 [==============================] - 0s 5ms/step - loss: 0.6927 - accuracy: 0.7417 - val_loss: 0.3134 - val_accuracy: 0.9348\n",
            "Epoch 87/1000\n",
            "20/31 [==================>...........] - ETA: 0s - loss: 0.6779 - accuracy: 0.7453\n",
            "Epoch 87: saving model to model/keypoint_classifier\\keypoint_classifier.hdf5\n",
            "31/31 [==============================] - 0s 5ms/step - loss: 0.6767 - accuracy: 0.7457 - val_loss: 0.3100 - val_accuracy: 0.9356\n",
            "Epoch 88/1000\n",
            "26/31 [========================>.....] - ETA: 0s - loss: 0.6657 - accuracy: 0.7524\n",
            "Epoch 88: saving model to model/keypoint_classifier\\keypoint_classifier.hdf5\n",
            "31/31 [==============================] - 0s 5ms/step - loss: 0.6686 - accuracy: 0.7520 - val_loss: 0.3036 - val_accuracy: 0.9340\n",
            "Epoch 89/1000\n",
            "24/31 [======================>.......] - ETA: 0s - loss: 0.6885 - accuracy: 0.7471\n",
            "Epoch 89: saving model to model/keypoint_classifier\\keypoint_classifier.hdf5\n",
            "31/31 [==============================] - 0s 6ms/step - loss: 0.6905 - accuracy: 0.7472 - val_loss: 0.3167 - val_accuracy: 0.9356\n",
            "Epoch 90/1000\n",
            "23/31 [=====================>........] - ETA: 0s - loss: 0.6740 - accuracy: 0.7514\n",
            "Epoch 90: saving model to model/keypoint_classifier\\keypoint_classifier.hdf5\n",
            "31/31 [==============================] - 0s 6ms/step - loss: 0.6796 - accuracy: 0.7495 - val_loss: 0.3147 - val_accuracy: 0.9393\n",
            "Epoch 91/1000\n",
            "19/31 [=================>............] - ETA: 0s - loss: 0.7044 - accuracy: 0.7496\n",
            "Epoch 91: saving model to model/keypoint_classifier\\keypoint_classifier.hdf5\n",
            "31/31 [==============================] - 0s 6ms/step - loss: 0.6948 - accuracy: 0.7528 - val_loss: 0.3133 - val_accuracy: 0.9356\n",
            "Epoch 92/1000\n",
            "28/31 [==========================>...] - ETA: 0s - loss: 0.6659 - accuracy: 0.7539\n",
            "Epoch 92: saving model to model/keypoint_classifier\\keypoint_classifier.hdf5\n",
            "31/31 [==============================] - 0s 8ms/step - loss: 0.6736 - accuracy: 0.7487 - val_loss: 0.3041 - val_accuracy: 0.9371\n",
            "Epoch 93/1000\n",
            "22/31 [====================>.........] - ETA: 0s - loss: 0.6730 - accuracy: 0.7507\n",
            "Epoch 93: saving model to model/keypoint_classifier\\keypoint_classifier.hdf5\n",
            "31/31 [==============================] - 0s 6ms/step - loss: 0.6669 - accuracy: 0.7566 - val_loss: 0.3031 - val_accuracy: 0.9378\n",
            "Epoch 94/1000\n",
            "21/31 [===================>..........] - ETA: 0s - loss: 0.6543 - accuracy: 0.7560\n",
            "Epoch 94: saving model to model/keypoint_classifier\\keypoint_classifier.hdf5\n",
            "31/31 [==============================] - 0s 6ms/step - loss: 0.6730 - accuracy: 0.7510 - val_loss: 0.3011 - val_accuracy: 0.9363\n",
            "Epoch 95/1000\n",
            "16/31 [==============>...............] - ETA: 0s - loss: 0.6799 - accuracy: 0.7471\n",
            "Epoch 95: saving model to model/keypoint_classifier\\keypoint_classifier.hdf5\n",
            "31/31 [==============================] - 0s 7ms/step - loss: 0.6741 - accuracy: 0.7490 - val_loss: 0.2973 - val_accuracy: 0.9371\n",
            "Epoch 96/1000\n",
            "19/31 [=================>............] - ETA: 0s - loss: 0.6691 - accuracy: 0.7410\n",
            "Epoch 96: saving model to model/keypoint_classifier\\keypoint_classifier.hdf5\n",
            "31/31 [==============================] - 0s 7ms/step - loss: 0.6625 - accuracy: 0.7487 - val_loss: 0.2961 - val_accuracy: 0.9378\n",
            "Epoch 97/1000\n",
            "18/31 [================>.............] - ETA: 0s - loss: 0.6525 - accuracy: 0.7622\n",
            "Epoch 97: saving model to model/keypoint_classifier\\keypoint_classifier.hdf5\n",
            "31/31 [==============================] - 0s 7ms/step - loss: 0.6651 - accuracy: 0.7581 - val_loss: 0.2897 - val_accuracy: 0.9371\n",
            "Epoch 98/1000\n",
            "18/31 [================>.............] - ETA: 0s - loss: 0.6753 - accuracy: 0.7565\n",
            "Epoch 98: saving model to model/keypoint_classifier\\keypoint_classifier.hdf5\n",
            "31/31 [==============================] - 0s 6ms/step - loss: 0.6859 - accuracy: 0.7477 - val_loss: 0.2900 - val_accuracy: 0.9371\n",
            "Epoch 99/1000\n",
            "16/31 [==============>...............] - ETA: 0s - loss: 0.6626 - accuracy: 0.7617\n",
            "Epoch 99: saving model to model/keypoint_classifier\\keypoint_classifier.hdf5\n",
            "31/31 [==============================] - 0s 6ms/step - loss: 0.6668 - accuracy: 0.7530 - val_loss: 0.2924 - val_accuracy: 0.9333\n",
            "Epoch 100/1000\n",
            "22/31 [====================>.........] - ETA: 0s - loss: 0.6696 - accuracy: 0.7585\n",
            "Epoch 100: saving model to model/keypoint_classifier\\keypoint_classifier.hdf5\n",
            "31/31 [==============================] - 0s 6ms/step - loss: 0.6623 - accuracy: 0.7558 - val_loss: 0.2975 - val_accuracy: 0.9333\n",
            "Epoch 101/1000\n",
            "21/31 [===================>..........] - ETA: 0s - loss: 0.6750 - accuracy: 0.7403\n",
            "Epoch 101: saving model to model/keypoint_classifier\\keypoint_classifier.hdf5\n",
            "31/31 [==============================] - 0s 8ms/step - loss: 0.6509 - accuracy: 0.7533 - val_loss: 0.2915 - val_accuracy: 0.9348\n",
            "Epoch 102/1000\n",
            "16/31 [==============>...............] - ETA: 0s - loss: 0.6383 - accuracy: 0.7632\n",
            "Epoch 102: saving model to model/keypoint_classifier\\keypoint_classifier.hdf5\n",
            "31/31 [==============================] - 0s 6ms/step - loss: 0.6623 - accuracy: 0.7561 - val_loss: 0.2912 - val_accuracy: 0.9356\n",
            "Epoch 103/1000\n",
            "19/31 [=================>............] - ETA: 0s - loss: 0.6431 - accuracy: 0.7664\n",
            "Epoch 103: saving model to model/keypoint_classifier\\keypoint_classifier.hdf5\n",
            "31/31 [==============================] - 0s 6ms/step - loss: 0.6499 - accuracy: 0.7621 - val_loss: 0.2973 - val_accuracy: 0.9371\n",
            "Epoch 104/1000\n",
            "21/31 [===================>..........] - ETA: 0s - loss: 0.6627 - accuracy: 0.7578\n",
            "Epoch 104: saving model to model/keypoint_classifier\\keypoint_classifier.hdf5\n",
            "31/31 [==============================] - 0s 6ms/step - loss: 0.6634 - accuracy: 0.7538 - val_loss: 0.2974 - val_accuracy: 0.9325\n",
            "Epoch 105/1000\n",
            "21/31 [===================>..........] - ETA: 0s - loss: 0.6476 - accuracy: 0.7630\n",
            "Epoch 105: saving model to model/keypoint_classifier\\keypoint_classifier.hdf5\n",
            "31/31 [==============================] - 0s 6ms/step - loss: 0.6584 - accuracy: 0.7634 - val_loss: 0.2918 - val_accuracy: 0.9363\n",
            "Epoch 106/1000\n",
            "22/31 [====================>.........] - ETA: 0s - loss: 0.6674 - accuracy: 0.7539\n",
            "Epoch 106: saving model to model/keypoint_classifier\\keypoint_classifier.hdf5\n",
            "31/31 [==============================] - 0s 6ms/step - loss: 0.6579 - accuracy: 0.7556 - val_loss: 0.2922 - val_accuracy: 0.9348\n",
            "Epoch 107/1000\n",
            "18/31 [================>.............] - ETA: 0s - loss: 0.6721 - accuracy: 0.7504\n",
            "Epoch 107: saving model to model/keypoint_classifier\\keypoint_classifier.hdf5\n",
            "31/31 [==============================] - 0s 6ms/step - loss: 0.6501 - accuracy: 0.7548 - val_loss: 0.2924 - val_accuracy: 0.9363\n",
            "Epoch 108/1000\n",
            "21/31 [===================>..........] - ETA: 0s - loss: 0.6640 - accuracy: 0.7571\n",
            "Epoch 108: saving model to model/keypoint_classifier\\keypoint_classifier.hdf5\n",
            "31/31 [==============================] - 0s 7ms/step - loss: 0.6560 - accuracy: 0.7566 - val_loss: 0.2931 - val_accuracy: 0.9356\n",
            "Epoch 109/1000\n",
            "26/31 [========================>.....] - ETA: 0s - loss: 0.6557 - accuracy: 0.7671\n",
            "Epoch 109: saving model to model/keypoint_classifier\\keypoint_classifier.hdf5\n",
            "31/31 [==============================] - 0s 6ms/step - loss: 0.6555 - accuracy: 0.7649 - val_loss: 0.2949 - val_accuracy: 0.9303\n",
            "Epoch 110/1000\n",
            "20/31 [==================>...........] - ETA: 0s - loss: 0.6517 - accuracy: 0.7680\n",
            "Epoch 110: saving model to model/keypoint_classifier\\keypoint_classifier.hdf5\n",
            "31/31 [==============================] - 0s 7ms/step - loss: 0.6482 - accuracy: 0.7647 - val_loss: 0.2811 - val_accuracy: 0.9409\n",
            "Epoch 111/1000\n",
            "14/31 [============>.................] - ETA: 0s - loss: 0.6483 - accuracy: 0.7573\n",
            "Epoch 111: saving model to model/keypoint_classifier\\keypoint_classifier.hdf5\n",
            "31/31 [==============================] - 0s 7ms/step - loss: 0.6492 - accuracy: 0.7591 - val_loss: 0.2876 - val_accuracy: 0.9416\n",
            "Epoch 112/1000\n",
            "22/31 [====================>.........] - ETA: 0s - loss: 0.6160 - accuracy: 0.7763\n",
            "Epoch 112: saving model to model/keypoint_classifier\\keypoint_classifier.hdf5\n",
            "31/31 [==============================] - 0s 6ms/step - loss: 0.6404 - accuracy: 0.7662 - val_loss: 0.2807 - val_accuracy: 0.9401\n",
            "Epoch 113/1000\n",
            "17/31 [===============>..............] - ETA: 0s - loss: 0.6447 - accuracy: 0.7808\n",
            "Epoch 113: saving model to model/keypoint_classifier\\keypoint_classifier.hdf5\n",
            "31/31 [==============================] - 0s 6ms/step - loss: 0.6419 - accuracy: 0.7753 - val_loss: 0.2832 - val_accuracy: 0.9333\n",
            "Epoch 114/1000\n",
            "18/31 [================>.............] - ETA: 0s - loss: 0.6664 - accuracy: 0.7483\n",
            "Epoch 114: saving model to model/keypoint_classifier\\keypoint_classifier.hdf5\n",
            "31/31 [==============================] - 0s 7ms/step - loss: 0.6634 - accuracy: 0.7490 - val_loss: 0.2766 - val_accuracy: 0.9439\n",
            "Epoch 115/1000\n",
            "19/31 [=================>............] - ETA: 0s - loss: 0.6595 - accuracy: 0.7508\n",
            "Epoch 115: saving model to model/keypoint_classifier\\keypoint_classifier.hdf5\n",
            "31/31 [==============================] - 0s 7ms/step - loss: 0.6450 - accuracy: 0.7571 - val_loss: 0.2842 - val_accuracy: 0.9393\n",
            "Epoch 116/1000\n",
            "31/31 [==============================] - ETA: 0s - loss: 0.6437 - accuracy: 0.7586\n",
            "Epoch 116: saving model to model/keypoint_classifier\\keypoint_classifier.hdf5\n",
            "31/31 [==============================] - 0s 7ms/step - loss: 0.6437 - accuracy: 0.7586 - val_loss: 0.2799 - val_accuracy: 0.9386\n",
            "Epoch 117/1000\n",
            "27/31 [=========================>....] - ETA: 0s - loss: 0.6533 - accuracy: 0.7572\n",
            "Epoch 117: saving model to model/keypoint_classifier\\keypoint_classifier.hdf5\n",
            "31/31 [==============================] - 0s 9ms/step - loss: 0.6515 - accuracy: 0.7581 - val_loss: 0.2838 - val_accuracy: 0.9447\n",
            "Epoch 118/1000\n",
            "20/31 [==================>...........] - ETA: 0s - loss: 0.6519 - accuracy: 0.7695\n",
            "Epoch 118: saving model to model/keypoint_classifier\\keypoint_classifier.hdf5\n",
            "31/31 [==============================] - 0s 7ms/step - loss: 0.6547 - accuracy: 0.7624 - val_loss: 0.2824 - val_accuracy: 0.9416\n",
            "Epoch 119/1000\n",
            "20/31 [==================>...........] - ETA: 0s - loss: 0.6444 - accuracy: 0.7668\n",
            "Epoch 119: saving model to model/keypoint_classifier\\keypoint_classifier.hdf5\n",
            "31/31 [==============================] - 0s 6ms/step - loss: 0.6423 - accuracy: 0.7679 - val_loss: 0.2761 - val_accuracy: 0.9409\n",
            "Epoch 120/1000\n",
            "23/31 [=====================>........] - ETA: 0s - loss: 0.6398 - accuracy: 0.7629\n",
            "Epoch 120: saving model to model/keypoint_classifier\\keypoint_classifier.hdf5\n",
            "31/31 [==============================] - 0s 6ms/step - loss: 0.6376 - accuracy: 0.7631 - val_loss: 0.2775 - val_accuracy: 0.9409\n",
            "Epoch 121/1000\n",
            "19/31 [=================>............] - ETA: 0s - loss: 0.6480 - accuracy: 0.7734\n",
            "Epoch 121: saving model to model/keypoint_classifier\\keypoint_classifier.hdf5\n",
            "31/31 [==============================] - 0s 6ms/step - loss: 0.6394 - accuracy: 0.7722 - val_loss: 0.2758 - val_accuracy: 0.9393\n",
            "Epoch 122/1000\n",
            "18/31 [================>.............] - ETA: 0s - loss: 0.6121 - accuracy: 0.7730\n",
            "Epoch 122: saving model to model/keypoint_classifier\\keypoint_classifier.hdf5\n",
            "31/31 [==============================] - 0s 7ms/step - loss: 0.6366 - accuracy: 0.7649 - val_loss: 0.2687 - val_accuracy: 0.9477\n",
            "Epoch 123/1000\n",
            "24/31 [======================>.......] - ETA: 0s - loss: 0.6214 - accuracy: 0.7799\n",
            "Epoch 123: saving model to model/keypoint_classifier\\keypoint_classifier.hdf5\n",
            "31/31 [==============================] - 0s 5ms/step - loss: 0.6278 - accuracy: 0.7755 - val_loss: 0.2733 - val_accuracy: 0.9507\n",
            "Epoch 124/1000\n",
            "22/31 [====================>.........] - ETA: 0s - loss: 0.6484 - accuracy: 0.7646\n",
            "Epoch 124: saving model to model/keypoint_classifier\\keypoint_classifier.hdf5\n",
            "31/31 [==============================] - 0s 6ms/step - loss: 0.6571 - accuracy: 0.7657 - val_loss: 0.2809 - val_accuracy: 0.9447\n",
            "Epoch 125/1000\n",
            "20/31 [==================>...........] - ETA: 0s - loss: 0.6498 - accuracy: 0.7625\n",
            "Epoch 125: saving model to model/keypoint_classifier\\keypoint_classifier.hdf5\n",
            "31/31 [==============================] - 0s 6ms/step - loss: 0.6394 - accuracy: 0.7682 - val_loss: 0.2815 - val_accuracy: 0.9416\n",
            "Epoch 126/1000\n",
            "21/31 [===================>..........] - ETA: 0s - loss: 0.6336 - accuracy: 0.7701\n",
            "Epoch 126: saving model to model/keypoint_classifier\\keypoint_classifier.hdf5\n",
            "31/31 [==============================] - 0s 6ms/step - loss: 0.6400 - accuracy: 0.7647 - val_loss: 0.2694 - val_accuracy: 0.9424\n",
            "Epoch 127/1000\n",
            "20/31 [==================>...........] - ETA: 0s - loss: 0.6331 - accuracy: 0.7711\n",
            "Epoch 127: saving model to model/keypoint_classifier\\keypoint_classifier.hdf5\n",
            "31/31 [==============================] - 0s 6ms/step - loss: 0.6423 - accuracy: 0.7712 - val_loss: 0.2786 - val_accuracy: 0.9477\n",
            "Epoch 128/1000\n",
            "18/31 [================>.............] - ETA: 0s - loss: 0.6261 - accuracy: 0.7665\n",
            "Epoch 128: saving model to model/keypoint_classifier\\keypoint_classifier.hdf5\n",
            "31/31 [==============================] - 0s 7ms/step - loss: 0.6386 - accuracy: 0.7637 - val_loss: 0.2753 - val_accuracy: 0.9439\n",
            "Epoch 129/1000\n",
            "19/31 [=================>............] - ETA: 0s - loss: 0.6311 - accuracy: 0.7652\n",
            "Epoch 129: saving model to model/keypoint_classifier\\keypoint_classifier.hdf5\n",
            "31/31 [==============================] - 0s 8ms/step - loss: 0.6413 - accuracy: 0.7652 - val_loss: 0.2797 - val_accuracy: 0.9431\n",
            "Epoch 130/1000\n",
            "30/31 [============================>.] - ETA: 0s - loss: 0.6730 - accuracy: 0.7544\n",
            "Epoch 130: saving model to model/keypoint_classifier\\keypoint_classifier.hdf5\n",
            "31/31 [==============================] - 0s 8ms/step - loss: 0.6720 - accuracy: 0.7548 - val_loss: 0.2783 - val_accuracy: 0.9431\n",
            "Epoch 131/1000\n",
            "25/31 [=======================>......] - ETA: 0s - loss: 0.6424 - accuracy: 0.7669\n",
            "Epoch 131: saving model to model/keypoint_classifier\\keypoint_classifier.hdf5\n",
            "31/31 [==============================] - 0s 7ms/step - loss: 0.6370 - accuracy: 0.7667 - val_loss: 0.2762 - val_accuracy: 0.9447\n",
            "Epoch 132/1000\n",
            "23/31 [=====================>........] - ETA: 0s - loss: 0.6302 - accuracy: 0.7704\n",
            "Epoch 132: saving model to model/keypoint_classifier\\keypoint_classifier.hdf5\n",
            "31/31 [==============================] - 0s 6ms/step - loss: 0.6401 - accuracy: 0.7657 - val_loss: 0.2736 - val_accuracy: 0.9439\n",
            "Epoch 133/1000\n",
            "22/31 [====================>.........] - ETA: 0s - loss: 0.6370 - accuracy: 0.7713\n",
            "Epoch 133: saving model to model/keypoint_classifier\\keypoint_classifier.hdf5\n",
            "31/31 [==============================] - 0s 6ms/step - loss: 0.6329 - accuracy: 0.7748 - val_loss: 0.2790 - val_accuracy: 0.9424\n",
            "Epoch 134/1000\n",
            "20/31 [==================>...........] - ETA: 0s - loss: 0.6258 - accuracy: 0.7711\n",
            "Epoch 134: saving model to model/keypoint_classifier\\keypoint_classifier.hdf5\n",
            "31/31 [==============================] - 0s 6ms/step - loss: 0.6455 - accuracy: 0.7644 - val_loss: 0.2790 - val_accuracy: 0.9409\n",
            "Epoch 135/1000\n",
            "19/31 [=================>............] - ETA: 0s - loss: 0.6480 - accuracy: 0.7553\n",
            "Epoch 135: saving model to model/keypoint_classifier\\keypoint_classifier.hdf5\n",
            "31/31 [==============================] - 0s 8ms/step - loss: 0.6331 - accuracy: 0.7659 - val_loss: 0.2772 - val_accuracy: 0.9431\n",
            "Epoch 136/1000\n",
            "31/31 [==============================] - ETA: 0s - loss: 0.6219 - accuracy: 0.7788\n",
            "Epoch 136: saving model to model/keypoint_classifier\\keypoint_classifier.hdf5\n",
            "31/31 [==============================] - 0s 8ms/step - loss: 0.6219 - accuracy: 0.7788 - val_loss: 0.2700 - val_accuracy: 0.9447\n",
            "Epoch 137/1000\n",
            "30/31 [============================>.] - ETA: 0s - loss: 0.6325 - accuracy: 0.7628\n",
            "Epoch 137: saving model to model/keypoint_classifier\\keypoint_classifier.hdf5\n",
            "31/31 [==============================] - 0s 9ms/step - loss: 0.6325 - accuracy: 0.7631 - val_loss: 0.2788 - val_accuracy: 0.9393\n",
            "Epoch 138/1000\n",
            "31/31 [==============================] - ETA: 0s - loss: 0.6383 - accuracy: 0.7707\n",
            "Epoch 138: saving model to model/keypoint_classifier\\keypoint_classifier.hdf5\n",
            "31/31 [==============================] - 0s 8ms/step - loss: 0.6383 - accuracy: 0.7707 - val_loss: 0.2762 - val_accuracy: 0.9492\n",
            "Epoch 139/1000\n",
            "17/31 [===============>..............] - ETA: 0s - loss: 0.6300 - accuracy: 0.7707\n",
            "Epoch 139: saving model to model/keypoint_classifier\\keypoint_classifier.hdf5\n",
            "31/31 [==============================] - 0s 8ms/step - loss: 0.6303 - accuracy: 0.7692 - val_loss: 0.2741 - val_accuracy: 0.9401\n",
            "Epoch 140/1000\n",
            "22/31 [====================>.........] - ETA: 0s - loss: 0.6419 - accuracy: 0.7621\n",
            "Epoch 140: saving model to model/keypoint_classifier\\keypoint_classifier.hdf5\n",
            "31/31 [==============================] - 0s 6ms/step - loss: 0.6401 - accuracy: 0.7631 - val_loss: 0.2763 - val_accuracy: 0.9454\n",
            "Epoch 141/1000\n",
            "15/31 [=============>................] - ETA: 0s - loss: 0.6244 - accuracy: 0.7781\n",
            "Epoch 141: saving model to model/keypoint_classifier\\keypoint_classifier.hdf5\n",
            "31/31 [==============================] - 0s 7ms/step - loss: 0.6303 - accuracy: 0.7735 - val_loss: 0.2782 - val_accuracy: 0.9462\n",
            "Epoch 142/1000\n",
            "21/31 [===================>..........] - ETA: 0s - loss: 0.6445 - accuracy: 0.7619\n",
            "Epoch 142: saving model to model/keypoint_classifier\\keypoint_classifier.hdf5\n",
            "31/31 [==============================] - 0s 6ms/step - loss: 0.6260 - accuracy: 0.7702 - val_loss: 0.2740 - val_accuracy: 0.9477\n",
            "Epoch 142: early stopping\n"
          ]
        },
        {
          "data": {
            "text/plain": [
              "<keras.src.callbacks.History at 0x2c69fcec850>"
            ]
          },
          "execution_count": 66,
          "metadata": {},
          "output_type": "execute_result"
        }
      ],
      "source": [
        "model.fit(\n",
        "    X_train,\n",
        "    y_train,\n",
        "    epochs=1000,\n",
        "    batch_size=128,\n",
        "    validation_data=(X_test, y_test),\n",
        "    callbacks=[cp_callback, es_callback]\n",
        ")"
      ]
    },
    {
      "cell_type": "code",
      "execution_count": 67,
      "metadata": {
        "colab": {
          "base_uri": "https://localhost:8080/"
        },
        "id": "pxvb2Y299hE3",
        "outputId": "59eb3185-2e37-4b9e-bc9d-ab1b8ac29b7f"
      },
      "outputs": [
        {
          "name": "stdout",
          "output_type": "stream",
          "text": [
            "11/11 [==============================] - 0s 3ms/step - loss: 0.2740 - accuracy: 0.9477\n"
          ]
        }
      ],
      "source": [
        "# Model evaluation\n",
        "val_loss, val_acc = model.evaluate(X_test, y_test, batch_size=128)"
      ]
    },
    {
      "cell_type": "code",
      "execution_count": 68,
      "metadata": {
        "id": "RBkmDeUW9hE4"
      },
      "outputs": [],
      "source": [
        "# Loading the saved model\n",
        "model = tf.keras.models.load_model(model_save_path)"
      ]
    },
    {
      "cell_type": "code",
      "execution_count": 69,
      "metadata": {
        "colab": {
          "base_uri": "https://localhost:8080/"
        },
        "id": "tFz9Tb0I9hE4",
        "outputId": "1c3b3528-54ae-4ee2-ab04-77429211cbef"
      },
      "outputs": [
        {
          "name": "stdout",
          "output_type": "stream",
          "text": [
            "1/1 [==============================] - 0s 95ms/step\n",
            "[9.8790234e-01 1.0385445e-02 1.1369922e-05 1.3528725e-03 3.4724135e-04\n",
            " 6.1045893e-07]\n",
            "0\n"
          ]
        }
      ],
      "source": [
        "# Inference test\n",
        "predict_result = model.predict(np.array([X_test[0]]))\n",
        "print(np.squeeze(predict_result))\n",
        "print(np.argmax(np.squeeze(predict_result)))"
      ]
    },
    {
      "cell_type": "markdown",
      "metadata": {
        "id": "S3U4yNWx9hE4"
      },
      "source": [
        "# Confusion matrix"
      ]
    },
    {
      "cell_type": "code",
      "execution_count": 70,
      "metadata": {
        "colab": {
          "base_uri": "https://localhost:8080/",
          "height": 582
        },
        "id": "AP1V6SCk9hE5",
        "outputId": "08e41a80-7a4a-4619-8125-ecc371368d19"
      },
      "outputs": [
        {
          "name": "stdout",
          "output_type": "stream",
          "text": [
            "42/42 [==============================] - 0s 2ms/step\n"
          ]
        },
        {
          "data": {
            "image/png": "[encoded data removed]",
            "text/plain": [
              "<Figure size 700x600 with 2 Axes>"
            ]
          },
          "metadata": {},
          "output_type": "display_data"
        },
        {
          "name": "stdout",
          "output_type": "stream",
          "text": [
            "Classification Report\n",
            "              precision    recall  f1-score   support\n",
            "\n",
            "           0       0.97      0.98      0.98       406\n",
            "           1       0.90      0.94      0.92       365\n",
            "           2       0.94      0.98      0.96       344\n",
            "           3       1.00      0.96      0.98        78\n",
            "           4       1.00      0.97      0.98        62\n",
            "           5       1.00      0.58      0.73        64\n",
            "\n",
            "    accuracy                           0.95      1319\n",
            "   macro avg       0.97      0.90      0.93      1319\n",
            "weighted avg       0.95      0.95      0.95      1319\n",
            "\n"
          ]
        }
      ],
      "source": [
        "import pandas as pd\n",
        "import seaborn as sns\n",
        "import matplotlib.pyplot as plt\n",
        "from sklearn.metrics import confusion_matrix, classification_report\n",
        "\n",
        "def print_confusion_matrix(y_true, y_pred, report=True):\n",
        "    labels = sorted(list(set(y_true)))\n",
        "    cmx_data = confusion_matrix(y_true, y_pred, labels=labels)\n",
        "    \n",
        "    df_cmx = pd.DataFrame(cmx_data, index=labels, columns=labels)\n",
        " \n",
        "    fig, ax = plt.subplots(figsize=(7, 6))\n",
        "    sns.heatmap(df_cmx, annot=True, fmt='g' ,square=False)\n",
        "    ax.set_ylim(len(set(y_true)), 0)\n",
        "    plt.show()\n",
        "    \n",
        "    if report:\n",
        "        print('Classification Report')\n",
        "        print(classification_report(y_test, y_pred))\n",
        "\n",
        "Y_pred = model.predict(X_test)\n",
        "y_pred = np.argmax(Y_pred, axis=1)\n",
        "\n",
        "print_confusion_matrix(y_test, y_pred)"
      ]
    },
    {
      "cell_type": "markdown",
      "metadata": {
        "id": "FNP6aqzc9hE5"
      },
      "source": [
        "# Convert to model for Tensorflow-Lite"
      ]
    },
    {
      "cell_type": "code",
      "execution_count": 71,
      "metadata": {
        "id": "ODjnYyld9hE6"
      },
      "outputs": [
        {
          "name": "stderr",
          "output_type": "stream",
          "text": [
            "C:\\Users\\Abhishek Gupta\\AppData\\Roaming\\Python\\Python311\\site-packages\\keras\\src\\engine\\training.py:3103: UserWarning: You are saving your model as an HDF5 file via `model.save()`. This file format is considered legacy. We recommend using instead the native Keras format, e.g. `model.save('my_model.keras')`.\n",
            "  saving_api.save_model(\n"
          ]
        }
      ],
      "source": [
        "# Save as a model dedicated to inference\n",
        "model.save(model_save_path, include_optimizer=False)"
      ]
    },
    {
      "cell_type": "code",
      "execution_count": 72,
      "metadata": {
        "colab": {
          "base_uri": "https://localhost:8080/"
        },
        "id": "zRfuK8Y59hE6",
        "outputId": "a4ca585c-b5d5-4244-8291-8674063209bb"
      },
      "outputs": [
        {
          "name": "stdout",
          "output_type": "stream",
          "text": [
            "INFO:tensorflow:Assets written to: C:\\Users\\ABHISH~1\\AppData\\Local\\Temp\\tmp5mwfpw84\\assets\n"
          ]
        },
        {
          "name": "stderr",
          "output_type": "stream",
          "text": [
            "INFO:tensorflow:Assets written to: C:\\Users\\ABHISH~1\\AppData\\Local\\Temp\\tmp5mwfpw84\\assets\n"
          ]
        },
        {
          "data": {
            "text/plain": [
              "6684"
            ]
          },
          "execution_count": 72,
          "metadata": {},
          "output_type": "execute_result"
        }
      ],
      "source": [
        "# Transform model (quantization)\n",
        "\n",
        "converter = tf.lite.TFLiteConverter.from_keras_model(model)\n",
        "converter.optimizations = [tf.lite.Optimize.DEFAULT]\n",
        "tflite_quantized_model = converter.convert()\n",
        "\n",
        "open(tflite_save_path, 'wb').write(tflite_quantized_model)"
      ]
    },
    {
      "cell_type": "markdown",
      "metadata": {
        "id": "CHBPBXdx9hE6"
      },
      "source": [
        "# Inference test"
      ]
    },
    {
      "cell_type": "code",
      "execution_count": 73,
      "metadata": {
        "id": "mGAzLocO9hE7"
      },
      "outputs": [],
      "source": [
        "interpreter = tf.lite.Interpreter(model_path=tflite_save_path)\n",
        "interpreter.allocate_tensors()"
      ]
    },
    {
      "cell_type": "code",
      "execution_count": 74,
      "metadata": {
        "id": "oQuDK8YS9hE7"
      },
      "outputs": [],
      "source": [
        "# Get I / O tensor\n",
        "input_details = interpreter.get_input_details()\n",
        "output_details = interpreter.get_output_details()"
      ]
    },
    {
      "cell_type": "code",
      "execution_count": 75,
      "metadata": {
        "id": "2_ixAf_l9hE7"
      },
      "outputs": [],
      "source": [
        "interpreter.set_tensor(input_details[0]['index'], np.array([X_test[0]]))"
      ]
    },
    {
      "cell_type": "code",
      "execution_count": 76,
      "metadata": {
        "colab": {
          "base_uri": "https://localhost:8080/"
        },
        "id": "s4FoAnuc9hE7",
        "outputId": "91f18257-8d8b-4ef3-c558-e9b5f94fabbf",
        "scrolled": true
      },
      "outputs": [
        {
          "name": "stdout",
          "output_type": "stream",
          "text": [
            "CPU times: total: 0 ns\n",
            "Wall time: 0 ns\n"
          ]
        }
      ],
      "source": [
        "%%time\n",
        "# Inference implementation\n",
        "interpreter.invoke()\n",
        "tflite_results = interpreter.get_tensor(output_details[0]['index'])"
      ]
    },
    {
      "cell_type": "code",
      "execution_count": 77,
      "metadata": {
        "colab": {
          "base_uri": "https://localhost:8080/"
        },
        "id": "vONjp19J9hE8",
        "outputId": "77205e24-fd00-42c4-f7b6-e06e527c2cba"
      },
      "outputs": [
        {
          "name": "stdout",
          "output_type": "stream",
          "text": [
            "[9.87902343e-01 1.03854453e-02 1.13699325e-05 1.35287188e-03\n",
            " 3.47241526e-04 6.10458869e-07]\n",
            "0\n"
          ]
        }
      ],
      "source": [
        "print(np.squeeze(tflite_results))\n",
        "print(np.argmax(np.squeeze(tflite_results)))"
      ]
    }
  ],
  "metadata": {
    "accelerator": "GPU",
    "colab": {
      "collapsed_sections": [],
      "name": "keypoint_classification_EN.ipynb",
      "provenance": [],
      "toc_visible": true
    },
    "kernelspec": {
      "display_name": "Python 3",
      "language": "python",
      "name": "python3"
    },
    "language_info": {
      "codemirror_mode": {
        "name": "ipython",
        "version": 3
      },
      "file_extension": ".py",
      "mimetype": "text/x-python",
      "name": "python",
      "nbconvert_exporter": "python",
      "pygments_lexer": "ipython3",
      "version": "3.11.1"
    }
  },
  "nbformat": 4,
  "nbformat_minor": 0
}

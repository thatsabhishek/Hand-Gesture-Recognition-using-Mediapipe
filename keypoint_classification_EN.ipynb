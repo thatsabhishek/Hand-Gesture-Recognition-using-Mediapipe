{
  "cells": [
    {
      "cell_type": "code",
      "execution_count": 166,
      "metadata": {
        "id": "igMyGnjE9hEp"
      },
      "outputs": [],
      "source": [
        "import csv\n",
        "\n",
        "import numpy as np\n",
        "import tensorflow as tf\n",
        "from sklearn.model_selection import train_test_split\n",
        "\n",
        "RANDOM_SEED = 42"
      ]
    },
    {
      "cell_type": "markdown",
      "metadata": {
        "id": "t2HDvhIu9hEr"
      },
      "source": [
        "# Specify each path"
      ]
    },
    {
      "cell_type": "code",
      "execution_count": 167,
      "metadata": {
        "id": "9NvZP2Zn9hEy"
      },
      "outputs": [],
      "source": [
        "dataset = 'model/keypoint_classifier/keypoint.csv'\n",
        "model_save_path = 'model/keypoint_classifier/keypoint_classifier.hdf5'\n",
        "tflite_save_path = 'model/keypoint_classifier/keypoint_classifier.tflite'"
      ]
    },
    {
      "cell_type": "markdown",
      "metadata": {
        "id": "s5oMH7x19hEz"
      },
      "source": [
        "# Set number of classes"
      ]
    },
    {
      "cell_type": "code",
      "execution_count": 168,
      "metadata": {
        "id": "du4kodXL9hEz"
      },
      "outputs": [],
      "source": [
        "NUM_CLASSES = 6"
      ]
    },
    {
      "cell_type": "markdown",
      "metadata": {
        "id": "XjnL0uso9hEz"
      },
      "source": [
        "# Dataset reading"
      ]
    },
    {
      "cell_type": "code",
      "execution_count": 169,
      "metadata": {
        "id": "QT5ZqtEz9hE0"
      },
      "outputs": [],
      "source": [
        "X_dataset = np.loadtxt(dataset, delimiter=',', dtype='float32', usecols=list(range(1, (21 * 2) + 1)))"
      ]
    },
    {
      "cell_type": "code",
      "execution_count": 170,
      "metadata": {
        "id": "QmoKFsp49hE0"
      },
      "outputs": [],
      "source": [
        "y_dataset = np.loadtxt(dataset, delimiter=',', dtype='int32', usecols=(0))"
      ]
    },
    {
      "cell_type": "code",
      "execution_count": 171,
      "metadata": {
        "id": "xQU7JTZ_9hE0"
      },
      "outputs": [],
      "source": [
        "X_train, X_test, y_train, y_test = train_test_split(X_dataset, y_dataset, train_size=0.75, random_state=RANDOM_SEED)"
      ]
    },
    {
      "cell_type": "markdown",
      "metadata": {
        "id": "mxK_lETT9hE0"
      },
      "source": [
        "# Model building"
      ]
    },
    {
      "cell_type": "code",
      "execution_count": 172,
      "metadata": {
        "id": "vHBmUf1t9hE1"
      },
      "outputs": [],
      "source": [
        "model = tf.keras.models.Sequential([\n",
        "    tf.keras.layers.Input((21 * 2, )),\n",
        "    tf.keras.layers.Dropout(0.2),\n",
        "    tf.keras.layers.Dense(20, activation='relu'),\n",
        "    tf.keras.layers.Dropout(0.4),\n",
        "    tf.keras.layers.Dense(10, activation='relu'),\n",
        "    tf.keras.layers.Dense(NUM_CLASSES, activation='softmax')\n",
        "])"
      ]
    },
    {
      "cell_type": "code",
      "execution_count": 173,
      "metadata": {
        "colab": {
          "base_uri": "https://localhost:8080/"
        },
        "id": "ypqky9tc9hE1",
        "outputId": "5db082bb-30e3-4110-bf63-a1ee777ecd46"
      },
      "outputs": [
        {
          "name": "stdout",
          "output_type": "stream",
          "text": [
            "Model: \"sequential_8\"\n",
            "_________________________________________________________________\n",
            " Layer (type)                Output Shape              Param #   \n",
            "=================================================================\n",
            " dropout_16 (Dropout)        (None, 42)                0         \n",
            "                                                                 \n",
            " dense_24 (Dense)            (None, 20)                860       \n",
            "                                                                 \n",
            " dropout_17 (Dropout)        (None, 20)                0         \n",
            "                                                                 \n",
            " dense_25 (Dense)            (None, 10)                210       \n",
            "                                                                 \n",
            " dense_26 (Dense)            (None, 6)                 66        \n",
            "                                                                 \n",
            "=================================================================\n",
            "Total params: 1136 (4.44 KB)\n",
            "Trainable params: 1136 (4.44 KB)\n",
            "Non-trainable params: 0 (0.00 Byte)\n",
            "_________________________________________________________________\n"
          ]
        }
      ],
      "source": [
        "model.summary()  # tf.keras.utils.plot_model(model, show_shapes=True)"
      ]
    },
    {
      "cell_type": "code",
      "execution_count": 174,
      "metadata": {
        "id": "MbMjOflQ9hE1"
      },
      "outputs": [],
      "source": [
        "# Model checkpoint callback\n",
        "cp_callback = tf.keras.callbacks.ModelCheckpoint(\n",
        "    model_save_path, verbose=1, save_weights_only=False)\n",
        "# Callback for early stopping\n",
        "es_callback = tf.keras.callbacks.EarlyStopping(patience=20, verbose=1)"
      ]
    },
    {
      "cell_type": "code",
      "execution_count": 175,
      "metadata": {
        "id": "c3Dac0M_9hE2"
      },
      "outputs": [],
      "source": [
        "# Model compilation\n",
        "model.compile(\n",
        "    optimizer='adam',\n",
        "    loss='sparse_categorical_crossentropy',\n",
        "    metrics=['accuracy']\n",
        ")"
      ]
    },
    {
      "cell_type": "markdown",
      "metadata": {
        "id": "7XI0j1Iu9hE2"
      },
      "source": [
        "# Model training"
      ]
    },
    {
      "cell_type": "code",
      "execution_count": 176,
      "metadata": {
        "colab": {
          "base_uri": "https://localhost:8080/"
        },
        "id": "WirBl-JE9hE3",
        "outputId": "71b30ca2-8294-4d9d-8aa2-800d90d399de",
        "scrolled": true
      },
      "outputs": [
        {
          "name": "stdout",
          "output_type": "stream",
          "text": [
            "Epoch 1/1000\n"
          ]
        },
        {
          "name": "stdout",
          "output_type": "stream",
          "text": [
            "20/31 [==================>...........] - ETA: 0s - loss: 1.8262 - accuracy: 0.2039 \n",
            "Epoch 1: saving model to model/keypoint_classifier\\keypoint_classifier.hdf5\n",
            "31/31 [==============================] - 1s 12ms/step - loss: 1.8004 - accuracy: 0.2247 - val_loss: 1.6881 - val_accuracy: 0.2896\n",
            "Epoch 2/1000\n",
            "19/31 [=================>............] - ETA: 0s - loss: 1.6990 - accuracy: 0.2751\n",
            "Epoch 2: saving model to model/keypoint_classifier\\keypoint_classifier.hdf5\n"
          ]
        },
        {
          "name": "stderr",
          "output_type": "stream",
          "text": [
            "C:\\Users\\Abhishek Gupta\\AppData\\Roaming\\Python\\Python311\\site-packages\\keras\\src\\engine\\training.py:3103: UserWarning: You are saving your model as an HDF5 file via `model.save()`. This file format is considered legacy. We recommend using instead the native Keras format, e.g. `model.save('my_model.keras')`.\n",
            "  saving_api.save_model(\n"
          ]
        },
        {
          "name": "stdout",
          "output_type": "stream",
          "text": [
            "31/31 [==============================] - 0s 5ms/step - loss: 1.6784 - accuracy: 0.2892 - val_loss: 1.5921 - val_accuracy: 0.3343\n",
            "Epoch 3/1000\n",
            "20/31 [==================>...........] - ETA: 0s - loss: 1.6077 - accuracy: 0.3242\n",
            "Epoch 3: saving model to model/keypoint_classifier\\keypoint_classifier.hdf5\n",
            "31/31 [==============================] - 0s 5ms/step - loss: 1.5914 - accuracy: 0.3281 - val_loss: 1.4889 - val_accuracy: 0.3927\n",
            "Epoch 4/1000\n",
            "20/31 [==================>...........] - ETA: 0s - loss: 1.5146 - accuracy: 0.3484\n",
            "Epoch 4: saving model to model/keypoint_classifier\\keypoint_classifier.hdf5\n",
            "31/31 [==============================] - 0s 6ms/step - loss: 1.5088 - accuracy: 0.3511 - val_loss: 1.3989 - val_accuracy: 0.4920\n",
            "Epoch 5/1000\n",
            "19/31 [=================>............] - ETA: 0s - loss: 1.4571 - accuracy: 0.3795\n",
            "Epoch 5: saving model to model/keypoint_classifier\\keypoint_classifier.hdf5\n",
            "31/31 [==============================] - 0s 5ms/step - loss: 1.4406 - accuracy: 0.3878 - val_loss: 1.3237 - val_accuracy: 0.5747\n",
            "Epoch 6/1000\n",
            "21/31 [===================>..........] - ETA: 0s - loss: 1.4019 - accuracy: 0.4237\n",
            "Epoch 6: saving model to model/keypoint_classifier\\keypoint_classifier.hdf5\n",
            "31/31 [==============================] - 0s 5ms/step - loss: 1.3964 - accuracy: 0.4272 - val_loss: 1.2600 - val_accuracy: 0.6368\n",
            "Epoch 7/1000\n",
            "20/31 [==================>...........] - ETA: 0s - loss: 1.3603 - accuracy: 0.4492\n",
            "Epoch 7: saving model to model/keypoint_classifier\\keypoint_classifier.hdf5\n",
            "31/31 [==============================] - 0s 6ms/step - loss: 1.3494 - accuracy: 0.4502 - val_loss: 1.2091 - val_accuracy: 0.6619\n",
            "Epoch 8/1000\n",
            "24/31 [======================>.......] - ETA: 0s - loss: 1.3261 - accuracy: 0.4668\n",
            "Epoch 8: saving model to model/keypoint_classifier\\keypoint_classifier.hdf5\n",
            "31/31 [==============================] - 0s 5ms/step - loss: 1.3246 - accuracy: 0.4671 - val_loss: 1.1627 - val_accuracy: 0.6823\n",
            "Epoch 9/1000\n",
            "21/31 [===================>..........] - ETA: 0s - loss: 1.2856 - accuracy: 0.4747\n",
            "Epoch 9: saving model to model/keypoint_classifier\\keypoint_classifier.hdf5\n",
            "31/31 [==============================] - 0s 6ms/step - loss: 1.2800 - accuracy: 0.4795 - val_loss: 1.1287 - val_accuracy: 0.6649\n",
            "Epoch 10/1000\n",
            "24/31 [======================>.......] - ETA: 0s - loss: 1.2491 - accuracy: 0.4922\n",
            "Epoch 10: saving model to model/keypoint_classifier\\keypoint_classifier.hdf5\n",
            "31/31 [==============================] - 0s 5ms/step - loss: 1.2543 - accuracy: 0.4896 - val_loss: 1.0917 - val_accuracy: 0.6808\n",
            "Epoch 11/1000\n",
            "31/31 [==============================] - ETA: 0s - loss: 1.2295 - accuracy: 0.4977\n",
            "Epoch 11: saving model to model/keypoint_classifier\\keypoint_classifier.hdf5\n",
            "31/31 [==============================] - 0s 8ms/step - loss: 1.2295 - accuracy: 0.4977 - val_loss: 1.0514 - val_accuracy: 0.6899\n",
            "Epoch 12/1000\n",
            "23/31 [=====================>........] - ETA: 0s - loss: 1.1847 - accuracy: 0.5214\n",
            "Epoch 12: saving model to model/keypoint_classifier\\keypoint_classifier.hdf5\n",
            "31/31 [==============================] - 0s 5ms/step - loss: 1.1862 - accuracy: 0.5245 - val_loss: 1.0034 - val_accuracy: 0.6861\n",
            "Epoch 13/1000\n",
            "18/31 [================>.............] - ETA: 0s - loss: 1.1856 - accuracy: 0.5191\n",
            "Epoch 13: saving model to model/keypoint_classifier\\keypoint_classifier.hdf5\n",
            "31/31 [==============================] - 0s 5ms/step - loss: 1.1718 - accuracy: 0.5281 - val_loss: 0.9513 - val_accuracy: 0.6945\n",
            "Epoch 14/1000\n",
            "17/31 [===============>..............] - ETA: 0s - loss: 1.1516 - accuracy: 0.5303\n",
            "Epoch 14: saving model to model/keypoint_classifier\\keypoint_classifier.hdf5\n",
            "31/31 [==============================] - 0s 6ms/step - loss: 1.1429 - accuracy: 0.5361 - val_loss: 0.9192 - val_accuracy: 0.7074\n",
            "Epoch 15/1000\n",
            "19/31 [=================>............] - ETA: 0s - loss: 1.0952 - accuracy: 0.5440\n",
            "Epoch 15: saving model to model/keypoint_classifier\\keypoint_classifier.hdf5\n",
            "31/31 [==============================] - 0s 5ms/step - loss: 1.1082 - accuracy: 0.5435 - val_loss: 0.8740 - val_accuracy: 0.7316\n",
            "Epoch 16/1000\n",
            "15/31 [=============>................] - ETA: 0s - loss: 1.1109 - accuracy: 0.5312\n",
            "Epoch 16: saving model to model/keypoint_classifier\\keypoint_classifier.hdf5\n",
            "31/31 [==============================] - 0s 5ms/step - loss: 1.0876 - accuracy: 0.5516 - val_loss: 0.8390 - val_accuracy: 0.7559\n",
            "Epoch 17/1000\n",
            "20/31 [==================>...........] - ETA: 0s - loss: 1.0523 - accuracy: 0.5699\n",
            "Epoch 17: saving model to model/keypoint_classifier\\keypoint_classifier.hdf5\n",
            "31/31 [==============================] - 0s 5ms/step - loss: 1.0582 - accuracy: 0.5667 - val_loss: 0.7958 - val_accuracy: 0.7726\n",
            "Epoch 18/1000\n",
            "17/31 [===============>..............] - ETA: 0s - loss: 1.0637 - accuracy: 0.5478\n",
            "Epoch 18: saving model to model/keypoint_classifier\\keypoint_classifier.hdf5\n",
            "31/31 [==============================] - 0s 6ms/step - loss: 1.0289 - accuracy: 0.5675 - val_loss: 0.7618 - val_accuracy: 0.7748\n",
            "Epoch 19/1000\n",
            "23/31 [=====================>........] - ETA: 0s - loss: 1.0206 - accuracy: 0.5781\n",
            "Epoch 19: saving model to model/keypoint_classifier\\keypoint_classifier.hdf5\n",
            "31/31 [==============================] - 0s 5ms/step - loss: 1.0112 - accuracy: 0.5827 - val_loss: 0.7300 - val_accuracy: 0.7817\n",
            "Epoch 20/1000\n",
            "21/31 [===================>..........] - ETA: 0s - loss: 0.9961 - accuracy: 0.5915\n",
            "Epoch 20: saving model to model/keypoint_classifier\\keypoint_classifier.hdf5\n",
            "31/31 [==============================] - 0s 5ms/step - loss: 0.9943 - accuracy: 0.5913 - val_loss: 0.7029 - val_accuracy: 0.7832\n",
            "Epoch 21/1000\n",
            "17/31 [===============>..............] - ETA: 0s - loss: 0.9588 - accuracy: 0.6002\n",
            "Epoch 21: saving model to model/keypoint_classifier\\keypoint_classifier.hdf5\n",
            "31/31 [==============================] - 0s 6ms/step - loss: 0.9606 - accuracy: 0.5973 - val_loss: 0.6758 - val_accuracy: 0.7938\n",
            "Epoch 22/1000\n",
            "17/31 [===============>..............] - ETA: 0s - loss: 0.9765 - accuracy: 0.5933\n",
            "Epoch 22: saving model to model/keypoint_classifier\\keypoint_classifier.hdf5\n",
            "31/31 [==============================] - 0s 6ms/step - loss: 0.9677 - accuracy: 0.6019 - val_loss: 0.6559 - val_accuracy: 0.8097\n",
            "Epoch 23/1000\n",
            "16/31 [==============>...............] - ETA: 0s - loss: 0.9384 - accuracy: 0.6113\n",
            "Epoch 23: saving model to model/keypoint_classifier\\keypoint_classifier.hdf5\n",
            "31/31 [==============================] - 0s 6ms/step - loss: 0.9405 - accuracy: 0.6110 - val_loss: 0.6435 - val_accuracy: 0.7998\n",
            "Epoch 24/1000\n",
            "26/31 [========================>.....] - ETA: 0s - loss: 0.9401 - accuracy: 0.6112\n",
            "Epoch 24: saving model to model/keypoint_classifier\\keypoint_classifier.hdf5\n",
            "31/31 [==============================] - 0s 6ms/step - loss: 0.9352 - accuracy: 0.6163 - val_loss: 0.6251 - val_accuracy: 0.8158\n",
            "Epoch 25/1000\n",
            "21/31 [===================>..........] - ETA: 0s - loss: 0.9088 - accuracy: 0.6373\n",
            "Epoch 25: saving model to model/keypoint_classifier\\keypoint_classifier.hdf5\n",
            "31/31 [==============================] - 0s 5ms/step - loss: 0.8987 - accuracy: 0.6400 - val_loss: 0.6023 - val_accuracy: 0.8249\n",
            "Epoch 26/1000\n",
            "19/31 [=================>............] - ETA: 0s - loss: 0.9201 - accuracy: 0.6308\n",
            "Epoch 26: saving model to model/keypoint_classifier\\keypoint_classifier.hdf5\n",
            "31/31 [==============================] - 0s 5ms/step - loss: 0.9137 - accuracy: 0.6322 - val_loss: 0.5961 - val_accuracy: 0.8226\n",
            "Epoch 27/1000\n",
            "21/31 [===================>..........] - ETA: 0s - loss: 0.8914 - accuracy: 0.6410\n",
            "Epoch 27: saving model to model/keypoint_classifier\\keypoint_classifier.hdf5\n",
            "31/31 [==============================] - 0s 5ms/step - loss: 0.8947 - accuracy: 0.6400 - val_loss: 0.5807 - val_accuracy: 0.8340\n",
            "Epoch 28/1000\n",
            "17/31 [===============>..............] - ETA: 0s - loss: 0.8828 - accuracy: 0.6526\n",
            "Epoch 28: saving model to model/keypoint_classifier\\keypoint_classifier.hdf5\n",
            "31/31 [==============================] - 0s 6ms/step - loss: 0.8965 - accuracy: 0.6416 - val_loss: 0.5706 - val_accuracy: 0.8378\n",
            "Epoch 29/1000\n",
            "22/31 [====================>.........] - ETA: 0s - loss: 0.8733 - accuracy: 0.6417\n",
            "Epoch 29: saving model to model/keypoint_classifier\\keypoint_classifier.hdf5\n",
            "31/31 [==============================] - 0s 5ms/step - loss: 0.8865 - accuracy: 0.6426 - val_loss: 0.5561 - val_accuracy: 0.8499\n",
            "Epoch 30/1000\n",
            "18/31 [================>.............] - ETA: 0s - loss: 0.9040 - accuracy: 0.6224\n",
            "Epoch 30: saving model to model/keypoint_classifier\\keypoint_classifier.hdf5\n",
            "31/31 [==============================] - 0s 5ms/step - loss: 0.8977 - accuracy: 0.6271 - val_loss: 0.5601 - val_accuracy: 0.8484\n",
            "Epoch 31/1000\n",
            "18/31 [================>.............] - ETA: 0s - loss: 0.8618 - accuracy: 0.6628\n",
            "Epoch 31: saving model to model/keypoint_classifier\\keypoint_classifier.hdf5\n",
            "31/31 [==============================] - 0s 6ms/step - loss: 0.8627 - accuracy: 0.6539 - val_loss: 0.5441 - val_accuracy: 0.8552\n",
            "Epoch 32/1000\n",
            "18/31 [================>.............] - ETA: 0s - loss: 0.8727 - accuracy: 0.6541\n",
            "Epoch 32: saving model to model/keypoint_classifier\\keypoint_classifier.hdf5\n",
            "31/31 [==============================] - 0s 5ms/step - loss: 0.8654 - accuracy: 0.6572 - val_loss: 0.5384 - val_accuracy: 0.8544\n",
            "Epoch 33/1000\n",
            "19/31 [=================>............] - ETA: 0s - loss: 0.8552 - accuracy: 0.6468\n",
            "Epoch 33: saving model to model/keypoint_classifier\\keypoint_classifier.hdf5\n",
            "31/31 [==============================] - 0s 5ms/step - loss: 0.8454 - accuracy: 0.6587 - val_loss: 0.5257 - val_accuracy: 0.8741\n",
            "Epoch 34/1000\n",
            "15/31 [=============>................] - ETA: 0s - loss: 0.8691 - accuracy: 0.6505\n",
            "Epoch 34: saving model to model/keypoint_classifier\\keypoint_classifier.hdf5\n",
            "31/31 [==============================] - 0s 5ms/step - loss: 0.8601 - accuracy: 0.6544 - val_loss: 0.5246 - val_accuracy: 0.8711\n",
            "Epoch 35/1000\n",
            "23/31 [=====================>........] - ETA: 0s - loss: 0.8471 - accuracy: 0.6620\n",
            "Epoch 35: saving model to model/keypoint_classifier\\keypoint_classifier.hdf5\n",
            "31/31 [==============================] - 0s 5ms/step - loss: 0.8284 - accuracy: 0.6721 - val_loss: 0.5071 - val_accuracy: 0.8810\n",
            "Epoch 36/1000\n",
            "21/31 [===================>..........] - ETA: 0s - loss: 0.8368 - accuracy: 0.6644\n",
            "Epoch 36: saving model to model/keypoint_classifier\\keypoint_classifier.hdf5\n",
            "31/31 [==============================] - 0s 7ms/step - loss: 0.8432 - accuracy: 0.6681 - val_loss: 0.4947 - val_accuracy: 0.8855\n",
            "Epoch 37/1000\n",
            "31/31 [==============================] - ETA: 0s - loss: 0.8227 - accuracy: 0.6719\n",
            "Epoch 37: saving model to model/keypoint_classifier\\keypoint_classifier.hdf5\n",
            "31/31 [==============================] - 0s 5ms/step - loss: 0.8227 - accuracy: 0.6719 - val_loss: 0.4873 - val_accuracy: 0.8840\n",
            "Epoch 38/1000\n",
            "22/31 [====================>.........] - ETA: 0s - loss: 0.8293 - accuracy: 0.6694\n",
            "Epoch 38: saving model to model/keypoint_classifier\\keypoint_classifier.hdf5\n",
            "31/31 [==============================] - 0s 5ms/step - loss: 0.8329 - accuracy: 0.6711 - val_loss: 0.4849 - val_accuracy: 0.8961\n",
            "Epoch 39/1000\n",
            "20/31 [==================>...........] - ETA: 0s - loss: 0.8224 - accuracy: 0.6684\n",
            "Epoch 39: saving model to model/keypoint_classifier\\keypoint_classifier.hdf5\n",
            "31/31 [==============================] - 0s 5ms/step - loss: 0.8267 - accuracy: 0.6678 - val_loss: 0.4776 - val_accuracy: 0.8931\n",
            "Epoch 40/1000\n",
            "21/31 [===================>..........] - ETA: 0s - loss: 0.8124 - accuracy: 0.6801\n",
            "Epoch 40: saving model to model/keypoint_classifier\\keypoint_classifier.hdf5\n",
            "31/31 [==============================] - 0s 5ms/step - loss: 0.8100 - accuracy: 0.6772 - val_loss: 0.4721 - val_accuracy: 0.8946\n",
            "Epoch 41/1000\n",
            "21/31 [===================>..........] - ETA: 0s - loss: 0.8286 - accuracy: 0.6752\n",
            "Epoch 41: saving model to model/keypoint_classifier\\keypoint_classifier.hdf5\n",
            "31/31 [==============================] - 0s 5ms/step - loss: 0.8213 - accuracy: 0.6749 - val_loss: 0.4733 - val_accuracy: 0.9022\n",
            "Epoch 42/1000\n",
            "16/31 [==============>...............] - ETA: 0s - loss: 0.8183 - accuracy: 0.6782\n",
            "Epoch 42: saving model to model/keypoint_classifier\\keypoint_classifier.hdf5\n",
            "31/31 [==============================] - 0s 5ms/step - loss: 0.8082 - accuracy: 0.6828 - val_loss: 0.4665 - val_accuracy: 0.9060\n",
            "Epoch 43/1000\n",
            "19/31 [=================>............] - ETA: 0s - loss: 0.8043 - accuracy: 0.6867\n",
            "Epoch 43: saving model to model/keypoint_classifier\\keypoint_classifier.hdf5\n",
            "31/31 [==============================] - 0s 6ms/step - loss: 0.8185 - accuracy: 0.6782 - val_loss: 0.4542 - val_accuracy: 0.9113\n",
            "Epoch 44/1000\n",
            "21/31 [===================>..........] - ETA: 0s - loss: 0.7858 - accuracy: 0.6864\n",
            "Epoch 44: saving model to model/keypoint_classifier\\keypoint_classifier.hdf5\n",
            "31/31 [==============================] - 0s 5ms/step - loss: 0.7838 - accuracy: 0.6858 - val_loss: 0.4555 - val_accuracy: 0.9060\n",
            "Epoch 45/1000\n",
            "18/31 [================>.............] - ETA: 0s - loss: 0.8065 - accuracy: 0.6714\n",
            "Epoch 45: saving model to model/keypoint_classifier\\keypoint_classifier.hdf5\n",
            "31/31 [==============================] - 0s 6ms/step - loss: 0.8041 - accuracy: 0.6754 - val_loss: 0.4503 - val_accuracy: 0.9105\n",
            "Epoch 46/1000\n",
            "18/31 [================>.............] - ETA: 0s - loss: 0.7885 - accuracy: 0.6862\n",
            "Epoch 46: saving model to model/keypoint_classifier\\keypoint_classifier.hdf5\n",
            "31/31 [==============================] - 0s 6ms/step - loss: 0.7773 - accuracy: 0.6929 - val_loss: 0.4476 - val_accuracy: 0.9060\n",
            "Epoch 47/1000\n",
            "22/31 [====================>.........] - ETA: 0s - loss: 0.7959 - accuracy: 0.6886\n",
            "Epoch 47: saving model to model/keypoint_classifier\\keypoint_classifier.hdf5\n",
            "31/31 [==============================] - 0s 5ms/step - loss: 0.7840 - accuracy: 0.6886 - val_loss: 0.4415 - val_accuracy: 0.9166\n",
            "Epoch 48/1000\n",
            "19/31 [=================>............] - ETA: 0s - loss: 0.7674 - accuracy: 0.7027\n",
            "Epoch 48: saving model to model/keypoint_classifier\\keypoint_classifier.hdf5\n",
            "31/31 [==============================] - 0s 7ms/step - loss: 0.7799 - accuracy: 0.6997 - val_loss: 0.4369 - val_accuracy: 0.9136\n",
            "Epoch 49/1000\n",
            "23/31 [=====================>........] - ETA: 0s - loss: 0.7677 - accuracy: 0.6936\n",
            "Epoch 49: saving model to model/keypoint_classifier\\keypoint_classifier.hdf5\n",
            "31/31 [==============================] - 0s 5ms/step - loss: 0.7723 - accuracy: 0.6962 - val_loss: 0.4296 - val_accuracy: 0.9181\n",
            "Epoch 50/1000\n",
            "18/31 [================>.............] - ETA: 0s - loss: 0.7567 - accuracy: 0.7092\n",
            "Epoch 50: saving model to model/keypoint_classifier\\keypoint_classifier.hdf5\n",
            "31/31 [==============================] - 0s 6ms/step - loss: 0.7713 - accuracy: 0.6934 - val_loss: 0.4354 - val_accuracy: 0.9219\n",
            "Epoch 51/1000\n",
            "24/31 [======================>.......] - ETA: 0s - loss: 0.7868 - accuracy: 0.6882\n",
            "Epoch 51: saving model to model/keypoint_classifier\\keypoint_classifier.hdf5\n",
            "31/31 [==============================] - 0s 4ms/step - loss: 0.7854 - accuracy: 0.6873 - val_loss: 0.4349 - val_accuracy: 0.9242\n",
            "Epoch 52/1000\n",
            "20/31 [==================>...........] - ETA: 0s - loss: 0.7766 - accuracy: 0.7000\n",
            "Epoch 52: saving model to model/keypoint_classifier\\keypoint_classifier.hdf5\n",
            "31/31 [==============================] - 0s 6ms/step - loss: 0.7762 - accuracy: 0.6962 - val_loss: 0.4322 - val_accuracy: 0.9272\n",
            "Epoch 53/1000\n",
            "17/31 [===============>..............] - ETA: 0s - loss: 0.7617 - accuracy: 0.6884\n",
            "Epoch 53: saving model to model/keypoint_classifier\\keypoint_classifier.hdf5\n",
            "31/31 [==============================] - 0s 6ms/step - loss: 0.7623 - accuracy: 0.6901 - val_loss: 0.4260 - val_accuracy: 0.9242\n",
            "Epoch 54/1000\n",
            "20/31 [==================>...........] - ETA: 0s - loss: 0.7811 - accuracy: 0.7055\n",
            "Epoch 54: saving model to model/keypoint_classifier\\keypoint_classifier.hdf5\n",
            "31/31 [==============================] - 0s 6ms/step - loss: 0.7840 - accuracy: 0.7035 - val_loss: 0.4233 - val_accuracy: 0.9272\n",
            "Epoch 55/1000\n",
            "22/31 [====================>.........] - ETA: 0s - loss: 0.7579 - accuracy: 0.7038\n",
            "Epoch 55: saving model to model/keypoint_classifier\\keypoint_classifier.hdf5\n",
            "31/31 [==============================] - 0s 6ms/step - loss: 0.7721 - accuracy: 0.7050 - val_loss: 0.4277 - val_accuracy: 0.9242\n",
            "Epoch 56/1000\n",
            "20/31 [==================>...........] - ETA: 0s - loss: 0.7705 - accuracy: 0.7059\n",
            "Epoch 56: saving model to model/keypoint_classifier\\keypoint_classifier.hdf5\n",
            "31/31 [==============================] - 0s 5ms/step - loss: 0.7602 - accuracy: 0.7040 - val_loss: 0.4148 - val_accuracy: 0.9310\n",
            "Epoch 57/1000\n",
            "21/31 [===================>..........] - ETA: 0s - loss: 0.7499 - accuracy: 0.7109\n",
            "Epoch 57: saving model to model/keypoint_classifier\\keypoint_classifier.hdf5\n",
            "31/31 [==============================] - 0s 6ms/step - loss: 0.7575 - accuracy: 0.7068 - val_loss: 0.4135 - val_accuracy: 0.9249\n",
            "Epoch 58/1000\n",
            "22/31 [====================>.........] - ETA: 0s - loss: 0.7572 - accuracy: 0.7067\n",
            "Epoch 58: saving model to model/keypoint_classifier\\keypoint_classifier.hdf5\n",
            "31/31 [==============================] - 0s 5ms/step - loss: 0.7405 - accuracy: 0.7131 - val_loss: 0.4045 - val_accuracy: 0.9234\n",
            "Epoch 59/1000\n",
            "25/31 [=======================>......] - ETA: 0s - loss: 0.7451 - accuracy: 0.7109\n",
            "Epoch 59: saving model to model/keypoint_classifier\\keypoint_classifier.hdf5\n",
            "31/31 [==============================] - 0s 7ms/step - loss: 0.7410 - accuracy: 0.7101 - val_loss: 0.4011 - val_accuracy: 0.9401\n",
            "Epoch 60/1000\n",
            "20/31 [==================>...........] - ETA: 0s - loss: 0.7434 - accuracy: 0.7156\n",
            "Epoch 60: saving model to model/keypoint_classifier\\keypoint_classifier.hdf5\n",
            "31/31 [==============================] - 0s 6ms/step - loss: 0.7348 - accuracy: 0.7171 - val_loss: 0.3965 - val_accuracy: 0.9325\n",
            "Epoch 61/1000\n",
            "27/31 [=========================>....] - ETA: 0s - loss: 0.7392 - accuracy: 0.7115\n",
            "Epoch 61: saving model to model/keypoint_classifier\\keypoint_classifier.hdf5\n",
            "31/31 [==============================] - 0s 5ms/step - loss: 0.7368 - accuracy: 0.7123 - val_loss: 0.3934 - val_accuracy: 0.9393\n",
            "Epoch 62/1000\n",
            "17/31 [===============>..............] - ETA: 0s - loss: 0.7436 - accuracy: 0.7096\n",
            "Epoch 62: saving model to model/keypoint_classifier\\keypoint_classifier.hdf5\n",
            "31/31 [==============================] - 0s 6ms/step - loss: 0.7392 - accuracy: 0.7108 - val_loss: 0.3990 - val_accuracy: 0.9371\n",
            "Epoch 63/1000\n",
            "16/31 [==============>...............] - ETA: 0s - loss: 0.7195 - accuracy: 0.7192\n",
            "Epoch 63: saving model to model/keypoint_classifier\\keypoint_classifier.hdf5\n",
            "31/31 [==============================] - 0s 5ms/step - loss: 0.7373 - accuracy: 0.7139 - val_loss: 0.3903 - val_accuracy: 0.9371\n",
            "Epoch 64/1000\n",
            "24/31 [======================>.......] - ETA: 0s - loss: 0.7413 - accuracy: 0.7171\n",
            "Epoch 64: saving model to model/keypoint_classifier\\keypoint_classifier.hdf5\n",
            "31/31 [==============================] - 0s 5ms/step - loss: 0.7365 - accuracy: 0.7156 - val_loss: 0.3880 - val_accuracy: 0.9409\n",
            "Epoch 65/1000\n",
            "21/31 [===================>..........] - ETA: 0s - loss: 0.7190 - accuracy: 0.7087\n",
            "Epoch 65: saving model to model/keypoint_classifier\\keypoint_classifier.hdf5\n",
            "31/31 [==============================] - 0s 5ms/step - loss: 0.7265 - accuracy: 0.7103 - val_loss: 0.3890 - val_accuracy: 0.9401\n",
            "Epoch 66/1000\n",
            "20/31 [==================>...........] - ETA: 0s - loss: 0.7197 - accuracy: 0.7367\n",
            "Epoch 66: saving model to model/keypoint_classifier\\keypoint_classifier.hdf5\n",
            "31/31 [==============================] - 0s 6ms/step - loss: 0.7023 - accuracy: 0.7346 - val_loss: 0.3843 - val_accuracy: 0.9386\n",
            "Epoch 67/1000\n",
            "17/31 [===============>..............] - ETA: 0s - loss: 0.7323 - accuracy: 0.7261\n",
            "Epoch 67: saving model to model/keypoint_classifier\\keypoint_classifier.hdf5\n",
            "31/31 [==============================] - 0s 5ms/step - loss: 0.7386 - accuracy: 0.7247 - val_loss: 0.3806 - val_accuracy: 0.9401\n",
            "Epoch 68/1000\n",
            "19/31 [=================>............] - ETA: 0s - loss: 0.7285 - accuracy: 0.7262\n",
            "Epoch 68: saving model to model/keypoint_classifier\\keypoint_classifier.hdf5\n",
            "31/31 [==============================] - 0s 5ms/step - loss: 0.7309 - accuracy: 0.7262 - val_loss: 0.3836 - val_accuracy: 0.9386\n",
            "Epoch 69/1000\n",
            "21/31 [===================>..........] - ETA: 0s - loss: 0.7292 - accuracy: 0.7221\n",
            "Epoch 69: saving model to model/keypoint_classifier\\keypoint_classifier.hdf5\n",
            "31/31 [==============================] - 0s 7ms/step - loss: 0.7270 - accuracy: 0.7262 - val_loss: 0.3790 - val_accuracy: 0.9386\n",
            "Epoch 70/1000\n",
            "17/31 [===============>..............] - ETA: 0s - loss: 0.7422 - accuracy: 0.7132\n",
            "Epoch 70: saving model to model/keypoint_classifier\\keypoint_classifier.hdf5\n",
            "31/31 [==============================] - 0s 5ms/step - loss: 0.7329 - accuracy: 0.7184 - val_loss: 0.3819 - val_accuracy: 0.9401\n",
            "Epoch 71/1000\n",
            "19/31 [=================>............] - ETA: 0s - loss: 0.7136 - accuracy: 0.7196\n",
            "Epoch 71: saving model to model/keypoint_classifier\\keypoint_classifier.hdf5\n",
            "31/31 [==============================] - 0s 5ms/step - loss: 0.7036 - accuracy: 0.7230 - val_loss: 0.3695 - val_accuracy: 0.9416\n",
            "Epoch 72/1000\n",
            "21/31 [===================>..........] - ETA: 0s - loss: 0.7132 - accuracy: 0.7258\n",
            "Epoch 72: saving model to model/keypoint_classifier\\keypoint_classifier.hdf5\n",
            "31/31 [==============================] - 0s 5ms/step - loss: 0.7108 - accuracy: 0.7245 - val_loss: 0.3693 - val_accuracy: 0.9462\n",
            "Epoch 73/1000\n",
            "27/31 [=========================>....] - ETA: 0s - loss: 0.7127 - accuracy: 0.7199\n",
            "Epoch 73: saving model to model/keypoint_classifier\\keypoint_classifier.hdf5\n",
            "31/31 [==============================] - 0s 5ms/step - loss: 0.7240 - accuracy: 0.7184 - val_loss: 0.3781 - val_accuracy: 0.9393\n",
            "Epoch 74/1000\n",
            "21/31 [===================>..........] - ETA: 0s - loss: 0.7369 - accuracy: 0.7228\n",
            "Epoch 74: saving model to model/keypoint_classifier\\keypoint_classifier.hdf5\n",
            "31/31 [==============================] - 0s 5ms/step - loss: 0.7190 - accuracy: 0.7278 - val_loss: 0.3784 - val_accuracy: 0.9416\n",
            "Epoch 75/1000\n",
            "19/31 [=================>............] - ETA: 0s - loss: 0.7190 - accuracy: 0.7216\n",
            "Epoch 75: saving model to model/keypoint_classifier\\keypoint_classifier.hdf5\n",
            "31/31 [==============================] - 0s 6ms/step - loss: 0.7262 - accuracy: 0.7192 - val_loss: 0.3738 - val_accuracy: 0.9454\n",
            "Epoch 76/1000\n",
            "23/31 [=====================>........] - ETA: 0s - loss: 0.6986 - accuracy: 0.7198\n",
            "Epoch 76: saving model to model/keypoint_classifier\\keypoint_classifier.hdf5\n",
            "31/31 [==============================] - 0s 6ms/step - loss: 0.6936 - accuracy: 0.7257 - val_loss: 0.3702 - val_accuracy: 0.9416\n",
            "Epoch 77/1000\n",
            "24/31 [======================>.......] - ETA: 0s - loss: 0.7203 - accuracy: 0.7259\n",
            "Epoch 77: saving model to model/keypoint_classifier\\keypoint_classifier.hdf5\n",
            "31/31 [==============================] - 0s 5ms/step - loss: 0.7135 - accuracy: 0.7285 - val_loss: 0.3615 - val_accuracy: 0.9522\n",
            "Epoch 78/1000\n",
            "20/31 [==================>...........] - ETA: 0s - loss: 0.7082 - accuracy: 0.7266\n",
            "Epoch 78: saving model to model/keypoint_classifier\\keypoint_classifier.hdf5\n",
            "31/31 [==============================] - 0s 6ms/step - loss: 0.7094 - accuracy: 0.7240 - val_loss: 0.3642 - val_accuracy: 0.9431\n",
            "Epoch 79/1000\n",
            "22/31 [====================>.........] - ETA: 0s - loss: 0.7146 - accuracy: 0.7266\n",
            "Epoch 79: saving model to model/keypoint_classifier\\keypoint_classifier.hdf5\n",
            "31/31 [==============================] - 0s 6ms/step - loss: 0.7190 - accuracy: 0.7252 - val_loss: 0.3636 - val_accuracy: 0.9431\n",
            "Epoch 80/1000\n",
            "16/31 [==============>...............] - ETA: 0s - loss: 0.7015 - accuracy: 0.7368\n",
            "Epoch 80: saving model to model/keypoint_classifier\\keypoint_classifier.hdf5\n",
            "31/31 [==============================] - 0s 5ms/step - loss: 0.6998 - accuracy: 0.7321 - val_loss: 0.3606 - val_accuracy: 0.9447\n",
            "Epoch 81/1000\n",
            "20/31 [==================>...........] - ETA: 0s - loss: 0.6907 - accuracy: 0.7383\n",
            "Epoch 81: saving model to model/keypoint_classifier\\keypoint_classifier.hdf5\n",
            "31/31 [==============================] - 0s 6ms/step - loss: 0.7084 - accuracy: 0.7250 - val_loss: 0.3680 - val_accuracy: 0.9447\n",
            "Epoch 82/1000\n",
            "20/31 [==================>...........] - ETA: 0s - loss: 0.6923 - accuracy: 0.7348\n",
            "Epoch 82: saving model to model/keypoint_classifier\\keypoint_classifier.hdf5\n",
            "31/31 [==============================] - 0s 6ms/step - loss: 0.7008 - accuracy: 0.7356 - val_loss: 0.3650 - val_accuracy: 0.9431\n",
            "Epoch 83/1000\n",
            "23/31 [=====================>........] - ETA: 0s - loss: 0.6909 - accuracy: 0.7320\n",
            "Epoch 83: saving model to model/keypoint_classifier\\keypoint_classifier.hdf5\n",
            "31/31 [==============================] - 0s 7ms/step - loss: 0.6836 - accuracy: 0.7351 - val_loss: 0.3658 - val_accuracy: 0.9386\n",
            "Epoch 84/1000\n",
            "25/31 [=======================>......] - ETA: 0s - loss: 0.6781 - accuracy: 0.7412\n",
            "Epoch 84: saving model to model/keypoint_classifier\\keypoint_classifier.hdf5\n",
            "31/31 [==============================] - 0s 5ms/step - loss: 0.6776 - accuracy: 0.7427 - val_loss: 0.3525 - val_accuracy: 0.9469\n",
            "Epoch 85/1000\n",
            "22/31 [====================>.........] - ETA: 0s - loss: 0.6871 - accuracy: 0.7354\n",
            "Epoch 85: saving model to model/keypoint_classifier\\keypoint_classifier.hdf5\n",
            "31/31 [==============================] - 0s 6ms/step - loss: 0.6868 - accuracy: 0.7384 - val_loss: 0.3517 - val_accuracy: 0.9484\n",
            "Epoch 86/1000\n",
            "20/31 [==================>...........] - ETA: 0s - loss: 0.6859 - accuracy: 0.7395\n",
            "Epoch 86: saving model to model/keypoint_classifier\\keypoint_classifier.hdf5\n",
            "31/31 [==============================] - 0s 5ms/step - loss: 0.6887 - accuracy: 0.7399 - val_loss: 0.3458 - val_accuracy: 0.9545\n",
            "Epoch 87/1000\n",
            "23/31 [=====================>........] - ETA: 0s - loss: 0.6739 - accuracy: 0.7452\n",
            "Epoch 87: saving model to model/keypoint_classifier\\keypoint_classifier.hdf5\n",
            "31/31 [==============================] - 0s 6ms/step - loss: 0.6862 - accuracy: 0.7424 - val_loss: 0.3520 - val_accuracy: 0.9454\n",
            "Epoch 88/1000\n",
            "22/31 [====================>.........] - ETA: 0s - loss: 0.6730 - accuracy: 0.7425\n",
            "Epoch 88: saving model to model/keypoint_classifier\\keypoint_classifier.hdf5\n",
            "31/31 [==============================] - 0s 5ms/step - loss: 0.6796 - accuracy: 0.7369 - val_loss: 0.3544 - val_accuracy: 0.9424\n",
            "Epoch 89/1000\n",
            "20/31 [==================>...........] - ETA: 0s - loss: 0.6830 - accuracy: 0.7301\n",
            "Epoch 89: saving model to model/keypoint_classifier\\keypoint_classifier.hdf5\n",
            "31/31 [==============================] - 0s 7ms/step - loss: 0.6891 - accuracy: 0.7326 - val_loss: 0.3478 - val_accuracy: 0.9431\n",
            "Epoch 90/1000\n",
            "23/31 [=====================>........] - ETA: 0s - loss: 0.6887 - accuracy: 0.7330\n",
            "Epoch 90: saving model to model/keypoint_classifier\\keypoint_classifier.hdf5\n",
            "31/31 [==============================] - 0s 5ms/step - loss: 0.6667 - accuracy: 0.7432 - val_loss: 0.3466 - val_accuracy: 0.9447\n",
            "Epoch 91/1000\n",
            "23/31 [=====================>........] - ETA: 0s - loss: 0.6943 - accuracy: 0.7351\n",
            "Epoch 91: saving model to model/keypoint_classifier\\keypoint_classifier.hdf5\n",
            "31/31 [==============================] - 0s 5ms/step - loss: 0.6772 - accuracy: 0.7422 - val_loss: 0.3428 - val_accuracy: 0.9431\n",
            "Epoch 92/1000\n",
            "17/31 [===============>..............] - ETA: 0s - loss: 0.6905 - accuracy: 0.7381\n",
            "Epoch 92: saving model to model/keypoint_classifier\\keypoint_classifier.hdf5\n",
            "31/31 [==============================] - 0s 5ms/step - loss: 0.6881 - accuracy: 0.7381 - val_loss: 0.3384 - val_accuracy: 0.9492\n",
            "Epoch 93/1000\n",
            "21/31 [===================>..........] - ETA: 0s - loss: 0.6752 - accuracy: 0.7470\n",
            "Epoch 93: saving model to model/keypoint_classifier\\keypoint_classifier.hdf5\n",
            "31/31 [==============================] - 0s 6ms/step - loss: 0.6710 - accuracy: 0.7513 - val_loss: 0.3365 - val_accuracy: 0.9462\n",
            "Epoch 94/1000\n",
            "21/31 [===================>..........] - ETA: 0s - loss: 0.6690 - accuracy: 0.7485\n",
            "Epoch 94: saving model to model/keypoint_classifier\\keypoint_classifier.hdf5\n",
            "31/31 [==============================] - 0s 5ms/step - loss: 0.6579 - accuracy: 0.7513 - val_loss: 0.3348 - val_accuracy: 0.9477\n",
            "Epoch 95/1000\n",
            "20/31 [==================>...........] - ETA: 0s - loss: 0.6648 - accuracy: 0.7344\n",
            "Epoch 95: saving model to model/keypoint_classifier\\keypoint_classifier.hdf5\n",
            "31/31 [==============================] - 0s 5ms/step - loss: 0.6742 - accuracy: 0.7369 - val_loss: 0.3376 - val_accuracy: 0.9477\n",
            "Epoch 96/1000\n",
            "18/31 [================>.............] - ETA: 0s - loss: 0.6759 - accuracy: 0.7391\n",
            "Epoch 96: saving model to model/keypoint_classifier\\keypoint_classifier.hdf5\n",
            "31/31 [==============================] - 0s 5ms/step - loss: 0.6789 - accuracy: 0.7414 - val_loss: 0.3419 - val_accuracy: 0.9416\n",
            "Epoch 97/1000\n",
            "20/31 [==================>...........] - ETA: 0s - loss: 0.6644 - accuracy: 0.7500\n",
            "Epoch 97: saving model to model/keypoint_classifier\\keypoint_classifier.hdf5\n",
            "31/31 [==============================] - 0s 6ms/step - loss: 0.6645 - accuracy: 0.7457 - val_loss: 0.3388 - val_accuracy: 0.9454\n",
            "Epoch 98/1000\n",
            "18/31 [================>.............] - ETA: 0s - loss: 0.6922 - accuracy: 0.7322\n",
            "Epoch 98: saving model to model/keypoint_classifier\\keypoint_classifier.hdf5\n",
            "31/31 [==============================] - 0s 5ms/step - loss: 0.6709 - accuracy: 0.7437 - val_loss: 0.3422 - val_accuracy: 0.9454\n",
            "Epoch 99/1000\n",
            "20/31 [==================>...........] - ETA: 0s - loss: 0.6934 - accuracy: 0.7434\n",
            "Epoch 99: saving model to model/keypoint_classifier\\keypoint_classifier.hdf5\n",
            "31/31 [==============================] - 0s 7ms/step - loss: 0.6766 - accuracy: 0.7467 - val_loss: 0.3364 - val_accuracy: 0.9462\n",
            "Epoch 100/1000\n",
            "18/31 [================>.............] - ETA: 0s - loss: 0.6742 - accuracy: 0.7513\n",
            "Epoch 100: saving model to model/keypoint_classifier\\keypoint_classifier.hdf5\n",
            "31/31 [==============================] - 0s 5ms/step - loss: 0.6580 - accuracy: 0.7568 - val_loss: 0.3421 - val_accuracy: 0.9409\n",
            "Epoch 101/1000\n",
            "21/31 [===================>..........] - ETA: 0s - loss: 0.6715 - accuracy: 0.7422\n",
            "Epoch 101: saving model to model/keypoint_classifier\\keypoint_classifier.hdf5\n",
            "31/31 [==============================] - 0s 5ms/step - loss: 0.6612 - accuracy: 0.7462 - val_loss: 0.3313 - val_accuracy: 0.9469\n",
            "Epoch 102/1000\n",
            "19/31 [=================>............] - ETA: 0s - loss: 0.6642 - accuracy: 0.7479\n",
            "Epoch 102: saving model to model/keypoint_classifier\\keypoint_classifier.hdf5\n",
            "31/31 [==============================] - 0s 5ms/step - loss: 0.6486 - accuracy: 0.7576 - val_loss: 0.3339 - val_accuracy: 0.9386\n",
            "Epoch 103/1000\n",
            "21/31 [===================>..........] - ETA: 0s - loss: 0.6632 - accuracy: 0.7600\n",
            "Epoch 103: saving model to model/keypoint_classifier\\keypoint_classifier.hdf5\n",
            "31/31 [==============================] - 0s 5ms/step - loss: 0.6665 - accuracy: 0.7530 - val_loss: 0.3303 - val_accuracy: 0.9424\n",
            "Epoch 104/1000\n",
            "24/31 [======================>.......] - ETA: 0s - loss: 0.6674 - accuracy: 0.7467\n",
            "Epoch 104: saving model to model/keypoint_classifier\\keypoint_classifier.hdf5\n",
            "31/31 [==============================] - 0s 5ms/step - loss: 0.6634 - accuracy: 0.7492 - val_loss: 0.3300 - val_accuracy: 0.9439\n",
            "Epoch 105/1000\n",
            "22/31 [====================>.........] - ETA: 0s - loss: 0.6495 - accuracy: 0.7504\n",
            "Epoch 105: saving model to model/keypoint_classifier\\keypoint_classifier.hdf5\n",
            "31/31 [==============================] - 0s 5ms/step - loss: 0.6728 - accuracy: 0.7394 - val_loss: 0.3286 - val_accuracy: 0.9469\n",
            "Epoch 106/1000\n",
            "19/31 [=================>............] - ETA: 0s - loss: 0.6531 - accuracy: 0.7525\n",
            "Epoch 106: saving model to model/keypoint_classifier\\keypoint_classifier.hdf5\n",
            "31/31 [==============================] - 0s 6ms/step - loss: 0.6598 - accuracy: 0.7513 - val_loss: 0.3283 - val_accuracy: 0.9462\n",
            "Epoch 107/1000\n",
            "18/31 [================>.............] - ETA: 0s - loss: 0.6891 - accuracy: 0.7396\n",
            "Epoch 107: saving model to model/keypoint_classifier\\keypoint_classifier.hdf5\n",
            "31/31 [==============================] - 0s 5ms/step - loss: 0.6833 - accuracy: 0.7437 - val_loss: 0.3342 - val_accuracy: 0.9416\n",
            "Epoch 108/1000\n",
            "27/31 [=========================>....] - ETA: 0s - loss: 0.6615 - accuracy: 0.7523\n",
            "Epoch 108: saving model to model/keypoint_classifier\\keypoint_classifier.hdf5\n",
            "31/31 [==============================] - 0s 7ms/step - loss: 0.6683 - accuracy: 0.7495 - val_loss: 0.3334 - val_accuracy: 0.9439\n",
            "Epoch 109/1000\n",
            "20/31 [==================>...........] - ETA: 0s - loss: 0.6540 - accuracy: 0.7488\n",
            "Epoch 109: saving model to model/keypoint_classifier\\keypoint_classifier.hdf5\n",
            "31/31 [==============================] - 0s 6ms/step - loss: 0.6580 - accuracy: 0.7497 - val_loss: 0.3461 - val_accuracy: 0.9333\n",
            "Epoch 110/1000\n",
            "19/31 [=================>............] - ETA: 0s - loss: 0.6281 - accuracy: 0.7644\n",
            "Epoch 110: saving model to model/keypoint_classifier\\keypoint_classifier.hdf5\n",
            "31/31 [==============================] - 0s 6ms/step - loss: 0.6356 - accuracy: 0.7586 - val_loss: 0.3230 - val_accuracy: 0.9447\n",
            "Epoch 111/1000\n",
            "22/31 [====================>.........] - ETA: 0s - loss: 0.6609 - accuracy: 0.7518\n",
            "Epoch 111: saving model to model/keypoint_classifier\\keypoint_classifier.hdf5\n",
            "31/31 [==============================] - 0s 5ms/step - loss: 0.6648 - accuracy: 0.7510 - val_loss: 0.3249 - val_accuracy: 0.9492\n",
            "Epoch 112/1000\n",
            "18/31 [================>.............] - ETA: 0s - loss: 0.6505 - accuracy: 0.7496\n",
            "Epoch 112: saving model to model/keypoint_classifier\\keypoint_classifier.hdf5\n",
            "31/31 [==============================] - 0s 6ms/step - loss: 0.6514 - accuracy: 0.7503 - val_loss: 0.3218 - val_accuracy: 0.9447\n",
            "Epoch 113/1000\n",
            "21/31 [===================>..........] - ETA: 0s - loss: 0.6439 - accuracy: 0.7630\n",
            "Epoch 113: saving model to model/keypoint_classifier\\keypoint_classifier.hdf5\n",
            "31/31 [==============================] - 0s 5ms/step - loss: 0.6522 - accuracy: 0.7578 - val_loss: 0.3218 - val_accuracy: 0.9431\n",
            "Epoch 114/1000\n",
            "21/31 [===================>..........] - ETA: 0s - loss: 0.6538 - accuracy: 0.7556\n",
            "Epoch 114: saving model to model/keypoint_classifier\\keypoint_classifier.hdf5\n",
            "31/31 [==============================] - 0s 5ms/step - loss: 0.6599 - accuracy: 0.7497 - val_loss: 0.3286 - val_accuracy: 0.9431\n",
            "Epoch 115/1000\n",
            "22/31 [====================>.........] - ETA: 0s - loss: 0.6397 - accuracy: 0.7603\n",
            "Epoch 115: saving model to model/keypoint_classifier\\keypoint_classifier.hdf5\n",
            "31/31 [==============================] - 0s 5ms/step - loss: 0.6470 - accuracy: 0.7538 - val_loss: 0.3236 - val_accuracy: 0.9454\n",
            "Epoch 116/1000\n",
            "18/31 [================>.............] - ETA: 0s - loss: 0.6737 - accuracy: 0.7452\n",
            "Epoch 116: saving model to model/keypoint_classifier\\keypoint_classifier.hdf5\n",
            "31/31 [==============================] - 0s 7ms/step - loss: 0.6578 - accuracy: 0.7470 - val_loss: 0.3222 - val_accuracy: 0.9447\n",
            "Epoch 117/1000\n",
            "23/31 [=====================>........] - ETA: 0s - loss: 0.6602 - accuracy: 0.7418\n",
            "Epoch 117: saving model to model/keypoint_classifier\\keypoint_classifier.hdf5\n",
            "31/31 [==============================] - 0s 4ms/step - loss: 0.6667 - accuracy: 0.7449 - val_loss: 0.3322 - val_accuracy: 0.9409\n",
            "Epoch 118/1000\n",
            "26/31 [========================>.....] - ETA: 0s - loss: 0.6310 - accuracy: 0.7668\n",
            "Epoch 118: saving model to model/keypoint_classifier\\keypoint_classifier.hdf5\n",
            "31/31 [==============================] - 0s 6ms/step - loss: 0.6295 - accuracy: 0.7672 - val_loss: 0.3116 - val_accuracy: 0.9522\n",
            "Epoch 119/1000\n",
            "22/31 [====================>.........] - ETA: 0s - loss: 0.6413 - accuracy: 0.7468\n",
            "Epoch 119: saving model to model/keypoint_classifier\\keypoint_classifier.hdf5\n",
            "31/31 [==============================] - 0s 6ms/step - loss: 0.6415 - accuracy: 0.7508 - val_loss: 0.3153 - val_accuracy: 0.9447\n",
            "Epoch 120/1000\n",
            "18/31 [================>.............] - ETA: 0s - loss: 0.6603 - accuracy: 0.7526\n",
            "Epoch 120: saving model to model/keypoint_classifier\\keypoint_classifier.hdf5\n",
            "31/31 [==============================] - 0s 6ms/step - loss: 0.6388 - accuracy: 0.7621 - val_loss: 0.3150 - val_accuracy: 0.9424\n",
            "Epoch 121/1000\n",
            "24/31 [======================>.......] - ETA: 0s - loss: 0.6350 - accuracy: 0.7572\n",
            "Epoch 121: saving model to model/keypoint_classifier\\keypoint_classifier.hdf5\n",
            "31/31 [==============================] - 0s 6ms/step - loss: 0.6513 - accuracy: 0.7500 - val_loss: 0.3112 - val_accuracy: 0.9469\n",
            "Epoch 122/1000\n",
            "30/31 [============================>.] - ETA: 0s - loss: 0.6509 - accuracy: 0.7549\n",
            "Epoch 122: saving model to model/keypoint_classifier\\keypoint_classifier.hdf5\n",
            "31/31 [==============================] - 0s 4ms/step - loss: 0.6480 - accuracy: 0.7556 - val_loss: 0.3137 - val_accuracy: 0.9447\n",
            "Epoch 123/1000\n",
            "26/31 [========================>.....] - ETA: 0s - loss: 0.6417 - accuracy: 0.7620\n",
            "Epoch 123: saving model to model/keypoint_classifier\\keypoint_classifier.hdf5\n",
            "31/31 [==============================] - 0s 4ms/step - loss: 0.6432 - accuracy: 0.7578 - val_loss: 0.3223 - val_accuracy: 0.9416\n",
            "Epoch 124/1000\n",
            "17/31 [===============>..............] - ETA: 0s - loss: 0.6558 - accuracy: 0.7362\n",
            "Epoch 124: saving model to model/keypoint_classifier\\keypoint_classifier.hdf5\n",
            "31/31 [==============================] - 0s 7ms/step - loss: 0.6687 - accuracy: 0.7401 - val_loss: 0.3272 - val_accuracy: 0.9401\n",
            "Epoch 125/1000\n",
            "21/31 [===================>..........] - ETA: 0s - loss: 0.6417 - accuracy: 0.7660\n",
            "Epoch 125: saving model to model/keypoint_classifier\\keypoint_classifier.hdf5\n",
            "31/31 [==============================] - 0s 5ms/step - loss: 0.6421 - accuracy: 0.7637 - val_loss: 0.3137 - val_accuracy: 0.9469\n",
            "Epoch 126/1000\n",
            "23/31 [=====================>........] - ETA: 0s - loss: 0.6565 - accuracy: 0.7561\n",
            "Epoch 126: saving model to model/keypoint_classifier\\keypoint_classifier.hdf5\n",
            "31/31 [==============================] - 0s 7ms/step - loss: 0.6546 - accuracy: 0.7530 - val_loss: 0.3176 - val_accuracy: 0.9484\n",
            "Epoch 127/1000\n",
            "27/31 [=========================>....] - ETA: 0s - loss: 0.6504 - accuracy: 0.7581\n",
            "Epoch 127: saving model to model/keypoint_classifier\\keypoint_classifier.hdf5\n",
            "31/31 [==============================] - 0s 5ms/step - loss: 0.6437 - accuracy: 0.7594 - val_loss: 0.3176 - val_accuracy: 0.9462\n",
            "Epoch 128/1000\n",
            "19/31 [=================>............] - ETA: 0s - loss: 0.6363 - accuracy: 0.7574\n",
            "Epoch 128: saving model to model/keypoint_classifier\\keypoint_classifier.hdf5\n",
            "31/31 [==============================] - 0s 6ms/step - loss: 0.6462 - accuracy: 0.7588 - val_loss: 0.3083 - val_accuracy: 0.9462\n",
            "Epoch 129/1000\n",
            "21/31 [===================>..........] - ETA: 0s - loss: 0.6481 - accuracy: 0.7556\n",
            "Epoch 129: saving model to model/keypoint_classifier\\keypoint_classifier.hdf5\n",
            "31/31 [==============================] - 0s 5ms/step - loss: 0.6453 - accuracy: 0.7548 - val_loss: 0.3149 - val_accuracy: 0.9424\n",
            "Epoch 130/1000\n",
            "21/31 [===================>..........] - ETA: 0s - loss: 0.6424 - accuracy: 0.7548\n",
            "Epoch 130: saving model to model/keypoint_classifier\\keypoint_classifier.hdf5\n",
            "31/31 [==============================] - 0s 11ms/step - loss: 0.6354 - accuracy: 0.7568 - val_loss: 0.3117 - val_accuracy: 0.9469\n",
            "Epoch 131/1000\n",
            "30/31 [============================>.] - ETA: 0s - loss: 0.6659 - accuracy: 0.7568\n",
            "Epoch 131: saving model to model/keypoint_classifier\\keypoint_classifier.hdf5\n",
            "31/31 [==============================] - 0s 16ms/step - loss: 0.6657 - accuracy: 0.7563 - val_loss: 0.3105 - val_accuracy: 0.9469\n",
            "Epoch 132/1000\n",
            "21/31 [===================>..........] - ETA: 0s - loss: 0.6440 - accuracy: 0.7526\n",
            "Epoch 132: saving model to model/keypoint_classifier\\keypoint_classifier.hdf5\n",
            "31/31 [==============================] - 0s 6ms/step - loss: 0.6440 - accuracy: 0.7523 - val_loss: 0.3070 - val_accuracy: 0.9500\n",
            "Epoch 133/1000\n",
            "26/31 [========================>.....] - ETA: 0s - loss: 0.6406 - accuracy: 0.7635\n",
            "Epoch 133: saving model to model/keypoint_classifier\\keypoint_classifier.hdf5\n",
            "31/31 [==============================] - 0s 4ms/step - loss: 0.6419 - accuracy: 0.7616 - val_loss: 0.3167 - val_accuracy: 0.9401\n",
            "Epoch 134/1000\n",
            "20/31 [==================>...........] - ETA: 0s - loss: 0.6811 - accuracy: 0.7535\n",
            "Epoch 134: saving model to model/keypoint_classifier\\keypoint_classifier.hdf5\n",
            "31/31 [==============================] - 0s 5ms/step - loss: 0.6585 - accuracy: 0.7583 - val_loss: 0.3165 - val_accuracy: 0.9454\n",
            "Epoch 135/1000\n",
            "18/31 [================>.............] - ETA: 0s - loss: 0.6129 - accuracy: 0.7687\n",
            "Epoch 135: saving model to model/keypoint_classifier\\keypoint_classifier.hdf5\n",
            "31/31 [==============================] - 0s 6ms/step - loss: 0.6322 - accuracy: 0.7631 - val_loss: 0.3141 - val_accuracy: 0.9439\n",
            "Epoch 136/1000\n",
            "27/31 [=========================>....] - ETA: 0s - loss: 0.6209 - accuracy: 0.7688\n",
            "Epoch 136: saving model to model/keypoint_classifier\\keypoint_classifier.hdf5\n",
            "31/31 [==============================] - 0s 7ms/step - loss: 0.6199 - accuracy: 0.7705 - val_loss: 0.3102 - val_accuracy: 0.9424\n",
            "Epoch 137/1000\n",
            "21/31 [===================>..........] - ETA: 0s - loss: 0.6384 - accuracy: 0.7615\n",
            "Epoch 137: saving model to model/keypoint_classifier\\keypoint_classifier.hdf5\n",
            "31/31 [==============================] - 0s 7ms/step - loss: 0.6256 - accuracy: 0.7654 - val_loss: 0.3025 - val_accuracy: 0.9484\n",
            "Epoch 138/1000\n",
            "17/31 [===============>..............] - ETA: 0s - loss: 0.6268 - accuracy: 0.7693\n",
            "Epoch 138: saving model to model/keypoint_classifier\\keypoint_classifier.hdf5\n",
            "31/31 [==============================] - 0s 6ms/step - loss: 0.6355 - accuracy: 0.7571 - val_loss: 0.3077 - val_accuracy: 0.9447\n",
            "Epoch 139/1000\n",
            "21/31 [===================>..........] - ETA: 0s - loss: 0.6362 - accuracy: 0.7686\n",
            "Epoch 139: saving model to model/keypoint_classifier\\keypoint_classifier.hdf5\n",
            "31/31 [==============================] - 0s 5ms/step - loss: 0.6395 - accuracy: 0.7604 - val_loss: 0.3108 - val_accuracy: 0.9469\n",
            "Epoch 140/1000\n",
            "30/31 [============================>.] - ETA: 0s - loss: 0.6411 - accuracy: 0.7586\n",
            "Epoch 140: saving model to model/keypoint_classifier\\keypoint_classifier.hdf5\n",
            "31/31 [==============================] - 0s 8ms/step - loss: 0.6393 - accuracy: 0.7599 - val_loss: 0.3041 - val_accuracy: 0.9469\n",
            "Epoch 141/1000\n",
            "17/31 [===============>..............] - ETA: 0s - loss: 0.6548 - accuracy: 0.7482\n",
            "Epoch 141: saving model to model/keypoint_classifier\\keypoint_classifier.hdf5\n",
            "31/31 [==============================] - 0s 6ms/step - loss: 0.6445 - accuracy: 0.7540 - val_loss: 0.3208 - val_accuracy: 0.9409\n",
            "Epoch 142/1000\n",
            "18/31 [================>.............] - ETA: 0s - loss: 0.6695 - accuracy: 0.7522\n",
            "Epoch 142: saving model to model/keypoint_classifier\\keypoint_classifier.hdf5\n",
            "31/31 [==============================] - 0s 6ms/step - loss: 0.6479 - accuracy: 0.7568 - val_loss: 0.3156 - val_accuracy: 0.9393\n",
            "Epoch 143/1000\n",
            "22/31 [====================>.........] - ETA: 0s - loss: 0.6243 - accuracy: 0.7667\n",
            "Epoch 143: saving model to model/keypoint_classifier\\keypoint_classifier.hdf5\n",
            "31/31 [==============================] - 0s 6ms/step - loss: 0.6304 - accuracy: 0.7679 - val_loss: 0.3073 - val_accuracy: 0.9439\n",
            "Epoch 144/1000\n",
            "21/31 [===================>..........] - ETA: 0s - loss: 0.6288 - accuracy: 0.7772\n",
            "Epoch 144: saving model to model/keypoint_classifier\\keypoint_classifier.hdf5\n",
            "31/31 [==============================] - 0s 5ms/step - loss: 0.6186 - accuracy: 0.7733 - val_loss: 0.3087 - val_accuracy: 0.9431\n",
            "Epoch 145/1000\n",
            "13/31 [===========>..................] - ETA: 0s - loss: 0.6288 - accuracy: 0.7590\n",
            "Epoch 145: saving model to model/keypoint_classifier\\keypoint_classifier.hdf5\n",
            "31/31 [==============================] - 0s 7ms/step - loss: 0.6358 - accuracy: 0.7588 - val_loss: 0.3100 - val_accuracy: 0.9409\n",
            "Epoch 146/1000\n",
            "21/31 [===================>..........] - ETA: 0s - loss: 0.6424 - accuracy: 0.7597\n",
            "Epoch 146: saving model to model/keypoint_classifier\\keypoint_classifier.hdf5\n",
            "31/31 [==============================] - 0s 6ms/step - loss: 0.6446 - accuracy: 0.7581 - val_loss: 0.3079 - val_accuracy: 0.9477\n",
            "Epoch 147/1000\n",
            "30/31 [============================>.] - ETA: 0s - loss: 0.6076 - accuracy: 0.7771\n",
            "Epoch 147: saving model to model/keypoint_classifier\\keypoint_classifier.hdf5\n",
            "31/31 [==============================] - 0s 7ms/step - loss: 0.6136 - accuracy: 0.7740 - val_loss: 0.3069 - val_accuracy: 0.9431\n",
            "Epoch 148/1000\n",
            "23/31 [=====================>........] - ETA: 0s - loss: 0.6328 - accuracy: 0.7680\n",
            "Epoch 148: saving model to model/keypoint_classifier\\keypoint_classifier.hdf5\n",
            "31/31 [==============================] - 0s 6ms/step - loss: 0.6292 - accuracy: 0.7685 - val_loss: 0.3042 - val_accuracy: 0.9431\n",
            "Epoch 149/1000\n",
            "18/31 [================>.............] - ETA: 0s - loss: 0.6029 - accuracy: 0.7691\n",
            "Epoch 149: saving model to model/keypoint_classifier\\keypoint_classifier.hdf5\n",
            "31/31 [==============================] - 0s 7ms/step - loss: 0.6098 - accuracy: 0.7692 - val_loss: 0.2989 - val_accuracy: 0.9538\n",
            "Epoch 150/1000\n",
            "19/31 [=================>............] - ETA: 0s - loss: 0.6155 - accuracy: 0.7566\n",
            "Epoch 150: saving model to model/keypoint_classifier\\keypoint_classifier.hdf5\n",
            "31/31 [==============================] - 0s 6ms/step - loss: 0.6212 - accuracy: 0.7631 - val_loss: 0.3017 - val_accuracy: 0.9507\n",
            "Epoch 151/1000\n",
            "26/31 [========================>.....] - ETA: 0s - loss: 0.6317 - accuracy: 0.7518\n",
            "Epoch 151: saving model to model/keypoint_classifier\\keypoint_classifier.hdf5\n",
            "31/31 [==============================] - 0s 5ms/step - loss: 0.6286 - accuracy: 0.7561 - val_loss: 0.3048 - val_accuracy: 0.9492\n",
            "Epoch 152/1000\n",
            "20/31 [==================>...........] - ETA: 0s - loss: 0.6075 - accuracy: 0.7762\n",
            "Epoch 152: saving model to model/keypoint_classifier\\keypoint_classifier.hdf5\n",
            "31/31 [==============================] - 0s 10ms/step - loss: 0.6252 - accuracy: 0.7685 - val_loss: 0.3019 - val_accuracy: 0.9462\n",
            "Epoch 153/1000\n",
            "21/31 [===================>..........] - ETA: 0s - loss: 0.6157 - accuracy: 0.7757\n",
            "Epoch 153: saving model to model/keypoint_classifier\\keypoint_classifier.hdf5\n",
            "31/31 [==============================] - 0s 6ms/step - loss: 0.6063 - accuracy: 0.7743 - val_loss: 0.2889 - val_accuracy: 0.9477\n",
            "Epoch 154/1000\n",
            "18/31 [================>.............] - ETA: 0s - loss: 0.6122 - accuracy: 0.7739\n",
            "Epoch 154: saving model to model/keypoint_classifier\\keypoint_classifier.hdf5\n",
            "31/31 [==============================] - 0s 6ms/step - loss: 0.6194 - accuracy: 0.7672 - val_loss: 0.2969 - val_accuracy: 0.9454\n",
            "Epoch 155/1000\n",
            "14/31 [============>.................] - ETA: 0s - loss: 0.6149 - accuracy: 0.7723\n",
            "Epoch 155: saving model to model/keypoint_classifier\\keypoint_classifier.hdf5\n",
            "31/31 [==============================] - 0s 7ms/step - loss: 0.6277 - accuracy: 0.7674 - val_loss: 0.2936 - val_accuracy: 0.9500\n",
            "Epoch 156/1000\n",
            "19/31 [=================>............] - ETA: 0s - loss: 0.6124 - accuracy: 0.7706\n",
            "Epoch 156: saving model to model/keypoint_classifier\\keypoint_classifier.hdf5\n",
            "31/31 [==============================] - 0s 6ms/step - loss: 0.5980 - accuracy: 0.7765 - val_loss: 0.2889 - val_accuracy: 0.9507\n",
            "Epoch 157/1000\n",
            "13/31 [===========>..................] - ETA: 0s - loss: 0.6308 - accuracy: 0.7686\n",
            "Epoch 157: saving model to model/keypoint_classifier\\keypoint_classifier.hdf5\n",
            "31/31 [==============================] - 0s 6ms/step - loss: 0.6253 - accuracy: 0.7679 - val_loss: 0.2908 - val_accuracy: 0.9530\n",
            "Epoch 158/1000\n",
            "17/31 [===============>..............] - ETA: 0s - loss: 0.6510 - accuracy: 0.7652\n",
            "Epoch 158: saving model to model/keypoint_classifier\\keypoint_classifier.hdf5\n",
            "31/31 [==============================] - 0s 7ms/step - loss: 0.6408 - accuracy: 0.7654 - val_loss: 0.3070 - val_accuracy: 0.9424\n",
            "Epoch 159/1000\n",
            "22/31 [====================>.........] - ETA: 0s - loss: 0.5982 - accuracy: 0.7827\n",
            "Epoch 159: saving model to model/keypoint_classifier\\keypoint_classifier.hdf5\n",
            "31/31 [==============================] - 0s 6ms/step - loss: 0.6091 - accuracy: 0.7740 - val_loss: 0.2897 - val_accuracy: 0.9507\n",
            "Epoch 160/1000\n",
            "19/31 [=================>............] - ETA: 0s - loss: 0.6315 - accuracy: 0.7541\n",
            "Epoch 160: saving model to model/keypoint_classifier\\keypoint_classifier.hdf5\n",
            "31/31 [==============================] - 0s 6ms/step - loss: 0.6240 - accuracy: 0.7609 - val_loss: 0.2896 - val_accuracy: 0.9507\n",
            "Epoch 161/1000\n",
            "27/31 [=========================>....] - ETA: 0s - loss: 0.6123 - accuracy: 0.7627\n",
            "Epoch 161: saving model to model/keypoint_classifier\\keypoint_classifier.hdf5\n",
            "31/31 [==============================] - 0s 7ms/step - loss: 0.6231 - accuracy: 0.7561 - val_loss: 0.2984 - val_accuracy: 0.9477\n",
            "Epoch 162/1000\n",
            "21/31 [===================>..........] - ETA: 0s - loss: 0.6252 - accuracy: 0.7716\n",
            "Epoch 162: saving model to model/keypoint_classifier\\keypoint_classifier.hdf5\n",
            "31/31 [==============================] - 0s 8ms/step - loss: 0.6135 - accuracy: 0.7725 - val_loss: 0.2984 - val_accuracy: 0.9500\n",
            "Epoch 163/1000\n",
            "21/31 [===================>..........] - ETA: 0s - loss: 0.6373 - accuracy: 0.7589\n",
            "Epoch 163: saving model to model/keypoint_classifier\\keypoint_classifier.hdf5\n",
            "31/31 [==============================] - 0s 6ms/step - loss: 0.6264 - accuracy: 0.7647 - val_loss: 0.2910 - val_accuracy: 0.9507\n",
            "Epoch 164/1000\n",
            "20/31 [==================>...........] - ETA: 0s - loss: 0.6403 - accuracy: 0.7688\n",
            "Epoch 164: saving model to model/keypoint_classifier\\keypoint_classifier.hdf5\n",
            "31/31 [==============================] - 0s 6ms/step - loss: 0.6490 - accuracy: 0.7629 - val_loss: 0.3011 - val_accuracy: 0.9484\n",
            "Epoch 165/1000\n",
            "17/31 [===============>..............] - ETA: 0s - loss: 0.6387 - accuracy: 0.7555\n",
            "Epoch 165: saving model to model/keypoint_classifier\\keypoint_classifier.hdf5\n",
            "31/31 [==============================] - 0s 7ms/step - loss: 0.6286 - accuracy: 0.7591 - val_loss: 0.3006 - val_accuracy: 0.9462\n",
            "Epoch 166/1000\n",
            "23/31 [=====================>........] - ETA: 0s - loss: 0.6258 - accuracy: 0.7663\n",
            "Epoch 166: saving model to model/keypoint_classifier\\keypoint_classifier.hdf5\n",
            "31/31 [==============================] - 0s 7ms/step - loss: 0.6329 - accuracy: 0.7672 - val_loss: 0.3045 - val_accuracy: 0.9416\n",
            "Epoch 167/1000\n",
            "31/31 [==============================] - ETA: 0s - loss: 0.6251 - accuracy: 0.7667\n",
            "Epoch 167: saving model to model/keypoint_classifier\\keypoint_classifier.hdf5\n",
            "31/31 [==============================] - 0s 7ms/step - loss: 0.6251 - accuracy: 0.7667 - val_loss: 0.3000 - val_accuracy: 0.9500\n",
            "Epoch 168/1000\n",
            "24/31 [======================>.......] - ETA: 0s - loss: 0.6298 - accuracy: 0.7673\n",
            "Epoch 168: saving model to model/keypoint_classifier\\keypoint_classifier.hdf5\n",
            "31/31 [==============================] - 0s 8ms/step - loss: 0.6307 - accuracy: 0.7647 - val_loss: 0.2965 - val_accuracy: 0.9507\n",
            "Epoch 169/1000\n",
            "25/31 [=======================>......] - ETA: 0s - loss: 0.6292 - accuracy: 0.7597\n",
            "Epoch 169: saving model to model/keypoint_classifier\\keypoint_classifier.hdf5\n",
            "31/31 [==============================] - 0s 5ms/step - loss: 0.6301 - accuracy: 0.7619 - val_loss: 0.3011 - val_accuracy: 0.9462\n",
            "Epoch 170/1000\n",
            "25/31 [=======================>......] - ETA: 0s - loss: 0.6336 - accuracy: 0.7681\n",
            "Epoch 170: saving model to model/keypoint_classifier\\keypoint_classifier.hdf5\n",
            "31/31 [==============================] - 0s 5ms/step - loss: 0.6358 - accuracy: 0.7667 - val_loss: 0.2987 - val_accuracy: 0.9469\n",
            "Epoch 171/1000\n",
            "30/31 [============================>.] - ETA: 0s - loss: 0.6246 - accuracy: 0.7589\n",
            "Epoch 171: saving model to model/keypoint_classifier\\keypoint_classifier.hdf5\n",
            "31/31 [==============================] - 0s 4ms/step - loss: 0.6226 - accuracy: 0.7606 - val_loss: 0.2998 - val_accuracy: 0.9447\n",
            "Epoch 172/1000\n",
            "22/31 [====================>.........] - ETA: 0s - loss: 0.6179 - accuracy: 0.7607\n",
            "Epoch 172: saving model to model/keypoint_classifier\\keypoint_classifier.hdf5\n",
            "31/31 [==============================] - 0s 5ms/step - loss: 0.6259 - accuracy: 0.7601 - val_loss: 0.3019 - val_accuracy: 0.9431\n",
            "Epoch 173/1000\n",
            "21/31 [===================>..........] - ETA: 0s - loss: 0.6266 - accuracy: 0.7645\n",
            "Epoch 173: saving model to model/keypoint_classifier\\keypoint_classifier.hdf5\n",
            "31/31 [==============================] - 0s 6ms/step - loss: 0.6349 - accuracy: 0.7611 - val_loss: 0.2965 - val_accuracy: 0.9484\n",
            "Epoch 173: early stopping\n"
          ]
        },
        {
          "data": {
            "text/plain": [
              "<keras.src.callbacks.History at 0x26c0e1f4610>"
            ]
          },
          "execution_count": 176,
          "metadata": {},
          "output_type": "execute_result"
        }
      ],
      "source": [
        "model.fit(\n",
        "    X_train,\n",
        "    y_train,\n",
        "    epochs=1000,\n",
        "    batch_size=128,\n",
        "    validation_data=(X_test, y_test),\n",
        "    callbacks=[cp_callback, es_callback]\n",
        ")"
      ]
    },
    {
      "cell_type": "code",
      "execution_count": 177,
      "metadata": {
        "colab": {
          "base_uri": "https://localhost:8080/"
        },
        "id": "pxvb2Y299hE3",
        "outputId": "59eb3185-2e37-4b9e-bc9d-ab1b8ac29b7f"
      },
      "outputs": [
        {
          "name": "stdout",
          "output_type": "stream",
          "text": [
            "11/11 [==============================] - 0s 2ms/step - loss: 0.2965 - accuracy: 0.9484\n"
          ]
        }
      ],
      "source": [
        "# Model evaluation\n",
        "val_loss, val_acc = model.evaluate(X_test, y_test, batch_size=128)"
      ]
    },
    {
      "cell_type": "code",
      "execution_count": 178,
      "metadata": {
        "id": "RBkmDeUW9hE4"
      },
      "outputs": [],
      "source": [
        "# Loading the saved model\n",
        "model = tf.keras.models.load_model(model_save_path)"
      ]
    },
    {
      "cell_type": "code",
      "execution_count": 179,
      "metadata": {
        "colab": {
          "base_uri": "https://localhost:8080/"
        },
        "id": "tFz9Tb0I9hE4",
        "outputId": "1c3b3528-54ae-4ee2-ab04-77429211cbef"
      },
      "outputs": [
        {
          "name": "stdout",
          "output_type": "stream",
          "text": [
            "1/1 [==============================] - 0s 62ms/step\n",
            "[9.7577828e-01 2.4008870e-02 8.8643013e-05 2.9196312e-05 9.4554562e-05\n",
            " 4.3589665e-07]\n",
            "0\n"
          ]
        }
      ],
      "source": [
        "# Inference test\n",
        "predict_result = model.predict(np.array([X_test[0]]))\n",
        "print(np.squeeze(predict_result))\n",
        "print(np.argmax(np.squeeze(predict_result)))"
      ]
    },
    {
      "cell_type": "markdown",
      "metadata": {
        "id": "S3U4yNWx9hE4"
      },
      "source": [
        "# Confusion matrix"
      ]
    },
    {
      "cell_type": "code",
      "execution_count": 180,
      "metadata": {
        "colab": {
          "base_uri": "https://localhost:8080/",
          "height": 582
        },
        "id": "AP1V6SCk9hE5",
        "outputId": "08e41a80-7a4a-4619-8125-ecc371368d19"
      },
      "outputs": [
        {
          "name": "stdout",
          "output_type": "stream",
          "text": [
            "42/42 [==============================] - 0s 2ms/step\n"
          ]
        },
        {
          "data": {
            "image/png": "[encoded data removed]",
            "text/plain": [
              "<Figure size 700x600 with 2 Axes>"
            ]
          },
          "metadata": {},
          "output_type": "display_data"
        },
        {
          "name": "stdout",
          "output_type": "stream",
          "text": [
            "Classification Report\n",
            "              precision    recall  f1-score   support\n",
            "\n",
            "           0       0.98      0.97      0.97       406\n",
            "           1       0.89      0.96      0.92       365\n",
            "           2       0.96      0.99      0.97       344\n",
            "           3       1.00      0.96      0.98        78\n",
            "           4       1.00      0.94      0.97        62\n",
            "           5       1.00      0.53      0.69        64\n",
            "\n",
            "    accuracy                           0.95      1319\n",
            "   macro avg       0.97      0.89      0.92      1319\n",
            "weighted avg       0.95      0.95      0.95      1319\n",
            "\n"
          ]
        }
      ],
      "source": [
        "import pandas as pd\n",
        "import seaborn as sns\n",
        "import matplotlib.pyplot as plt\n",
        "from sklearn.metrics import confusion_matrix, classification_report\n",
        "\n",
        "def print_confusion_matrix(y_true, y_pred, report=True):\n",
        "    labels = sorted(list(set(y_true)))\n",
        "    cmx_data = confusion_matrix(y_true, y_pred, labels=labels)\n",
        "    \n",
        "    df_cmx = pd.DataFrame(cmx_data, index=labels, columns=labels)\n",
        " \n",
        "    fig, ax = plt.subplots(figsize=(7, 6))\n",
        "    sns.heatmap(df_cmx, annot=True, fmt='g' ,square=False)\n",
        "    ax.set_ylim(len(set(y_true)), 0)\n",
        "    plt.show()\n",
        "    \n",
        "    if report:\n",
        "        print('Classification Report')\n",
        "        print(classification_report(y_test, y_pred))\n",
        "\n",
        "Y_pred = model.predict(X_test)\n",
        "y_pred = np.argmax(Y_pred, axis=1)\n",
        "\n",
        "print_confusion_matrix(y_test, y_pred)"
      ]
    },
    {
      "cell_type": "markdown",
      "metadata": {
        "id": "FNP6aqzc9hE5"
      },
      "source": [
        "# Convert to model for Tensorflow-Lite"
      ]
    },
    {
      "cell_type": "code",
      "execution_count": 181,
      "metadata": {
        "id": "ODjnYyld9hE6"
      },
      "outputs": [
        {
          "name": "stderr",
          "output_type": "stream",
          "text": [
            "C:\\Users\\Abhishek Gupta\\AppData\\Roaming\\Python\\Python311\\site-packages\\keras\\src\\engine\\training.py:3103: UserWarning: You are saving your model as an HDF5 file via `model.save()`. This file format is considered legacy. We recommend using instead the native Keras format, e.g. `model.save('my_model.keras')`.\n",
            "  saving_api.save_model(\n"
          ]
        }
      ],
      "source": [
        "# Save as a model dedicated to inference\n",
        "model.save(model_save_path, include_optimizer=False)"
      ]
    },
    {
      "cell_type": "code",
      "execution_count": 182,
      "metadata": {
        "colab": {
          "base_uri": "https://localhost:8080/"
        },
        "id": "zRfuK8Y59hE6",
        "outputId": "a4ca585c-b5d5-4244-8291-8674063209bb"
      },
      "outputs": [
        {
          "name": "stdout",
          "output_type": "stream",
          "text": [
            "INFO:tensorflow:Assets written to: C:\\Users\\ABHISH~1\\AppData\\Local\\Temp\\tmpx6fzzqc7\\assets\n"
          ]
        },
        {
          "name": "stderr",
          "output_type": "stream",
          "text": [
            "INFO:tensorflow:Assets written to: C:\\Users\\ABHISH~1\\AppData\\Local\\Temp\\tmpx6fzzqc7\\assets\n"
          ]
        },
        {
          "data": {
            "text/plain": [
              "6696"
            ]
          },
          "execution_count": 182,
          "metadata": {},
          "output_type": "execute_result"
        }
      ],
      "source": [
        "# Transform model (quantization)\n",
        "\n",
        "converter = tf.lite.TFLiteConverter.from_keras_model(model)\n",
        "converter.optimizations = [tf.lite.Optimize.DEFAULT]\n",
        "tflite_quantized_model = converter.convert()\n",
        "\n",
        "open(tflite_save_path, 'wb').write(tflite_quantized_model)"
      ]
    },
    {
      "cell_type": "markdown",
      "metadata": {
        "id": "CHBPBXdx9hE6"
      },
      "source": [
        "# Inference test"
      ]
    },
    {
      "cell_type": "code",
      "execution_count": 183,
      "metadata": {
        "id": "mGAzLocO9hE7"
      },
      "outputs": [],
      "source": [
        "interpreter = tf.lite.Interpreter(model_path=tflite_save_path)\n",
        "interpreter.allocate_tensors()"
      ]
    },
    {
      "cell_type": "code",
      "execution_count": 184,
      "metadata": {
        "id": "oQuDK8YS9hE7"
      },
      "outputs": [],
      "source": [
        "# Get I / O tensor\n",
        "input_details = interpreter.get_input_details()\n",
        "output_details = interpreter.get_output_details()"
      ]
    },
    {
      "cell_type": "code",
      "execution_count": 185,
      "metadata": {
        "id": "2_ixAf_l9hE7"
      },
      "outputs": [],
      "source": [
        "interpreter.set_tensor(input_details[0]['index'], np.array([X_test[0]]))"
      ]
    },
    {
      "cell_type": "code",
      "execution_count": 186,
      "metadata": {
        "colab": {
          "base_uri": "https://localhost:8080/"
        },
        "id": "s4FoAnuc9hE7",
        "outputId": "91f18257-8d8b-4ef3-c558-e9b5f94fabbf",
        "scrolled": true
      },
      "outputs": [
        {
          "name": "stdout",
          "output_type": "stream",
          "text": [
            "CPU times: total: 0 ns\n",
            "Wall time: 0 ns\n"
          ]
        }
      ],
      "source": [
        "%%time\n",
        "# Inference implementation\n",
        "interpreter.invoke()\n",
        "tflite_results = interpreter.get_tensor(output_details[0]['index'])"
      ]
    },
    {
      "cell_type": "code",
      "execution_count": 187,
      "metadata": {
        "colab": {
          "base_uri": "https://localhost:8080/"
        },
        "id": "vONjp19J9hE8",
        "outputId": "77205e24-fd00-42c4-f7b6-e06e527c2cba"
      },
      "outputs": [
        {
          "name": "stdout",
          "output_type": "stream",
          "text": [
            "[9.7577828e-01 2.4008863e-02 8.8643006e-05 2.9196255e-05 9.4554372e-05\n",
            " 4.3589625e-07]\n",
            "0\n"
          ]
        }
      ],
      "source": [
        "print(np.squeeze(tflite_results))\n",
        "print(np.argmax(np.squeeze(tflite_results)))"
      ]
    }
  ],
  "metadata": {
    "accelerator": "GPU",
    "colab": {
      "collapsed_sections": [],
      "name": "keypoint_classification_EN.ipynb",
      "provenance": [],
      "toc_visible": true
    },
    "kernelspec": {
      "display_name": "Python 3",
      "language": "python",
      "name": "python3"
    },
    "language_info": {
      "codemirror_mode": {
        "name": "ipython",
        "version": 3
      },
      "file_extension": ".py",
      "mimetype": "text/x-python",
      "name": "python",
      "nbconvert_exporter": "python",
      "pygments_lexer": "ipython3",
      "version": "3.11.1"
    }
  },
  "nbformat": 4,
  "nbformat_minor": 0
}
